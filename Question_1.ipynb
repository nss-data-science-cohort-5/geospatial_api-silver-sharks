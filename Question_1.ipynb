{
 "cells": [
  {
   "cell_type": "code",
   "execution_count": 22,
   "id": "54bfb467",
   "metadata": {},
   "outputs": [],
   "source": [
    "import requests\n",
    "import matplotlib.pyplot as plt\n",
    "from IPython.display import Image\n",
    "import pandas as pd\n",
    "import json\n",
    "import geopandas as gpd\n",
    "import folium\n",
    "from folium.plugins import MarkerCluster\n",
    "from folium.plugins import FastMarkerCluster\n",
    "from shapely.geometry import Point\n",
    "import numpy as np"
   ]
  },
  {
   "cell_type": "markdown",
   "id": "09157c53",
   "metadata": {},
   "source": [
    "### Establishing endpoint and parameters, submit api request, and converting to json"
   ]
  },
  {
   "cell_type": "code",
   "execution_count": 23,
   "id": "53103c00",
   "metadata": {
    "scrolled": true
   },
   "outputs": [],
   "source": [
    "endpoint = \"https://data.nashville.gov/resource/2u6v-ujjs.json?$limit=50000\"\n",
    "\n",
    "params = {'$where' : \"incident_reported between '2021-01-13T00:00:00.000' and '2021-06-30T00:00:00.000'\", \n",
    "}"
   ]
  },
  {
   "cell_type": "code",
   "execution_count": 24,
   "id": "c01a0993",
   "metadata": {},
   "outputs": [],
   "source": [
    "response = requests.get(endpoint, params)"
   ]
  },
  {
   "cell_type": "code",
   "execution_count": 25,
   "id": "8e7950c9",
   "metadata": {},
   "outputs": [],
   "source": [
    "res = response.json()"
   ]
  },
  {
   "cell_type": "markdown",
   "id": "93430f25",
   "metadata": {},
   "source": [
    "### Converting response to a dataframe and cleanup"
   ]
  },
  {
   "cell_type": "code",
   "execution_count": 41,
   "id": "34c9e978",
   "metadata": {
    "scrolled": false
   },
   "outputs": [
    {
     "name": "stdout",
     "output_type": "stream",
     "text": [
      "(48921, 5)\n",
      "(984, 5)\n",
      "(775, 5)\n"
     ]
    }
   ],
   "source": [
    "#converts response to dataframe with desired columns\n",
    "res_trimmed = (pd.DataFrame(res, columns=['incident_reported', \n",
    "                                          'incident_number',\n",
    "                                          'offense_description', \n",
    "                                          'latitude', \n",
    "                                          'longitude']))\n",
    "\n",
    "#fixes incident reports to include only date in YYYY-MM-DD format\n",
    "res_trimmed['incident_reported'] = (res_trimmed['incident_reported']\n",
    "                                    .str.split(\"T\", expand=True)[0])\n",
    "print(res_trimmed.shape)\n",
    "#trims dataframe to only contain offense_description of burglary\n",
    "burglary_reports = (res_trimmed[res_trimmed['offense_description']\n",
    "                                .str.contains('BURGLARY- AGGRAVATED')])\n",
    "print(burglary_reports.shape)\n",
    "burglary_reports.drop_duplicates(subset='incident_number', inplace=True)\n",
    "\n",
    "print(burglary_reports.shape)"
   ]
  },
  {
   "cell_type": "code",
   "execution_count": 42,
   "id": "3ef8aca7",
   "metadata": {
    "scrolled": true
   },
   "outputs": [
    {
     "name": "stderr",
     "output_type": "stream",
     "text": [
      "C:\\Users\\Conrad\\anaconda3\\envs\\geospatial\\lib\\site-packages\\pandas\\core\\frame.py:3641: SettingWithCopyWarning: \n",
      "A value is trying to be set on a copy of a slice from a DataFrame.\n",
      "Try using .loc[row_indexer,col_indexer] = value instead\n",
      "\n",
      "See the caveats in the documentation: https://pandas.pydata.org/pandas-docs/stable/user_guide/indexing.html#returning-a-view-versus-a-copy\n",
      "  self[k1] = value[k2]\n"
     ]
    }
   ],
   "source": [
    "#converts lat & long columns from objects to floats\n",
    "burglary_reports[['latitude', 'longitude']] = (burglary_reports[['latitude', 'longitude']]\n",
    "                                               .apply(pd.to_numeric))\n"
   ]
  },
  {
   "cell_type": "code",
   "execution_count": 43,
   "id": "4e5ddb46",
   "metadata": {},
   "outputs": [],
   "source": [
    "burglary_reports.to_csv(\"../geospatial_api-silver-sharks/data/burglary_reports.csv\")\n"
   ]
  }
 ],
 "metadata": {
  "kernelspec": {
   "display_name": "Python 3 (ipykernel)",
   "language": "python",
   "name": "python3"
  },
  "language_info": {
   "codemirror_mode": {
    "name": "ipython",
    "version": 3
   },
   "file_extension": ".py",
   "mimetype": "text/x-python",
   "name": "python",
   "nbconvert_exporter": "python",
   "pygments_lexer": "ipython3",
   "version": "3.8.5"
  }
 },
 "nbformat": 4,
 "nbformat_minor": 5
}
