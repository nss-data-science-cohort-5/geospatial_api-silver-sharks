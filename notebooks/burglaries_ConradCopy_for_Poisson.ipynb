{
 "cells": [
  {
   "cell_type": "code",
   "execution_count": 1,
   "id": "4c17feb0",
   "metadata": {},
   "outputs": [],
   "source": [
    "import requests\n",
    "import matplotlib.pyplot as plt\n",
    "from IPython.display import Image\n",
    "import pandas as pd\n",
    "import json\n",
    "import geopandas as gpd\n",
    "import folium\n",
    "from folium.plugins import MarkerCluster\n",
    "from folium.plugins import FastMarkerCluster\n",
    "from shapely.geometry import Point"
   ]
  },
  {
   "cell_type": "code",
   "execution_count": 2,
   "id": "1261301f",
   "metadata": {},
   "outputs": [],
   "source": [
    "endpoint = \"https://data.nashville.gov/resource/2u6v-ujjs.json?$limit=50000\"\n",
    "\n",
    "params = {'$where' : \"incident_reported between '2021-01-13T00:00:00.000' and '2021-06-30T00:00:00.000'\", \n",
    "}"
   ]
  },
  {
   "cell_type": "code",
   "execution_count": 3,
   "id": "95fc3f39",
   "metadata": {},
   "outputs": [],
   "source": [
    "response = requests.get(endpoint, params)"
   ]
  },
  {
   "cell_type": "code",
   "execution_count": 4,
   "id": "8814a69c",
   "metadata": {},
   "outputs": [],
   "source": [
    "res = response.json()"
   ]
  },
  {
   "cell_type": "code",
   "execution_count": 5,
   "id": "230ca269",
   "metadata": {},
   "outputs": [
    {
     "data": {
      "text/html": [
       "<div>\n",
       "<style scoped>\n",
       "    .dataframe tbody tr th:only-of-type {\n",
       "        vertical-align: middle;\n",
       "    }\n",
       "\n",
       "    .dataframe tbody tr th {\n",
       "        vertical-align: top;\n",
       "    }\n",
       "\n",
       "    .dataframe thead th {\n",
       "        text-align: right;\n",
       "    }\n",
       "</style>\n",
       "<table border=\"1\" class=\"dataframe\">\n",
       "  <thead>\n",
       "    <tr style=\"text-align: right;\">\n",
       "      <th></th>\n",
       "      <th>incident_reported</th>\n",
       "      <th>offense_description</th>\n",
       "      <th>latitude</th>\n",
       "      <th>longitude</th>\n",
       "      <th>zip_code</th>\n",
       "    </tr>\n",
       "  </thead>\n",
       "  <tbody>\n",
       "    <tr>\n",
       "      <th>199</th>\n",
       "      <td>2021-01-13</td>\n",
       "      <td>BURGLARY- AGGRAVATED</td>\n",
       "      <td>36.06</td>\n",
       "      <td>-86.95</td>\n",
       "      <td>NaN</td>\n",
       "    </tr>\n",
       "    <tr>\n",
       "      <th>310</th>\n",
       "      <td>2021-01-14</td>\n",
       "      <td>BURGLARY- AGGRAVATED</td>\n",
       "      <td>36.19</td>\n",
       "      <td>-86.75</td>\n",
       "      <td>NaN</td>\n",
       "    </tr>\n",
       "    <tr>\n",
       "      <th>434</th>\n",
       "      <td>2021-01-14</td>\n",
       "      <td>BURGLARY- AGGRAVATED</td>\n",
       "      <td>36.18</td>\n",
       "      <td>-86.75</td>\n",
       "      <td>NaN</td>\n",
       "    </tr>\n",
       "    <tr>\n",
       "      <th>450</th>\n",
       "      <td>2021-01-14</td>\n",
       "      <td>BURGLARY- AGGRAVATED</td>\n",
       "      <td>36.04</td>\n",
       "      <td>-86.73</td>\n",
       "      <td>NaN</td>\n",
       "    </tr>\n",
       "    <tr>\n",
       "      <th>495</th>\n",
       "      <td>2021-01-14</td>\n",
       "      <td>BURGLARY- AGGRAVATED</td>\n",
       "      <td>36.16</td>\n",
       "      <td>-86.85</td>\n",
       "      <td>NaN</td>\n",
       "    </tr>\n",
       "  </tbody>\n",
       "</table>\n",
       "</div>"
      ],
      "text/plain": [
       "    incident_reported   offense_description latitude longitude zip_code\n",
       "199        2021-01-13  BURGLARY- AGGRAVATED    36.06    -86.95      NaN\n",
       "310        2021-01-14  BURGLARY- AGGRAVATED    36.19    -86.75      NaN\n",
       "434        2021-01-14  BURGLARY- AGGRAVATED    36.18    -86.75      NaN\n",
       "450        2021-01-14  BURGLARY- AGGRAVATED    36.04    -86.73      NaN\n",
       "495        2021-01-14  BURGLARY- AGGRAVATED    36.16    -86.85      NaN"
      ]
     },
     "execution_count": 5,
     "metadata": {},
     "output_type": "execute_result"
    }
   ],
   "source": [
    "res_trimmed=pd.DataFrame(res, columns=['incident_reported', 'offense_description', 'latitude', 'longitude', 'zip_code'])\n",
    "res_trimmed['incident_reported'] = res_trimmed['incident_reported'].str.split(\"T\", expand=True)[0]\n",
    "\n",
    "burglary_reports = res_trimmed[res_trimmed['offense_description'].str.contains('BURGLARY- AGGRAVATED')]\n",
    "\n",
    "burglary_reports.head()\n"
   ]
  },
  {
   "cell_type": "code",
   "execution_count": 6,
   "id": "4d5d0027",
   "metadata": {},
   "outputs": [
    {
     "name": "stderr",
     "output_type": "stream",
     "text": [
      "C:\\Users\\U6033919\\Anaconda3\\envs\\geospatial\\lib\\site-packages\\pandas\\core\\frame.py:3641: SettingWithCopyWarning: \n",
      "A value is trying to be set on a copy of a slice from a DataFrame.\n",
      "Try using .loc[row_indexer,col_indexer] = value instead\n",
      "\n",
      "See the caveats in the documentation: https://pandas.pydata.org/pandas-docs/stable/user_guide/indexing.html#returning-a-view-versus-a-copy\n",
      "  self[k1] = value[k2]\n"
     ]
    },
    {
     "data": {
      "text/plain": [
       "(984, 5)"
      ]
     },
     "execution_count": 6,
     "metadata": {},
     "output_type": "execute_result"
    }
   ],
   "source": [
    "burglary_reports[['latitude', 'longitude']] = burglary_reports[['latitude', 'longitude']].apply(pd.to_numeric);\n",
    "\n",
    "burglary_reports.shape"
   ]
  },
  {
   "cell_type": "markdown",
   "id": "c605d0ba",
   "metadata": {},
   "source": [
    "Downloaded census tract data and uploaded code"
   ]
  },
  {
   "cell_type": "code",
   "execution_count": 7,
   "id": "d6d92b1a",
   "metadata": {},
   "outputs": [
    {
     "data": {
      "text/plain": [
       "geopandas.geodataframe.GeoDataFrame"
      ]
     },
     "execution_count": 7,
     "metadata": {},
     "output_type": "execute_result"
    }
   ],
   "source": [
    "census_tract = gpd.read_file('../tl_2019_47_tract/tl_2019_47_tract.shp')\n",
    "type(census_tract)"
   ]
  },
  {
   "cell_type": "code",
   "execution_count": 8,
   "id": "8ad4da2d",
   "metadata": {},
   "outputs": [
    {
     "name": "stdout",
     "output_type": "stream",
     "text": [
      "epsg:4269\n"
     ]
    },
    {
     "data": {
      "text/html": [
       "<div>\n",
       "<style scoped>\n",
       "    .dataframe tbody tr th:only-of-type {\n",
       "        vertical-align: middle;\n",
       "    }\n",
       "\n",
       "    .dataframe tbody tr th {\n",
       "        vertical-align: top;\n",
       "    }\n",
       "\n",
       "    .dataframe thead th {\n",
       "        text-align: right;\n",
       "    }\n",
       "</style>\n",
       "<table border=\"1\" class=\"dataframe\">\n",
       "  <thead>\n",
       "    <tr style=\"text-align: right;\">\n",
       "      <th></th>\n",
       "      <th>STATEFP</th>\n",
       "      <th>COUNTYFP</th>\n",
       "      <th>TRACTCE</th>\n",
       "      <th>GEOID</th>\n",
       "      <th>NAME</th>\n",
       "      <th>NAMELSAD</th>\n",
       "      <th>MTFCC</th>\n",
       "      <th>FUNCSTAT</th>\n",
       "      <th>ALAND</th>\n",
       "      <th>AWATER</th>\n",
       "      <th>INTPTLAT</th>\n",
       "      <th>INTPTLON</th>\n",
       "      <th>geometry</th>\n",
       "    </tr>\n",
       "  </thead>\n",
       "  <tbody>\n",
       "    <tr>\n",
       "      <th>0</th>\n",
       "      <td>47</td>\n",
       "      <td>165</td>\n",
       "      <td>021002</td>\n",
       "      <td>47165021002</td>\n",
       "      <td>210.02</td>\n",
       "      <td>Census Tract 210.02</td>\n",
       "      <td>G5020</td>\n",
       "      <td>S</td>\n",
       "      <td>30654374</td>\n",
       "      <td>207994</td>\n",
       "      <td>+36.3521602</td>\n",
       "      <td>-086.6464309</td>\n",
       "      <td>POLYGON ((-86.69927 36.32775, -86.69923 36.327...</td>\n",
       "    </tr>\n",
       "    <tr>\n",
       "      <th>1</th>\n",
       "      <td>47</td>\n",
       "      <td>165</td>\n",
       "      <td>020901</td>\n",
       "      <td>47165020901</td>\n",
       "      <td>209.01</td>\n",
       "      <td>Census Tract 209.01</td>\n",
       "      <td>G5020</td>\n",
       "      <td>S</td>\n",
       "      <td>23811766</td>\n",
       "      <td>3412697</td>\n",
       "      <td>+36.3483143</td>\n",
       "      <td>-086.4070907</td>\n",
       "      <td>POLYGON ((-86.43949 36.35962, -86.43915 36.359...</td>\n",
       "    </tr>\n",
       "    <tr>\n",
       "      <th>2</th>\n",
       "      <td>47</td>\n",
       "      <td>165</td>\n",
       "      <td>020300</td>\n",
       "      <td>47165020300</td>\n",
       "      <td>203</td>\n",
       "      <td>Census Tract 203</td>\n",
       "      <td>G5020</td>\n",
       "      <td>S</td>\n",
       "      <td>14629292</td>\n",
       "      <td>0</td>\n",
       "      <td>+36.5796910</td>\n",
       "      <td>-086.5114955</td>\n",
       "      <td>POLYGON ((-86.53716 36.56852, -86.53713 36.568...</td>\n",
       "    </tr>\n",
       "    <tr>\n",
       "      <th>3</th>\n",
       "      <td>47</td>\n",
       "      <td>165</td>\n",
       "      <td>020902</td>\n",
       "      <td>47165020902</td>\n",
       "      <td>209.02</td>\n",
       "      <td>Census Tract 209.02</td>\n",
       "      <td>G5020</td>\n",
       "      <td>S</td>\n",
       "      <td>9756715</td>\n",
       "      <td>0</td>\n",
       "      <td>+36.3724350</td>\n",
       "      <td>-086.4411274</td>\n",
       "      <td>POLYGON ((-86.47106 36.38238, -86.47081 36.382...</td>\n",
       "    </tr>\n",
       "    <tr>\n",
       "      <th>4</th>\n",
       "      <td>47</td>\n",
       "      <td>165</td>\n",
       "      <td>020800</td>\n",
       "      <td>47165020800</td>\n",
       "      <td>208</td>\n",
       "      <td>Census Tract 208</td>\n",
       "      <td>G5020</td>\n",
       "      <td>S</td>\n",
       "      <td>10235406</td>\n",
       "      <td>37743</td>\n",
       "      <td>+36.4005117</td>\n",
       "      <td>-086.4528100</td>\n",
       "      <td>POLYGON ((-86.48786 36.37320, -86.48783 36.373...</td>\n",
       "    </tr>\n",
       "  </tbody>\n",
       "</table>\n",
       "</div>"
      ],
      "text/plain": [
       "  STATEFP COUNTYFP TRACTCE        GEOID    NAME             NAMELSAD  MTFCC  \\\n",
       "0      47      165  021002  47165021002  210.02  Census Tract 210.02  G5020   \n",
       "1      47      165  020901  47165020901  209.01  Census Tract 209.01  G5020   \n",
       "2      47      165  020300  47165020300     203     Census Tract 203  G5020   \n",
       "3      47      165  020902  47165020902  209.02  Census Tract 209.02  G5020   \n",
       "4      47      165  020800  47165020800     208     Census Tract 208  G5020   \n",
       "\n",
       "  FUNCSTAT     ALAND   AWATER     INTPTLAT      INTPTLON  \\\n",
       "0        S  30654374   207994  +36.3521602  -086.6464309   \n",
       "1        S  23811766  3412697  +36.3483143  -086.4070907   \n",
       "2        S  14629292        0  +36.5796910  -086.5114955   \n",
       "3        S   9756715        0  +36.3724350  -086.4411274   \n",
       "4        S  10235406    37743  +36.4005117  -086.4528100   \n",
       "\n",
       "                                            geometry  \n",
       "0  POLYGON ((-86.69927 36.32775, -86.69923 36.327...  \n",
       "1  POLYGON ((-86.43949 36.35962, -86.43915 36.359...  \n",
       "2  POLYGON ((-86.53716 36.56852, -86.53713 36.568...  \n",
       "3  POLYGON ((-86.47106 36.38238, -86.47081 36.382...  \n",
       "4  POLYGON ((-86.48786 36.37320, -86.48783 36.373...  "
      ]
     },
     "execution_count": 8,
     "metadata": {},
     "output_type": "execute_result"
    }
   ],
   "source": [
    "print(census_tract.crs)\n",
    "census_tract.head()"
   ]
  },
  {
   "cell_type": "markdown",
   "id": "f0a89a95",
   "metadata": {},
   "source": [
    "Created appropriate 'geometry' column with Point(long, lat) format and converted to GeoDataFrame"
   ]
  },
  {
   "cell_type": "code",
   "execution_count": 9,
   "id": "f69074cf",
   "metadata": {},
   "outputs": [
    {
     "name": "stderr",
     "output_type": "stream",
     "text": [
      "C:\\Users\\U6033919\\AppData\\Local\\Temp/ipykernel_15216/956467498.py:1: SettingWithCopyWarning: \n",
      "A value is trying to be set on a copy of a slice from a DataFrame.\n",
      "Try using .loc[row_indexer,col_indexer] = value instead\n",
      "\n",
      "See the caveats in the documentation: https://pandas.pydata.org/pandas-docs/stable/user_guide/indexing.html#returning-a-view-versus-a-copy\n",
      "  burglary_reports['geometry'] = burglary_reports.apply(lambda x: Point((x.longitude,\n"
     ]
    },
    {
     "data": {
      "text/html": [
       "<div>\n",
       "<style scoped>\n",
       "    .dataframe tbody tr th:only-of-type {\n",
       "        vertical-align: middle;\n",
       "    }\n",
       "\n",
       "    .dataframe tbody tr th {\n",
       "        vertical-align: top;\n",
       "    }\n",
       "\n",
       "    .dataframe thead th {\n",
       "        text-align: right;\n",
       "    }\n",
       "</style>\n",
       "<table border=\"1\" class=\"dataframe\">\n",
       "  <thead>\n",
       "    <tr style=\"text-align: right;\">\n",
       "      <th></th>\n",
       "      <th>incident_reported</th>\n",
       "      <th>offense_description</th>\n",
       "      <th>latitude</th>\n",
       "      <th>longitude</th>\n",
       "      <th>zip_code</th>\n",
       "      <th>geometry</th>\n",
       "    </tr>\n",
       "  </thead>\n",
       "  <tbody>\n",
       "    <tr>\n",
       "      <th>199</th>\n",
       "      <td>2021-01-13</td>\n",
       "      <td>BURGLARY- AGGRAVATED</td>\n",
       "      <td>36.06</td>\n",
       "      <td>-86.95</td>\n",
       "      <td>NaN</td>\n",
       "      <td>POINT (-86.95 36.06)</td>\n",
       "    </tr>\n",
       "    <tr>\n",
       "      <th>310</th>\n",
       "      <td>2021-01-14</td>\n",
       "      <td>BURGLARY- AGGRAVATED</td>\n",
       "      <td>36.19</td>\n",
       "      <td>-86.75</td>\n",
       "      <td>NaN</td>\n",
       "      <td>POINT (-86.75 36.19)</td>\n",
       "    </tr>\n",
       "    <tr>\n",
       "      <th>434</th>\n",
       "      <td>2021-01-14</td>\n",
       "      <td>BURGLARY- AGGRAVATED</td>\n",
       "      <td>36.18</td>\n",
       "      <td>-86.75</td>\n",
       "      <td>NaN</td>\n",
       "      <td>POINT (-86.75 36.18)</td>\n",
       "    </tr>\n",
       "    <tr>\n",
       "      <th>450</th>\n",
       "      <td>2021-01-14</td>\n",
       "      <td>BURGLARY- AGGRAVATED</td>\n",
       "      <td>36.04</td>\n",
       "      <td>-86.73</td>\n",
       "      <td>NaN</td>\n",
       "      <td>POINT (-86.73 36.04)</td>\n",
       "    </tr>\n",
       "    <tr>\n",
       "      <th>495</th>\n",
       "      <td>2021-01-14</td>\n",
       "      <td>BURGLARY- AGGRAVATED</td>\n",
       "      <td>36.16</td>\n",
       "      <td>-86.85</td>\n",
       "      <td>NaN</td>\n",
       "      <td>POINT (-86.84999999999999 36.16)</td>\n",
       "    </tr>\n",
       "  </tbody>\n",
       "</table>\n",
       "</div>"
      ],
      "text/plain": [
       "    incident_reported   offense_description  latitude  longitude zip_code  \\\n",
       "199        2021-01-13  BURGLARY- AGGRAVATED     36.06     -86.95      NaN   \n",
       "310        2021-01-14  BURGLARY- AGGRAVATED     36.19     -86.75      NaN   \n",
       "434        2021-01-14  BURGLARY- AGGRAVATED     36.18     -86.75      NaN   \n",
       "450        2021-01-14  BURGLARY- AGGRAVATED     36.04     -86.73      NaN   \n",
       "495        2021-01-14  BURGLARY- AGGRAVATED     36.16     -86.85      NaN   \n",
       "\n",
       "                             geometry  \n",
       "199              POINT (-86.95 36.06)  \n",
       "310              POINT (-86.75 36.19)  \n",
       "434              POINT (-86.75 36.18)  \n",
       "450              POINT (-86.73 36.04)  \n",
       "495  POINT (-86.84999999999999 36.16)  "
      ]
     },
     "execution_count": 9,
     "metadata": {},
     "output_type": "execute_result"
    }
   ],
   "source": [
    "\n",
    "burglary_reports['geometry'] = burglary_reports.apply(lambda x: Point((x.longitude,\n",
    "                                                                      x.latitude)),\n",
    "                                                     axis=1)\n",
    "\n",
    "burglary_reports.head()"
   ]
  },
  {
   "cell_type": "code",
   "execution_count": 10,
   "id": "a9a329c1",
   "metadata": {},
   "outputs": [],
   "source": [
    "burglary_geo = gpd.GeoDataFrame(burglary_reports,\n",
    "                               crs=census_tract.crs,\n",
    "                               geometry = burglary_reports['geometry'])"
   ]
  },
  {
   "cell_type": "markdown",
   "id": "97e240ee",
   "metadata": {},
   "source": [
    "Paired down census_tract usable columns and joined with burglary_geo data"
   ]
  },
  {
   "cell_type": "code",
   "execution_count": 11,
   "id": "3f4e5538",
   "metadata": {},
   "outputs": [
    {
     "data": {
      "text/html": [
       "<div>\n",
       "<style scoped>\n",
       "    .dataframe tbody tr th:only-of-type {\n",
       "        vertical-align: middle;\n",
       "    }\n",
       "\n",
       "    .dataframe tbody tr th {\n",
       "        vertical-align: top;\n",
       "    }\n",
       "\n",
       "    .dataframe thead th {\n",
       "        text-align: right;\n",
       "    }\n",
       "</style>\n",
       "<table border=\"1\" class=\"dataframe\">\n",
       "  <thead>\n",
       "    <tr style=\"text-align: right;\">\n",
       "      <th></th>\n",
       "      <th>COUNTYFP</th>\n",
       "      <th>TRACTCE</th>\n",
       "      <th>NAME</th>\n",
       "      <th>geometry</th>\n",
       "    </tr>\n",
       "  </thead>\n",
       "  <tbody>\n",
       "    <tr>\n",
       "      <th>27</th>\n",
       "      <td>37</td>\n",
       "      <td>010106</td>\n",
       "      <td>101.06</td>\n",
       "      <td>POLYGON ((-86.83089 36.26570, -86.83016 36.265...</td>\n",
       "    </tr>\n",
       "    <tr>\n",
       "      <th>36</th>\n",
       "      <td>37</td>\n",
       "      <td>010103</td>\n",
       "      <td>101.03</td>\n",
       "      <td>POLYGON ((-86.91752 36.33976, -86.91747 36.339...</td>\n",
       "    </tr>\n",
       "    <tr>\n",
       "      <th>37</th>\n",
       "      <td>37</td>\n",
       "      <td>010202</td>\n",
       "      <td>102.02</td>\n",
       "      <td>POLYGON ((-86.82482 36.33225, -86.82480 36.332...</td>\n",
       "    </tr>\n",
       "    <tr>\n",
       "      <th>38</th>\n",
       "      <td>37</td>\n",
       "      <td>010104</td>\n",
       "      <td>101.04</td>\n",
       "      <td>POLYGON ((-86.97440 36.24991, -86.97244 36.252...</td>\n",
       "    </tr>\n",
       "    <tr>\n",
       "      <th>63</th>\n",
       "      <td>37</td>\n",
       "      <td>013300</td>\n",
       "      <td>133</td>\n",
       "      <td>POLYGON ((-86.86843 36.16436, -86.86836 36.164...</td>\n",
       "    </tr>\n",
       "  </tbody>\n",
       "</table>\n",
       "</div>"
      ],
      "text/plain": [
       "    COUNTYFP TRACTCE    NAME  \\\n",
       "27        37  010106  101.06   \n",
       "36        37  010103  101.03   \n",
       "37        37  010202  102.02   \n",
       "38        37  010104  101.04   \n",
       "63        37  013300     133   \n",
       "\n",
       "                                             geometry  \n",
       "27  POLYGON ((-86.83089 36.26570, -86.83016 36.265...  \n",
       "36  POLYGON ((-86.91752 36.33976, -86.91747 36.339...  \n",
       "37  POLYGON ((-86.82482 36.33225, -86.82480 36.332...  \n",
       "38  POLYGON ((-86.97440 36.24991, -86.97244 36.252...  \n",
       "63  POLYGON ((-86.86843 36.16436, -86.86836 36.164...  "
      ]
     },
     "execution_count": 11,
     "metadata": {},
     "output_type": "execute_result"
    }
   ],
   "source": [
    "census_tract = census_tract[['COUNTYFP', 'TRACTCE', 'NAME', 'geometry']]\n",
    "census_tract['COUNTYFP'] = census_tract['COUNTYFP'].apply(pd.to_numeric)\n",
    "census_tract = census_tract[census_tract['COUNTYFP'] == 37]\n",
    "census_tract.head()"
   ]
  },
  {
   "cell_type": "code",
   "execution_count": 12,
   "id": "701b1c39",
   "metadata": {},
   "outputs": [],
   "source": [
    "burglary_by_tract = gpd.sjoin(burglary_geo, census_tract, op = 'within')"
   ]
  },
  {
   "cell_type": "markdown",
   "id": "429f85cb",
   "metadata": {},
   "source": [
    "Gets rid of duplicates in data and adjusts columns"
   ]
  },
  {
   "cell_type": "code",
   "execution_count": 13,
   "id": "68459f3a",
   "metadata": {},
   "outputs": [
    {
     "data": {
      "text/html": [
       "<div>\n",
       "<style scoped>\n",
       "    .dataframe tbody tr th:only-of-type {\n",
       "        vertical-align: middle;\n",
       "    }\n",
       "\n",
       "    .dataframe tbody tr th {\n",
       "        vertical-align: top;\n",
       "    }\n",
       "\n",
       "    .dataframe thead th {\n",
       "        text-align: right;\n",
       "    }\n",
       "</style>\n",
       "<table border=\"1\" class=\"dataframe\">\n",
       "  <thead>\n",
       "    <tr style=\"text-align: right;\">\n",
       "      <th></th>\n",
       "      <th>incident_reported</th>\n",
       "      <th>offense_description</th>\n",
       "      <th>latitude</th>\n",
       "      <th>longitude</th>\n",
       "      <th>zip_code</th>\n",
       "      <th>geometry</th>\n",
       "      <th>COUNTYFP</th>\n",
       "      <th>tract</th>\n",
       "      <th>NAME</th>\n",
       "    </tr>\n",
       "  </thead>\n",
       "  <tbody>\n",
       "    <tr>\n",
       "      <th>199</th>\n",
       "      <td>2021-01-13</td>\n",
       "      <td>BURGLARY- AGGRAVATED</td>\n",
       "      <td>36.06</td>\n",
       "      <td>-86.95</td>\n",
       "      <td>NaN</td>\n",
       "      <td>POINT (-86.95000 36.06000)</td>\n",
       "      <td>37</td>\n",
       "      <td>018407</td>\n",
       "      <td>184.07</td>\n",
       "    </tr>\n",
       "    <tr>\n",
       "      <th>14375</th>\n",
       "      <td>2021-03-05</td>\n",
       "      <td>BURGLARY- AGGRAVATED</td>\n",
       "      <td>36.07</td>\n",
       "      <td>-86.99</td>\n",
       "      <td>NaN</td>\n",
       "      <td>POINT (-86.99000 36.07000)</td>\n",
       "      <td>37</td>\n",
       "      <td>018407</td>\n",
       "      <td>184.07</td>\n",
       "    </tr>\n",
       "    <tr>\n",
       "      <th>310</th>\n",
       "      <td>2021-01-14</td>\n",
       "      <td>BURGLARY- AGGRAVATED</td>\n",
       "      <td>36.19</td>\n",
       "      <td>-86.75</td>\n",
       "      <td>NaN</td>\n",
       "      <td>POINT (-86.75000 36.19000)</td>\n",
       "      <td>37</td>\n",
       "      <td>011700</td>\n",
       "      <td>117</td>\n",
       "    </tr>\n",
       "    <tr>\n",
       "      <th>2779</th>\n",
       "      <td>2021-01-22</td>\n",
       "      <td>BURGLARY- AGGRAVATED</td>\n",
       "      <td>36.19</td>\n",
       "      <td>-86.74</td>\n",
       "      <td>NaN</td>\n",
       "      <td>POINT (-86.74000 36.19000)</td>\n",
       "      <td>37</td>\n",
       "      <td>011700</td>\n",
       "      <td>117</td>\n",
       "    </tr>\n",
       "    <tr>\n",
       "      <th>434</th>\n",
       "      <td>2021-01-14</td>\n",
       "      <td>BURGLARY- AGGRAVATED</td>\n",
       "      <td>36.18</td>\n",
       "      <td>-86.75</td>\n",
       "      <td>NaN</td>\n",
       "      <td>POINT (-86.75000 36.18000)</td>\n",
       "      <td>37</td>\n",
       "      <td>011900</td>\n",
       "      <td>119</td>\n",
       "    </tr>\n",
       "  </tbody>\n",
       "</table>\n",
       "</div>"
      ],
      "text/plain": [
       "      incident_reported   offense_description  latitude  longitude zip_code  \\\n",
       "199          2021-01-13  BURGLARY- AGGRAVATED     36.06     -86.95      NaN   \n",
       "14375        2021-03-05  BURGLARY- AGGRAVATED     36.07     -86.99      NaN   \n",
       "310          2021-01-14  BURGLARY- AGGRAVATED     36.19     -86.75      NaN   \n",
       "2779         2021-01-22  BURGLARY- AGGRAVATED     36.19     -86.74      NaN   \n",
       "434          2021-01-14  BURGLARY- AGGRAVATED     36.18     -86.75      NaN   \n",
       "\n",
       "                         geometry  COUNTYFP   tract    NAME  \n",
       "199    POINT (-86.95000 36.06000)        37  018407  184.07  \n",
       "14375  POINT (-86.99000 36.07000)        37  018407  184.07  \n",
       "310    POINT (-86.75000 36.19000)        37  011700     117  \n",
       "2779   POINT (-86.74000 36.19000)        37  011700     117  \n",
       "434    POINT (-86.75000 36.18000)        37  011900     119  "
      ]
     },
     "execution_count": 13,
     "metadata": {},
     "output_type": "execute_result"
    }
   ],
   "source": [
    "burglary_by_tract.drop_duplicates(subset='geometry', inplace=True)\n",
    "burglary_by_tract = burglary_by_tract.drop(columns='index_right')\n",
    "burglary_by_tract = burglary_by_tract.rename(columns={'TRACTCE':'tract'})\n",
    "burglary_by_tract.head()"
   ]
  },
  {
   "cell_type": "markdown",
   "id": "5bbe60f5",
   "metadata": {},
   "source": [
    "Creates polygon objects of tracts of only Davidson county"
   ]
  },
  {
   "cell_type": "code",
   "execution_count": 14,
   "id": "c3fc7b33",
   "metadata": {},
   "outputs": [
    {
     "data": {
      "text/html": [
       "<div>\n",
       "<style scoped>\n",
       "    .dataframe tbody tr th:only-of-type {\n",
       "        vertical-align: middle;\n",
       "    }\n",
       "\n",
       "    .dataframe tbody tr th {\n",
       "        vertical-align: top;\n",
       "    }\n",
       "\n",
       "    .dataframe thead th {\n",
       "        text-align: right;\n",
       "    }\n",
       "</style>\n",
       "<table border=\"1\" class=\"dataframe\">\n",
       "  <thead>\n",
       "    <tr style=\"text-align: right;\">\n",
       "      <th></th>\n",
       "      <th>COUNTYFP</th>\n",
       "      <th>TRACTCE</th>\n",
       "      <th>NAME</th>\n",
       "      <th>geometry</th>\n",
       "    </tr>\n",
       "  </thead>\n",
       "  <tbody>\n",
       "    <tr>\n",
       "      <th>0</th>\n",
       "      <td>37</td>\n",
       "      <td>010106</td>\n",
       "      <td>101.06</td>\n",
       "      <td>POLYGON ((-86.83089 36.26570, -86.83016 36.265...</td>\n",
       "    </tr>\n",
       "    <tr>\n",
       "      <th>2</th>\n",
       "      <td>37</td>\n",
       "      <td>010104</td>\n",
       "      <td>101.04</td>\n",
       "      <td>POLYGON ((-86.97440 36.24991, -86.97244 36.252...</td>\n",
       "    </tr>\n",
       "    <tr>\n",
       "      <th>6</th>\n",
       "      <td>37</td>\n",
       "      <td>013300</td>\n",
       "      <td>133</td>\n",
       "      <td>POLYGON ((-86.86843 36.16436, -86.86836 36.164...</td>\n",
       "    </tr>\n",
       "    <tr>\n",
       "      <th>10</th>\n",
       "      <td>37</td>\n",
       "      <td>018102</td>\n",
       "      <td>181.02</td>\n",
       "      <td>POLYGON ((-86.88737 36.11771, -86.88733 36.117...</td>\n",
       "    </tr>\n",
       "    <tr>\n",
       "      <th>12</th>\n",
       "      <td>37</td>\n",
       "      <td>010602</td>\n",
       "      <td>106.02</td>\n",
       "      <td>POLYGON ((-86.69530 36.25263, -86.69513 36.253...</td>\n",
       "    </tr>\n",
       "    <tr>\n",
       "      <th>...</th>\n",
       "      <td>...</td>\n",
       "      <td>...</td>\n",
       "      <td>...</td>\n",
       "      <td>...</td>\n",
       "    </tr>\n",
       "    <tr>\n",
       "      <th>397</th>\n",
       "      <td>37</td>\n",
       "      <td>018904</td>\n",
       "      <td>189.04</td>\n",
       "      <td>POLYGON ((-86.73805 36.06626, -86.73780 36.066...</td>\n",
       "    </tr>\n",
       "    <tr>\n",
       "      <th>399</th>\n",
       "      <td>37</td>\n",
       "      <td>018905</td>\n",
       "      <td>189.05</td>\n",
       "      <td>POLYGON ((-86.74457 36.05547, -86.74447 36.055...</td>\n",
       "    </tr>\n",
       "    <tr>\n",
       "      <th>400</th>\n",
       "      <td>37</td>\n",
       "      <td>013601</td>\n",
       "      <td>136.01</td>\n",
       "      <td>POLYGON ((-86.84383 36.16325, -86.84375 36.163...</td>\n",
       "    </tr>\n",
       "    <tr>\n",
       "      <th>404</th>\n",
       "      <td>37</td>\n",
       "      <td>018301</td>\n",
       "      <td>183.01</td>\n",
       "      <td>POLYGON ((-87.03820 36.09382, -87.03819 36.093...</td>\n",
       "    </tr>\n",
       "    <tr>\n",
       "      <th>411</th>\n",
       "      <td>37</td>\n",
       "      <td>015631</td>\n",
       "      <td>156.31</td>\n",
       "      <td>MULTIPOLYGON (((-86.52329 36.13815, -86.52315 ...</td>\n",
       "    </tr>\n",
       "  </tbody>\n",
       "</table>\n",
       "<p>146 rows × 4 columns</p>\n",
       "</div>"
      ],
      "text/plain": [
       "     COUNTYFP TRACTCE    NAME  \\\n",
       "0          37  010106  101.06   \n",
       "2          37  010104  101.04   \n",
       "6          37  013300     133   \n",
       "10         37  018102  181.02   \n",
       "12         37  010602  106.02   \n",
       "..        ...     ...     ...   \n",
       "397        37  018904  189.04   \n",
       "399        37  018905  189.05   \n",
       "400        37  013601  136.01   \n",
       "404        37  018301  183.01   \n",
       "411        37  015631  156.31   \n",
       "\n",
       "                                              geometry  \n",
       "0    POLYGON ((-86.83089 36.26570, -86.83016 36.265...  \n",
       "2    POLYGON ((-86.97440 36.24991, -86.97244 36.252...  \n",
       "6    POLYGON ((-86.86843 36.16436, -86.86836 36.164...  \n",
       "10   POLYGON ((-86.88737 36.11771, -86.88733 36.117...  \n",
       "12   POLYGON ((-86.69530 36.25263, -86.69513 36.253...  \n",
       "..                                                 ...  \n",
       "397  POLYGON ((-86.73805 36.06626, -86.73780 36.066...  \n",
       "399  POLYGON ((-86.74457 36.05547, -86.74447 36.055...  \n",
       "400  POLYGON ((-86.84383 36.16325, -86.84375 36.163...  \n",
       "404  POLYGON ((-87.03820 36.09382, -87.03819 36.093...  \n",
       "411  MULTIPOLYGON (((-86.52329 36.13815, -86.52315 ...  \n",
       "\n",
       "[146 rows x 4 columns]"
      ]
     },
     "execution_count": 14,
     "metadata": {},
     "output_type": "execute_result"
    }
   ],
   "source": [
    "census_tract_names = burglary_by_tract['NAME']\n",
    "census_tract_names = pd.DataFrame(census_tract_names)\n",
    "polygon_nash = pd.merge(census_tract, census_tract_names, on = 'NAME')\n",
    "polygon_nash.drop_duplicates(subset='NAME')"
   ]
  },
  {
   "cell_type": "code",
   "execution_count": 15,
   "id": "b759ecde",
   "metadata": {},
   "outputs": [
    {
     "data": {
      "image/png": "[encoded data removed]",
      "text/plain": [
       "<Figure size 576x720 with 1 Axes>"
      ]
     },
     "metadata": {
      "needs_background": "light"
     },
     "output_type": "display_data"
    }
   ],
   "source": [
    "ax = polygon_nash.plot(column='TRACTCE', figsize = (8, 10), cmap='terrain')\n",
    "burglary_by_tract.plot(ax = ax, column = 'offense_description')\n",
    "plt.show();"
   ]
  },
  {
   "cell_type": "markdown",
   "id": "5e813c1b",
   "metadata": {},
   "source": [
    "Imports Census data"
   ]
  },
  {
   "cell_type": "code",
   "execution_count": 16,
   "id": "2a2c4b9a",
   "metadata": {},
   "outputs": [],
   "source": [
    "with open('../api_key') as fi:\n",
    "    credentials = json.load(fi)\n",
    "       \n",
    "api_key = credentials['api_key']"
   ]
  },
  {
   "cell_type": "code",
   "execution_count": 17,
   "id": "ff64769c",
   "metadata": {},
   "outputs": [],
   "source": [
    "endpoint_pop = \"https://api.census.gov/data/2019/acs/acs5\"\n",
    "params_pop = {\n",
    "       'get' : 'NAME,B01001_001E',\n",
    "       'for' : 'tract:*',\n",
    "       'in'  : ['state:47', 'county:037'],\n",
    "       'key' : api_key\n",
    "}\n",
    "\n",
    "endpoint_income = \"https://api.census.gov/data/2019/acs/acs5/subject\"\n",
    "params_income = {\n",
    "       'get' : 'NAME,S1901_C01_012E',\n",
    "       'for' : 'tract:*',\n",
    "       'in'  : ['state:47', 'county:037'],\n",
    "       'key' : api_key\n",
    "}"
   ]
  },
  {
   "cell_type": "code",
   "execution_count": 18,
   "id": "8b342ef2",
   "metadata": {},
   "outputs": [],
   "source": [
    "response_pop = requests.get(endpoint_pop, params=params_pop)\n",
    "\n",
    "response_income = requests.get(endpoint_income, params=params_income)"
   ]
  },
  {
   "cell_type": "code",
   "execution_count": 19,
   "id": "60c0df57",
   "metadata": {},
   "outputs": [
    {
     "data": {
      "text/html": [
       "<div>\n",
       "<style scoped>\n",
       "    .dataframe tbody tr th:only-of-type {\n",
       "        vertical-align: middle;\n",
       "    }\n",
       "\n",
       "    .dataframe tbody tr th {\n",
       "        vertical-align: top;\n",
       "    }\n",
       "\n",
       "    .dataframe thead th {\n",
       "        text-align: right;\n",
       "    }\n",
       "</style>\n",
       "<table border=\"1\" class=\"dataframe\">\n",
       "  <thead>\n",
       "    <tr style=\"text-align: right;\">\n",
       "      <th></th>\n",
       "      <th>NAME</th>\n",
       "      <th>B01001_001E</th>\n",
       "      <th>state</th>\n",
       "      <th>county</th>\n",
       "      <th>tract</th>\n",
       "    </tr>\n",
       "  </thead>\n",
       "  <tbody>\n",
       "    <tr>\n",
       "      <th>1</th>\n",
       "      <td>Census Tract 156.31, Davidson County, Tennessee</td>\n",
       "      <td>12176</td>\n",
       "      <td>47</td>\n",
       "      <td>037</td>\n",
       "      <td>015631</td>\n",
       "    </tr>\n",
       "    <tr>\n",
       "      <th>2</th>\n",
       "      <td>Census Tract 158.04, Davidson County, Tennessee</td>\n",
       "      <td>4098</td>\n",
       "      <td>47</td>\n",
       "      <td>037</td>\n",
       "      <td>015804</td>\n",
       "    </tr>\n",
       "    <tr>\n",
       "      <th>3</th>\n",
       "      <td>Census Tract 177.01, Davidson County, Tennessee</td>\n",
       "      <td>2466</td>\n",
       "      <td>47</td>\n",
       "      <td>037</td>\n",
       "      <td>017701</td>\n",
       "    </tr>\n",
       "    <tr>\n",
       "      <th>4</th>\n",
       "      <td>Census Tract 177.02, Davidson County, Tennessee</td>\n",
       "      <td>5210</td>\n",
       "      <td>47</td>\n",
       "      <td>037</td>\n",
       "      <td>017702</td>\n",
       "    </tr>\n",
       "    <tr>\n",
       "      <th>5</th>\n",
       "      <td>Census Tract 183.01, Davidson County, Tennessee</td>\n",
       "      <td>8254</td>\n",
       "      <td>47</td>\n",
       "      <td>037</td>\n",
       "      <td>018301</td>\n",
       "    </tr>\n",
       "  </tbody>\n",
       "</table>\n",
       "</div>"
      ],
      "text/plain": [
       "0                                             NAME B01001_001E state county  \\\n",
       "1  Census Tract 156.31, Davidson County, Tennessee       12176    47    037   \n",
       "2  Census Tract 158.04, Davidson County, Tennessee        4098    47    037   \n",
       "3  Census Tract 177.01, Davidson County, Tennessee        2466    47    037   \n",
       "4  Census Tract 177.02, Davidson County, Tennessee        5210    47    037   \n",
       "5  Census Tract 183.01, Davidson County, Tennessee        8254    47    037   \n",
       "\n",
       "0   tract  \n",
       "1  015631  \n",
       "2  015804  \n",
       "3  017701  \n",
       "4  017702  \n",
       "5  018301  "
      ]
     },
     "metadata": {},
     "output_type": "display_data"
    },
    {
     "data": {
      "text/html": [
       "<div>\n",
       "<style scoped>\n",
       "    .dataframe tbody tr th:only-of-type {\n",
       "        vertical-align: middle;\n",
       "    }\n",
       "\n",
       "    .dataframe tbody tr th {\n",
       "        vertical-align: top;\n",
       "    }\n",
       "\n",
       "    .dataframe thead th {\n",
       "        text-align: right;\n",
       "    }\n",
       "</style>\n",
       "<table border=\"1\" class=\"dataframe\">\n",
       "  <thead>\n",
       "    <tr style=\"text-align: right;\">\n",
       "      <th></th>\n",
       "      <th>NAME</th>\n",
       "      <th>S1901_C01_012E</th>\n",
       "      <th>state</th>\n",
       "      <th>county</th>\n",
       "      <th>tract</th>\n",
       "    </tr>\n",
       "  </thead>\n",
       "  <tbody>\n",
       "    <tr>\n",
       "      <th>1</th>\n",
       "      <td>Census Tract 156.31, Davidson County, Tennessee</td>\n",
       "      <td>75579</td>\n",
       "      <td>47</td>\n",
       "      <td>037</td>\n",
       "      <td>015631</td>\n",
       "    </tr>\n",
       "    <tr>\n",
       "      <th>2</th>\n",
       "      <td>Census Tract 158.04, Davidson County, Tennessee</td>\n",
       "      <td>45129</td>\n",
       "      <td>47</td>\n",
       "      <td>037</td>\n",
       "      <td>015804</td>\n",
       "    </tr>\n",
       "    <tr>\n",
       "      <th>3</th>\n",
       "      <td>Census Tract 177.01, Davidson County, Tennessee</td>\n",
       "      <td>134786</td>\n",
       "      <td>47</td>\n",
       "      <td>037</td>\n",
       "      <td>017701</td>\n",
       "    </tr>\n",
       "    <tr>\n",
       "      <th>4</th>\n",
       "      <td>Census Tract 177.02, Davidson County, Tennessee</td>\n",
       "      <td>107813</td>\n",
       "      <td>47</td>\n",
       "      <td>037</td>\n",
       "      <td>017702</td>\n",
       "    </tr>\n",
       "    <tr>\n",
       "      <th>5</th>\n",
       "      <td>Census Tract 183.01, Davidson County, Tennessee</td>\n",
       "      <td>87591</td>\n",
       "      <td>47</td>\n",
       "      <td>037</td>\n",
       "      <td>018301</td>\n",
       "    </tr>\n",
       "  </tbody>\n",
       "</table>\n",
       "</div>"
      ],
      "text/plain": [
       "0                                             NAME S1901_C01_012E state  \\\n",
       "1  Census Tract 156.31, Davidson County, Tennessee          75579    47   \n",
       "2  Census Tract 158.04, Davidson County, Tennessee          45129    47   \n",
       "3  Census Tract 177.01, Davidson County, Tennessee         134786    47   \n",
       "4  Census Tract 177.02, Davidson County, Tennessee         107813    47   \n",
       "5  Census Tract 183.01, Davidson County, Tennessee          87591    47   \n",
       "\n",
       "0 county   tract  \n",
       "1    037  015631  \n",
       "2    037  015804  \n",
       "3    037  017701  \n",
       "4    037  017702  \n",
       "5    037  018301  "
      ]
     },
     "metadata": {},
     "output_type": "display_data"
    }
   ],
   "source": [
    "res_pop = response_pop.json()\n",
    "population = pd.DataFrame(res_pop)\n",
    "#changes column names\n",
    "population.columns = population.iloc[0]\n",
    "population = population[1:]\n",
    "display(population.head())\n",
    "\n",
    "res_income = response_income.json()\n",
    "med_income = pd.DataFrame(res_income) \n",
    "#changes colum names \n",
    "med_income.columns = med_income.iloc[0]\n",
    "med_income = med_income[1:]\n",
    "display(med_income.head())"
   ]
  },
  {
   "cell_type": "markdown",
   "id": "87858fe3",
   "metadata": {},
   "source": [
    "Merges census data together and renames columns"
   ]
  },
  {
   "cell_type": "code",
   "execution_count": 20,
   "id": "15302c9f",
   "metadata": {},
   "outputs": [
    {
     "data": {
      "text/html": [
       "<div>\n",
       "<style scoped>\n",
       "    .dataframe tbody tr th:only-of-type {\n",
       "        vertical-align: middle;\n",
       "    }\n",
       "\n",
       "    .dataframe tbody tr th {\n",
       "        vertical-align: top;\n",
       "    }\n",
       "\n",
       "    .dataframe thead th {\n",
       "        text-align: right;\n",
       "    }\n",
       "</style>\n",
       "<table border=\"1\" class=\"dataframe\">\n",
       "  <thead>\n",
       "    <tr style=\"text-align: right;\">\n",
       "      <th></th>\n",
       "      <th>NAME</th>\n",
       "      <th>population</th>\n",
       "      <th>state</th>\n",
       "      <th>county</th>\n",
       "      <th>tract</th>\n",
       "      <th>median_income</th>\n",
       "    </tr>\n",
       "  </thead>\n",
       "  <tbody>\n",
       "    <tr>\n",
       "      <th>0</th>\n",
       "      <td>Census Tract 156.31, Davidson County, Tennessee</td>\n",
       "      <td>12176</td>\n",
       "      <td>47</td>\n",
       "      <td>037</td>\n",
       "      <td>015631</td>\n",
       "      <td>75579</td>\n",
       "    </tr>\n",
       "    <tr>\n",
       "      <th>1</th>\n",
       "      <td>Census Tract 158.04, Davidson County, Tennessee</td>\n",
       "      <td>4098</td>\n",
       "      <td>47</td>\n",
       "      <td>037</td>\n",
       "      <td>015804</td>\n",
       "      <td>45129</td>\n",
       "    </tr>\n",
       "    <tr>\n",
       "      <th>2</th>\n",
       "      <td>Census Tract 177.01, Davidson County, Tennessee</td>\n",
       "      <td>2466</td>\n",
       "      <td>47</td>\n",
       "      <td>037</td>\n",
       "      <td>017701</td>\n",
       "      <td>134786</td>\n",
       "    </tr>\n",
       "    <tr>\n",
       "      <th>3</th>\n",
       "      <td>Census Tract 177.02, Davidson County, Tennessee</td>\n",
       "      <td>5210</td>\n",
       "      <td>47</td>\n",
       "      <td>037</td>\n",
       "      <td>017702</td>\n",
       "      <td>107813</td>\n",
       "    </tr>\n",
       "    <tr>\n",
       "      <th>4</th>\n",
       "      <td>Census Tract 183.01, Davidson County, Tennessee</td>\n",
       "      <td>8254</td>\n",
       "      <td>47</td>\n",
       "      <td>037</td>\n",
       "      <td>018301</td>\n",
       "      <td>87591</td>\n",
       "    </tr>\n",
       "  </tbody>\n",
       "</table>\n",
       "</div>"
      ],
      "text/plain": [
       "0                                             NAME population state county  \\\n",
       "0  Census Tract 156.31, Davidson County, Tennessee      12176    47    037   \n",
       "1  Census Tract 158.04, Davidson County, Tennessee       4098    47    037   \n",
       "2  Census Tract 177.01, Davidson County, Tennessee       2466    47    037   \n",
       "3  Census Tract 177.02, Davidson County, Tennessee       5210    47    037   \n",
       "4  Census Tract 183.01, Davidson County, Tennessee       8254    47    037   \n",
       "\n",
       "0   tract median_income  \n",
       "0  015631         75579  \n",
       "1  015804         45129  \n",
       "2  017701        134786  \n",
       "3  017702        107813  \n",
       "4  018301         87591  "
      ]
     },
     "execution_count": 20,
     "metadata": {},
     "output_type": "execute_result"
    }
   ],
   "source": [
    "pop_and_income = pd.merge(population, med_income, how='inner')\n",
    "pop_and_income = pop_and_income.rename(columns={'B01001_001E': 'population',\n",
    "                                               'S1901_C01_012E':'median_income'})\n",
    "pop_and_income.head()"
   ]
  },
  {
   "cell_type": "code",
   "execution_count": 21,
   "id": "a3443f5a",
   "metadata": {
    "scrolled": true
   },
   "outputs": [
    {
     "data": {
      "text/html": [
       "<div>\n",
       "<style scoped>\n",
       "    .dataframe tbody tr th:only-of-type {\n",
       "        vertical-align: middle;\n",
       "    }\n",
       "\n",
       "    .dataframe tbody tr th {\n",
       "        vertical-align: top;\n",
       "    }\n",
       "\n",
       "    .dataframe thead th {\n",
       "        text-align: right;\n",
       "    }\n",
       "</style>\n",
       "<table border=\"1\" class=\"dataframe\">\n",
       "  <thead>\n",
       "    <tr style=\"text-align: right;\">\n",
       "      <th></th>\n",
       "      <th>incident_reported</th>\n",
       "      <th>offense_description</th>\n",
       "      <th>geometry</th>\n",
       "      <th>COUNTYFP</th>\n",
       "      <th>tract</th>\n",
       "      <th>population</th>\n",
       "      <th>state</th>\n",
       "      <th>county</th>\n",
       "      <th>median_income</th>\n",
       "    </tr>\n",
       "  </thead>\n",
       "  <tbody>\n",
       "    <tr>\n",
       "      <th>0</th>\n",
       "      <td>2021-01-13</td>\n",
       "      <td>BURGLARY- AGGRAVATED</td>\n",
       "      <td>POINT (-86.95000 36.06000)</td>\n",
       "      <td>37</td>\n",
       "      <td>018407</td>\n",
       "      <td>5001</td>\n",
       "      <td>47</td>\n",
       "      <td>037</td>\n",
       "      <td>105917</td>\n",
       "    </tr>\n",
       "    <tr>\n",
       "      <th>1</th>\n",
       "      <td>2021-03-05</td>\n",
       "      <td>BURGLARY- AGGRAVATED</td>\n",
       "      <td>POINT (-86.99000 36.07000)</td>\n",
       "      <td>37</td>\n",
       "      <td>018407</td>\n",
       "      <td>5001</td>\n",
       "      <td>47</td>\n",
       "      <td>037</td>\n",
       "      <td>105917</td>\n",
       "    </tr>\n",
       "    <tr>\n",
       "      <th>2</th>\n",
       "      <td>2021-01-14</td>\n",
       "      <td>BURGLARY- AGGRAVATED</td>\n",
       "      <td>POINT (-86.75000 36.19000)</td>\n",
       "      <td>37</td>\n",
       "      <td>011700</td>\n",
       "      <td>5971</td>\n",
       "      <td>47</td>\n",
       "      <td>037</td>\n",
       "      <td>68889</td>\n",
       "    </tr>\n",
       "    <tr>\n",
       "      <th>3</th>\n",
       "      <td>2021-01-22</td>\n",
       "      <td>BURGLARY- AGGRAVATED</td>\n",
       "      <td>POINT (-86.74000 36.19000)</td>\n",
       "      <td>37</td>\n",
       "      <td>011700</td>\n",
       "      <td>5971</td>\n",
       "      <td>47</td>\n",
       "      <td>037</td>\n",
       "      <td>68889</td>\n",
       "    </tr>\n",
       "    <tr>\n",
       "      <th>4</th>\n",
       "      <td>2021-01-14</td>\n",
       "      <td>BURGLARY- AGGRAVATED</td>\n",
       "      <td>POINT (-86.75000 36.18000)</td>\n",
       "      <td>37</td>\n",
       "      <td>011900</td>\n",
       "      <td>2530</td>\n",
       "      <td>47</td>\n",
       "      <td>037</td>\n",
       "      <td>51168</td>\n",
       "    </tr>\n",
       "  </tbody>\n",
       "</table>\n",
       "</div>"
      ],
      "text/plain": [
       "  incident_reported   offense_description                    geometry  \\\n",
       "0        2021-01-13  BURGLARY- AGGRAVATED  POINT (-86.95000 36.06000)   \n",
       "1        2021-03-05  BURGLARY- AGGRAVATED  POINT (-86.99000 36.07000)   \n",
       "2        2021-01-14  BURGLARY- AGGRAVATED  POINT (-86.75000 36.19000)   \n",
       "3        2021-01-22  BURGLARY- AGGRAVATED  POINT (-86.74000 36.19000)   \n",
       "4        2021-01-14  BURGLARY- AGGRAVATED  POINT (-86.75000 36.18000)   \n",
       "\n",
       "   COUNTYFP   tract population state county median_income  \n",
       "0        37  018407       5001    47    037        105917  \n",
       "1        37  018407       5001    47    037        105917  \n",
       "2        37  011700       5971    47    037         68889  \n",
       "3        37  011700       5971    47    037         68889  \n",
       "4        37  011900       2530    47    037         51168  "
      ]
     },
     "execution_count": 21,
     "metadata": {},
     "output_type": "execute_result"
    }
   ],
   "source": [
    "burglaries_and_var = pd.merge(burglary_by_tract, pop_and_income, on='tract')\n",
    "burglaries_and_var = burglaries_and_var.drop(columns=['latitude', 'longitude', 'zip_code','NAME_x','NAME_y'])\n",
    "burglaries_and_var.head()"
   ]
  },
  {
   "cell_type": "code",
   "execution_count": 22,
   "id": "f320170c",
   "metadata": {},
   "outputs": [],
   "source": [
    "burlglaries_per_tract=burglaries_and_var.groupby(['tract', 'population', 'state', 'county', 'median_income']).agg({'incident_reported': 'count'})"
   ]
  },
  {
   "cell_type": "code",
   "execution_count": 23,
   "id": "62bd6741",
   "metadata": {},
   "outputs": [
    {
     "data": {
      "text/html": [
       "<div>\n",
       "<style scoped>\n",
       "    .dataframe tbody tr th:only-of-type {\n",
       "        vertical-align: middle;\n",
       "    }\n",
       "\n",
       "    .dataframe tbody tr th {\n",
       "        vertical-align: top;\n",
       "    }\n",
       "\n",
       "    .dataframe thead th {\n",
       "        text-align: right;\n",
       "    }\n",
       "</style>\n",
       "<table border=\"1\" class=\"dataframe\">\n",
       "  <thead>\n",
       "    <tr style=\"text-align: right;\">\n",
       "      <th></th>\n",
       "      <th></th>\n",
       "      <th></th>\n",
       "      <th></th>\n",
       "      <th></th>\n",
       "      <th>incident_reported</th>\n",
       "    </tr>\n",
       "    <tr>\n",
       "      <th>tract</th>\n",
       "      <th>population</th>\n",
       "      <th>state</th>\n",
       "      <th>county</th>\n",
       "      <th>median_income</th>\n",
       "      <th></th>\n",
       "    </tr>\n",
       "  </thead>\n",
       "  <tbody>\n",
       "    <tr>\n",
       "      <th>010104</th>\n",
       "      <th>2955</th>\n",
       "      <th>47</th>\n",
       "      <th>037</th>\n",
       "      <th>64844</th>\n",
       "      <td>4</td>\n",
       "    </tr>\n",
       "    <tr>\n",
       "      <th>010105</th>\n",
       "      <th>4435</th>\n",
       "      <th>47</th>\n",
       "      <th>037</th>\n",
       "      <th>64688</th>\n",
       "      <td>3</td>\n",
       "    </tr>\n",
       "    <tr>\n",
       "      <th>010106</th>\n",
       "      <th>3397</th>\n",
       "      <th>47</th>\n",
       "      <th>037</th>\n",
       "      <th>63864</th>\n",
       "      <td>2</td>\n",
       "    </tr>\n",
       "    <tr>\n",
       "      <th>010201</th>\n",
       "      <th>4157</th>\n",
       "      <th>47</th>\n",
       "      <th>037</th>\n",
       "      <th>62829</th>\n",
       "      <td>3</td>\n",
       "    </tr>\n",
       "    <tr>\n",
       "      <th>010301</th>\n",
       "      <th>3395</th>\n",
       "      <th>47</th>\n",
       "      <th>037</th>\n",
       "      <th>51918</th>\n",
       "      <td>1</td>\n",
       "    </tr>\n",
       "  </tbody>\n",
       "</table>\n",
       "</div>"
      ],
      "text/plain": [
       "                                              incident_reported\n",
       "tract  population state county median_income                   \n",
       "010104 2955       47    037    64844                          4\n",
       "010105 4435       47    037    64688                          3\n",
       "010106 3397       47    037    63864                          2\n",
       "010201 4157       47    037    62829                          3\n",
       "010301 3395       47    037    51918                          1"
      ]
     },
     "execution_count": 23,
     "metadata": {},
     "output_type": "execute_result"
    }
   ],
   "source": [
    "burlglaries_per_tract.head()"
   ]
  },
  {
   "cell_type": "code",
   "execution_count": 24,
   "id": "c13e0922",
   "metadata": {},
   "outputs": [],
   "source": [
    "import numpy as np"
   ]
  },
  {
   "cell_type": "code",
   "execution_count": 25,
   "id": "2bfea0ea",
   "metadata": {},
   "outputs": [
    {
     "name": "stderr",
     "output_type": "stream",
     "text": [
      "C:\\Users\\U6033919\\Anaconda3\\envs\\geospatial\\lib\\site-packages\\pandas\\core\\arraylike.py:364: RuntimeWarning: divide by zero encountered in log\n",
      "  result = getattr(ufunc, method)(*inputs, **kwargs)\n"
     ]
    },
    {
     "data": {
      "text/html": [
       "<div>\n",
       "<style scoped>\n",
       "    .dataframe tbody tr th:only-of-type {\n",
       "        vertical-align: middle;\n",
       "    }\n",
       "\n",
       "    .dataframe tbody tr th {\n",
       "        vertical-align: top;\n",
       "    }\n",
       "\n",
       "    .dataframe thead th {\n",
       "        text-align: right;\n",
       "    }\n",
       "</style>\n",
       "<table border=\"1\" class=\"dataframe\">\n",
       "  <thead>\n",
       "    <tr style=\"text-align: right;\">\n",
       "      <th></th>\n",
       "      <th>tract</th>\n",
       "      <th>population</th>\n",
       "      <th>state</th>\n",
       "      <th>county</th>\n",
       "      <th>median_income</th>\n",
       "      <th>incident_reported</th>\n",
       "      <th>rate_of_burg</th>\n",
       "    </tr>\n",
       "  </thead>\n",
       "  <tbody>\n",
       "    <tr>\n",
       "      <th>0</th>\n",
       "      <td>010104</td>\n",
       "      <td>2955</td>\n",
       "      <td>47</td>\n",
       "      <td>037</td>\n",
       "      <td>64844</td>\n",
       "      <td>4</td>\n",
       "      <td>0.500547</td>\n",
       "    </tr>\n",
       "    <tr>\n",
       "      <th>1</th>\n",
       "      <td>010105</td>\n",
       "      <td>4435</td>\n",
       "      <td>47</td>\n",
       "      <td>037</td>\n",
       "      <td>64688</td>\n",
       "      <td>3</td>\n",
       "      <td>0.357258</td>\n",
       "    </tr>\n",
       "    <tr>\n",
       "      <th>2</th>\n",
       "      <td>010106</td>\n",
       "      <td>3397</td>\n",
       "      <td>47</td>\n",
       "      <td>037</td>\n",
       "      <td>63864</td>\n",
       "      <td>2</td>\n",
       "      <td>0.245983</td>\n",
       "    </tr>\n",
       "    <tr>\n",
       "      <th>3</th>\n",
       "      <td>010201</td>\n",
       "      <td>4157</td>\n",
       "      <td>47</td>\n",
       "      <td>037</td>\n",
       "      <td>62829</td>\n",
       "      <td>3</td>\n",
       "      <td>0.360034</td>\n",
       "    </tr>\n",
       "    <tr>\n",
       "      <th>4</th>\n",
       "      <td>010301</td>\n",
       "      <td>3395</td>\n",
       "      <td>47</td>\n",
       "      <td>037</td>\n",
       "      <td>51918</td>\n",
       "      <td>1</td>\n",
       "      <td>0.123000</td>\n",
       "    </tr>\n",
       "    <tr>\n",
       "      <th>...</th>\n",
       "      <td>...</td>\n",
       "      <td>...</td>\n",
       "      <td>...</td>\n",
       "      <td>...</td>\n",
       "      <td>...</td>\n",
       "      <td>...</td>\n",
       "      <td>...</td>\n",
       "    </tr>\n",
       "    <tr>\n",
       "      <th>141</th>\n",
       "      <td>019300</td>\n",
       "      <td>3428</td>\n",
       "      <td>47</td>\n",
       "      <td>037</td>\n",
       "      <td>14277</td>\n",
       "      <td>7</td>\n",
       "      <td>0.859979</td>\n",
       "    </tr>\n",
       "    <tr>\n",
       "      <th>142</th>\n",
       "      <td>019400</td>\n",
       "      <td>5810</td>\n",
       "      <td>47</td>\n",
       "      <td>037</td>\n",
       "      <td>81286</td>\n",
       "      <td>5</td>\n",
       "      <td>0.576879</td>\n",
       "    </tr>\n",
       "    <tr>\n",
       "      <th>143</th>\n",
       "      <td>019500</td>\n",
       "      <td>7956</td>\n",
       "      <td>47</td>\n",
       "      <td>037</td>\n",
       "      <td>75446</td>\n",
       "      <td>7</td>\n",
       "      <td>0.779364</td>\n",
       "    </tr>\n",
       "    <tr>\n",
       "      <th>144</th>\n",
       "      <td>019600</td>\n",
       "      <td>3843</td>\n",
       "      <td>47</td>\n",
       "      <td>037</td>\n",
       "      <td>59072</td>\n",
       "      <td>4</td>\n",
       "      <td>0.484613</td>\n",
       "    </tr>\n",
       "    <tr>\n",
       "      <th>145</th>\n",
       "      <td>980100</td>\n",
       "      <td>0</td>\n",
       "      <td>47</td>\n",
       "      <td>037</td>\n",
       "      <td>-666666666</td>\n",
       "      <td>1</td>\n",
       "      <td>-0.000000</td>\n",
       "    </tr>\n",
       "  </tbody>\n",
       "</table>\n",
       "<p>146 rows × 7 columns</p>\n",
       "</div>"
      ],
      "text/plain": [
       "      tract population state county median_income  incident_reported  \\\n",
       "0    010104       2955    47    037         64844                  4   \n",
       "1    010105       4435    47    037         64688                  3   \n",
       "2    010106       3397    47    037         63864                  2   \n",
       "3    010201       4157    47    037         62829                  3   \n",
       "4    010301       3395    47    037         51918                  1   \n",
       "..      ...        ...   ...    ...           ...                ...   \n",
       "141  019300       3428    47    037         14277                  7   \n",
       "142  019400       5810    47    037         81286                  5   \n",
       "143  019500       7956    47    037         75446                  7   \n",
       "144  019600       3843    47    037         59072                  4   \n",
       "145  980100          0    47    037    -666666666                  1   \n",
       "\n",
       "     rate_of_burg  \n",
       "0        0.500547  \n",
       "1        0.357258  \n",
       "2        0.245983  \n",
       "3        0.360034  \n",
       "4        0.123000  \n",
       "..            ...  \n",
       "141      0.859979  \n",
       "142      0.576879  \n",
       "143      0.779364  \n",
       "144      0.484613  \n",
       "145     -0.000000  \n",
       "\n",
       "[146 rows x 7 columns]"
      ]
     },
     "execution_count": 25,
     "metadata": {},
     "output_type": "execute_result"
    }
   ],
   "source": [
    "rate_of_burg = burlglaries_per_tract.reset_index()\n",
    "rate_of_burg['rate_of_burg']= (rate_of_burg['incident_reported']/np.log(rate_of_burg['population'].astype(float)))\n",
    "rate_of_burg"
   ]
  },
  {
   "cell_type": "code",
   "execution_count": 98,
   "id": "bb9cdca6",
   "metadata": {},
   "outputs": [],
   "source": [
    "rate_of_burg=rate_of_burg[rate_of_burg['population'] > 0]"
   ]
  },
  {
   "cell_type": "code",
   "execution_count": 99,
   "id": "5a376189",
   "metadata": {},
   "outputs": [
    {
     "data": {
      "text/html": [
       "<div>\n",
       "<style scoped>\n",
       "    .dataframe tbody tr th:only-of-type {\n",
       "        vertical-align: middle;\n",
       "    }\n",
       "\n",
       "    .dataframe tbody tr th {\n",
       "        vertical-align: top;\n",
       "    }\n",
       "\n",
       "    .dataframe thead th {\n",
       "        text-align: right;\n",
       "    }\n",
       "</style>\n",
       "<table border=\"1\" class=\"dataframe\">\n",
       "  <thead>\n",
       "    <tr style=\"text-align: right;\">\n",
       "      <th></th>\n",
       "      <th>tract</th>\n",
       "      <th>population</th>\n",
       "      <th>state</th>\n",
       "      <th>county</th>\n",
       "      <th>median_income</th>\n",
       "      <th>incident_reported</th>\n",
       "      <th>rate_of_burg</th>\n",
       "    </tr>\n",
       "  </thead>\n",
       "  <tbody>\n",
       "    <tr>\n",
       "      <th>43</th>\n",
       "      <td>013602</td>\n",
       "      <td>1818.0</td>\n",
       "      <td>47</td>\n",
       "      <td>037</td>\n",
       "      <td>-666666666.0</td>\n",
       "      <td>1</td>\n",
       "      <td>0.133236</td>\n",
       "    </tr>\n",
       "  </tbody>\n",
       "</table>\n",
       "</div>"
      ],
      "text/plain": [
       "     tract  population state county  median_income  incident_reported  \\\n",
       "43  013602      1818.0    47    037   -666666666.0                  1   \n",
       "\n",
       "    rate_of_burg  \n",
       "43      0.133236  "
      ]
     },
     "execution_count": 99,
     "metadata": {},
     "output_type": "execute_result"
    }
   ],
   "source": [
    "rate_of_burg[rate_of_burg['median_income'] <= 0]"
   ]
  },
  {
   "cell_type": "code",
   "execution_count": 100,
   "id": "7a6f190c",
   "metadata": {},
   "outputs": [],
   "source": [
    "rate_of_burg=rate_of_burg[rate_of_burg['median_income'] > 0]"
   ]
  },
  {
   "cell_type": "code",
   "execution_count": 101,
   "id": "6c7f1350",
   "metadata": {},
   "outputs": [
    {
     "data": {
      "image/png": "[encoded data removed]",
      "text/plain": [
       "<Figure size 432x288 with 1 Axes>"
      ]
     },
     "metadata": {
      "needs_background": "light"
     },
     "output_type": "display_data"
    }
   ],
   "source": [
    "\n",
    "rate_of_burg.plot(x='tract',y='incident_reported', kind='bar',rot=45);\n"
   ]
  },
  {
   "cell_type": "code",
   "execution_count": 102,
   "id": "d7f781de",
   "metadata": {},
   "outputs": [],
   "source": [
    "import statsmodels.api as sm\n",
    "rate_of_burg['population'] = rate_of_burg['population'].astype(float)\n",
    "rate_of_burg['median_income'] = rate_of_burg['median_income'].astype(float)"
   ]
  },
  {
   "cell_type": "code",
   "execution_count": 103,
   "id": "237bea20",
   "metadata": {},
   "outputs": [
    {
     "name": "stderr",
     "output_type": "stream",
     "text": [
      "C:\\Users\\U6033919\\Anaconda3\\envs\\geospatial\\lib\\site-packages\\statsmodels\\tsa\\tsatools.py:142: FutureWarning: In a future version of pandas all arguments of concat except for the argument 'objs' will be keyword-only\n",
      "  x = pd.concat(x[::order], 1)\n"
     ]
    }
   ],
   "source": [
    "poisreg_population= (sm.GLM(endog = rate_of_burg['rate_of_burg'],\n",
    "                         exog = sm.add_constant(rate_of_burg[['population']]),\n",
    "                         family = sm.families.Poisson())\n",
    "                      .fit()\n",
    "                     )"
   ]
  },
  {
   "cell_type": "code",
   "execution_count": 104,
   "id": "f4e4ad31",
   "metadata": {},
   "outputs": [
    {
     "data": {
      "text/html": [
       "<table class=\"simpletable\">\n",
       "<caption>Generalized Linear Model Regression Results</caption>\n",
       "<tr>\n",
       "  <th>Dep. Variable:</th>     <td>rate_of_burg</td>   <th>  No. Observations:  </th>  <td>   144</td> \n",
       "</tr>\n",
       "<tr>\n",
       "  <th>Model:</th>                  <td>GLM</td>       <th>  Df Residuals:      </th>  <td>   142</td> \n",
       "</tr>\n",
       "<tr>\n",
       "  <th>Model Family:</th>         <td>Poisson</td>     <th>  Df Model:          </th>  <td>     1</td> \n",
       "</tr>\n",
       "<tr>\n",
       "  <th>Link Function:</th>          <td>log</td>       <th>  Scale:             </th> <td>  1.0000</td>\n",
       "</tr>\n",
       "<tr>\n",
       "  <th>Method:</th>                <td>IRLS</td>       <th>  Log-Likelihood:    </th> <td> -87.824</td>\n",
       "</tr>\n",
       "<tr>\n",
       "  <th>Date:</th>            <td>Sat, 09 Oct 2021</td> <th>  Deviance:          </th> <td>  12.978</td>\n",
       "</tr>\n",
       "<tr>\n",
       "  <th>Time:</th>                <td>11:49:35</td>     <th>  Pearson chi2:      </th>  <td>  13.5</td> \n",
       "</tr>\n",
       "<tr>\n",
       "  <th>No. Iterations:</th>          <td>4</td>        <th>                     </th>     <td> </td>   \n",
       "</tr>\n",
       "<tr>\n",
       "  <th>Covariance Type:</th>     <td>nonrobust</td>    <th>                     </th>     <td> </td>   \n",
       "</tr>\n",
       "</table>\n",
       "<table class=\"simpletable\">\n",
       "<tr>\n",
       "       <td></td>         <th>coef</th>     <th>std err</th>      <th>z</th>      <th>P>|z|</th>  <th>[0.025</th>    <th>0.975]</th>  \n",
       "</tr>\n",
       "<tr>\n",
       "  <th>const</th>      <td>   -1.3942</td> <td>    0.356</td> <td>   -3.917</td> <td> 0.000</td> <td>   -2.092</td> <td>   -0.697</td>\n",
       "</tr>\n",
       "<tr>\n",
       "  <th>population</th> <td> 7.029e-05</td> <td>  6.9e-05</td> <td>    1.019</td> <td> 0.308</td> <td>-6.49e-05</td> <td>    0.000</td>\n",
       "</tr>\n",
       "</table>"
      ],
      "text/plain": [
       "<class 'statsmodels.iolib.summary.Summary'>\n",
       "\"\"\"\n",
       "                 Generalized Linear Model Regression Results                  \n",
       "==============================================================================\n",
       "Dep. Variable:           rate_of_burg   No. Observations:                  144\n",
       "Model:                            GLM   Df Residuals:                      142\n",
       "Model Family:                 Poisson   Df Model:                            1\n",
       "Link Function:                    log   Scale:                          1.0000\n",
       "Method:                          IRLS   Log-Likelihood:                -87.824\n",
       "Date:                Sat, 09 Oct 2021   Deviance:                       12.978\n",
       "Time:                        11:49:35   Pearson chi2:                     13.5\n",
       "No. Iterations:                     4                                         \n",
       "Covariance Type:            nonrobust                                         \n",
       "==============================================================================\n",
       "                 coef    std err          z      P>|z|      [0.025      0.975]\n",
       "------------------------------------------------------------------------------\n",
       "const         -1.3942      0.356     -3.917      0.000      -2.092      -0.697\n",
       "population  7.029e-05    6.9e-05      1.019      0.308   -6.49e-05       0.000\n",
       "==============================================================================\n",
       "\"\"\""
      ]
     },
     "execution_count": 104,
     "metadata": {},
     "output_type": "execute_result"
    }
   ],
   "source": [
    "poisreg_population.summary()"
   ]
  },
  {
   "cell_type": "code",
   "execution_count": 105,
   "id": "c7589fca",
   "metadata": {},
   "outputs": [
    {
     "data": {
      "image/png": "[encoded data removed]",
      "text/plain": [
       "<Figure size 432x288 with 1 Axes>"
      ]
     },
     "metadata": {
      "needs_background": "light"
     },
     "output_type": "display_data"
    }
   ],
   "source": [
    "info = rate_of_burg.describe()\n",
    "t = np.linspace(0, 1.5*info['population']['max'],50)\n",
    "y = np.exp(-1.4363 + 7.755e-05 *t)\n",
    "plt.plot(t,y);"
   ]
  },
  {
   "cell_type": "code",
   "execution_count": 106,
   "id": "6d77ca65",
   "metadata": {},
   "outputs": [
    {
     "data": {
      "text/plain": [
       "0      0.305289\n",
       "1      0.338759\n",
       "2      0.314923\n",
       "3      0.332203\n",
       "4      0.314878\n",
       "         ...   \n",
       "140    0.326187\n",
       "141    0.315610\n",
       "142    0.373134\n",
       "143    0.433885\n",
       "144    0.324952\n",
       "Length: 144, dtype: float64"
      ]
     },
     "execution_count": 106,
     "metadata": {},
     "output_type": "execute_result"
    }
   ],
   "source": [
    "poisreg_population.fittedvalues"
   ]
  },
  {
   "cell_type": "code",
   "execution_count": 107,
   "id": "6d290dff",
   "metadata": {},
   "outputs": [
    {
     "data": {
      "text/plain": [
       "[<matplotlib.lines.Line2D at 0x1c557f5dc10>]"
      ]
     },
     "execution_count": 107,
     "metadata": {},
     "output_type": "execute_result"
    },
    {
     "data": {
      "image/png": "[encoded data removed]",
      "text/plain": [
       "<Figure size 432x288 with 1 Axes>"
      ]
     },
     "metadata": {
      "needs_background": "light"
     },
     "output_type": "display_data"
    }
   ],
   "source": [
    "plt.plot(poisreg_population.fittedvalues, rate_of_burg['rate_of_burg'] - poisreg_population.fittedvalues , '+', )"
   ]
  },
  {
   "cell_type": "code",
   "execution_count": 108,
   "id": "5d22cdc0",
   "metadata": {},
   "outputs": [
    {
     "name": "stderr",
     "output_type": "stream",
     "text": [
      "C:\\Users\\U6033919\\Anaconda3\\envs\\geospatial\\lib\\site-packages\\statsmodels\\tsa\\tsatools.py:142: FutureWarning: In a future version of pandas all arguments of concat except for the argument 'objs' will be keyword-only\n",
      "  x = pd.concat(x[::order], 1)\n"
     ]
    }
   ],
   "source": [
    "poisreg_income= (sm.GLM(endog = rate_of_burg['rate_of_burg'],\n",
    "                         exog = sm.add_constant(rate_of_burg[['median_income']]),\n",
    "                         family = sm.families.Poisson()) \n",
    "                 .fit()\n",
    "                )"
   ]
  },
  {
   "cell_type": "code",
   "execution_count": 109,
   "id": "e5030835",
   "metadata": {},
   "outputs": [
    {
     "data": {
      "text/html": [
       "<table class=\"simpletable\">\n",
       "<caption>Generalized Linear Model Regression Results</caption>\n",
       "<tr>\n",
       "  <th>Dep. Variable:</th>     <td>rate_of_burg</td>   <th>  No. Observations:  </th>  <td>   144</td> \n",
       "</tr>\n",
       "<tr>\n",
       "  <th>Model:</th>                  <td>GLM</td>       <th>  Df Residuals:      </th>  <td>   142</td> \n",
       "</tr>\n",
       "<tr>\n",
       "  <th>Model Family:</th>         <td>Poisson</td>     <th>  Df Model:          </th>  <td>     1</td> \n",
       "</tr>\n",
       "<tr>\n",
       "  <th>Link Function:</th>          <td>log</td>       <th>  Scale:             </th> <td>  1.0000</td>\n",
       "</tr>\n",
       "<tr>\n",
       "  <th>Method:</th>                <td>IRLS</td>       <th>  Log-Likelihood:    </th> <td> -87.735</td>\n",
       "</tr>\n",
       "<tr>\n",
       "  <th>Date:</th>            <td>Sat, 09 Oct 2021</td> <th>  Deviance:          </th> <td>  12.799</td>\n",
       "</tr>\n",
       "<tr>\n",
       "  <th>Time:</th>                <td>11:49:36</td>     <th>  Pearson chi2:      </th>  <td>  13.3</td> \n",
       "</tr>\n",
       "<tr>\n",
       "  <th>No. Iterations:</th>          <td>4</td>        <th>                     </th>     <td> </td>   \n",
       "</tr>\n",
       "<tr>\n",
       "  <th>Covariance Type:</th>     <td>nonrobust</td>    <th>                     </th>     <td> </td>   \n",
       "</tr>\n",
       "</table>\n",
       "<table class=\"simpletable\">\n",
       "<tr>\n",
       "        <td></td>           <th>coef</th>     <th>std err</th>      <th>z</th>      <th>P>|z|</th>  <th>[0.025</th>    <th>0.975]</th>  \n",
       "</tr>\n",
       "<tr>\n",
       "  <th>const</th>         <td>   -0.7080</td> <td>    0.372</td> <td>   -1.903</td> <td> 0.057</td> <td>   -1.437</td> <td>    0.021</td>\n",
       "</tr>\n",
       "<tr>\n",
       "  <th>median_income</th> <td>-6.009e-06</td> <td> 5.87e-06</td> <td>   -1.024</td> <td> 0.306</td> <td>-1.75e-05</td> <td> 5.49e-06</td>\n",
       "</tr>\n",
       "</table>"
      ],
      "text/plain": [
       "<class 'statsmodels.iolib.summary.Summary'>\n",
       "\"\"\"\n",
       "                 Generalized Linear Model Regression Results                  \n",
       "==============================================================================\n",
       "Dep. Variable:           rate_of_burg   No. Observations:                  144\n",
       "Model:                            GLM   Df Residuals:                      142\n",
       "Model Family:                 Poisson   Df Model:                            1\n",
       "Link Function:                    log   Scale:                          1.0000\n",
       "Method:                          IRLS   Log-Likelihood:                -87.735\n",
       "Date:                Sat, 09 Oct 2021   Deviance:                       12.799\n",
       "Time:                        11:49:36   Pearson chi2:                     13.3\n",
       "No. Iterations:                     4                                         \n",
       "Covariance Type:            nonrobust                                         \n",
       "=================================================================================\n",
       "                    coef    std err          z      P>|z|      [0.025      0.975]\n",
       "---------------------------------------------------------------------------------\n",
       "const            -0.7080      0.372     -1.903      0.057      -1.437       0.021\n",
       "median_income -6.009e-06   5.87e-06     -1.024      0.306   -1.75e-05    5.49e-06\n",
       "=================================================================================\n",
       "\"\"\""
      ]
     },
     "execution_count": 109,
     "metadata": {},
     "output_type": "execute_result"
    }
   ],
   "source": [
    "poisreg_income.summary()"
   ]
  },
  {
   "cell_type": "code",
   "execution_count": 110,
   "id": "2b2cd477",
   "metadata": {},
   "outputs": [
    {
     "data": {
      "text/plain": [
       "179.46949470001707"
      ]
     },
     "execution_count": 110,
     "metadata": {},
     "output_type": "execute_result"
    }
   ],
   "source": [
    "poisreg_income.aic"
   ]
  },
  {
   "cell_type": "code",
   "execution_count": 111,
   "id": "88abd7e9",
   "metadata": {},
   "outputs": [
    {
     "data": {
      "text/html": [
       "<div>\n",
       "<style scoped>\n",
       "    .dataframe tbody tr th:only-of-type {\n",
       "        vertical-align: middle;\n",
       "    }\n",
       "\n",
       "    .dataframe tbody tr th {\n",
       "        vertical-align: top;\n",
       "    }\n",
       "\n",
       "    .dataframe thead th {\n",
       "        text-align: right;\n",
       "    }\n",
       "</style>\n",
       "<table border=\"1\" class=\"dataframe\">\n",
       "  <thead>\n",
       "    <tr style=\"text-align: right;\">\n",
       "      <th></th>\n",
       "      <th>population</th>\n",
       "      <th>median_income</th>\n",
       "      <th>incident_reported</th>\n",
       "      <th>rate_of_burg</th>\n",
       "    </tr>\n",
       "  </thead>\n",
       "  <tbody>\n",
       "    <tr>\n",
       "      <th>count</th>\n",
       "      <td>144.000000</td>\n",
       "      <td>144.000000</td>\n",
       "      <td>144.000000</td>\n",
       "      <td>144.000000</td>\n",
       "    </tr>\n",
       "    <tr>\n",
       "      <th>mean</th>\n",
       "      <td>4461.319444</td>\n",
       "      <td>62600.798611</td>\n",
       "      <td>2.868056</td>\n",
       "      <td>0.342459</td>\n",
       "    </tr>\n",
       "    <tr>\n",
       "      <th>std</th>\n",
       "      <td>1848.021038</td>\n",
       "      <td>27676.236845</td>\n",
       "      <td>1.626900</td>\n",
       "      <td>0.187595</td>\n",
       "    </tr>\n",
       "    <tr>\n",
       "      <th>min</th>\n",
       "      <td>945.000000</td>\n",
       "      <td>14277.000000</td>\n",
       "      <td>1.000000</td>\n",
       "      <td>0.112373</td>\n",
       "    </tr>\n",
       "    <tr>\n",
       "      <th>25%</th>\n",
       "      <td>3161.000000</td>\n",
       "      <td>46500.500000</td>\n",
       "      <td>2.000000</td>\n",
       "      <td>0.232404</td>\n",
       "    </tr>\n",
       "    <tr>\n",
       "      <th>50%</th>\n",
       "      <td>4253.500000</td>\n",
       "      <td>57336.000000</td>\n",
       "      <td>3.000000</td>\n",
       "      <td>0.337799</td>\n",
       "    </tr>\n",
       "    <tr>\n",
       "      <th>75%</th>\n",
       "      <td>5397.750000</td>\n",
       "      <td>71560.750000</td>\n",
       "      <td>4.000000</td>\n",
       "      <td>0.462475</td>\n",
       "    </tr>\n",
       "    <tr>\n",
       "      <th>max</th>\n",
       "      <td>14022.000000</td>\n",
       "      <td>190375.000000</td>\n",
       "      <td>8.000000</td>\n",
       "      <td>0.926636</td>\n",
       "    </tr>\n",
       "  </tbody>\n",
       "</table>\n",
       "</div>"
      ],
      "text/plain": [
       "         population  median_income  incident_reported  rate_of_burg\n",
       "count    144.000000     144.000000         144.000000    144.000000\n",
       "mean    4461.319444   62600.798611           2.868056      0.342459\n",
       "std     1848.021038   27676.236845           1.626900      0.187595\n",
       "min      945.000000   14277.000000           1.000000      0.112373\n",
       "25%     3161.000000   46500.500000           2.000000      0.232404\n",
       "50%     4253.500000   57336.000000           3.000000      0.337799\n",
       "75%     5397.750000   71560.750000           4.000000      0.462475\n",
       "max    14022.000000  190375.000000           8.000000      0.926636"
      ]
     },
     "execution_count": 111,
     "metadata": {},
     "output_type": "execute_result"
    }
   ],
   "source": [
    "rate_of_burg.describe()"
   ]
  },
  {
   "cell_type": "code",
   "execution_count": 112,
   "id": "598d58e9",
   "metadata": {},
   "outputs": [],
   "source": [
    "med_inc = np.linspace(0, 1.5*info['median_income']['max'],1000)\n"
   ]
  },
  {
   "cell_type": "code",
   "execution_count": 113,
   "id": "fbddad9c",
   "metadata": {},
   "outputs": [
    {
     "name": "stderr",
     "output_type": "stream",
     "text": [
      "C:\\Users\\U6033919\\AppData\\Local\\Temp/ipykernel_15216/3255706322.py:1: RuntimeWarning: overflow encountered in exp\n",
      "  y_rate_of_burg = np.exp(-1.0718 + 2.452*med_inc)\n"
     ]
    },
    {
     "data": {
      "image/png": "[encoded data removed]",
      "text/plain": [
       "<Figure size 432x288 with 1 Axes>"
      ]
     },
     "metadata": {
      "needs_background": "light"
     },
     "output_type": "display_data"
    }
   ],
   "source": [
    "y_rate_of_burg = np.exp(-1.0718 + 2.452*med_inc)\n",
    "plt.plot(med_inc,y_rate_of_burg);"
   ]
  },
  {
   "cell_type": "code",
   "execution_count": 114,
   "id": "d52fa79f",
   "metadata": {},
   "outputs": [
    {
     "name": "stderr",
     "output_type": "stream",
     "text": [
      "C:\\Users\\U6033919\\Anaconda3\\envs\\geospatial\\lib\\site-packages\\statsmodels\\tsa\\tsatools.py:142: FutureWarning: In a future version of pandas all arguments of concat except for the argument 'objs' will be keyword-only\n",
      "  x = pd.concat(x[::order], 1)\n"
     ]
    }
   ],
   "source": [
    "poisreg_population_number= (sm.GLM(endog = rate_of_burg['incident_reported'],\n",
    "                                   exog = sm.add_constant(rate_of_burg[[]]),\n",
    "                                   family = sm.families.Poisson(),\n",
    "                                   offset = np.log(rate_of_burg['population']/1000)\n",
    "                                   )\n",
    "                             .fit()\n",
    "                            )"
   ]
  },
  {
   "cell_type": "code",
   "execution_count": 120,
   "id": "6985289c",
   "metadata": {},
   "outputs": [
    {
     "data": {
      "text/html": [
       "<table class=\"simpletable\">\n",
       "<caption>Generalized Linear Model Regression Results</caption>\n",
       "<tr>\n",
       "  <th>Dep. Variable:</th>   <td>incident_reported</td> <th>  No. Observations:  </th>  <td>   144</td> \n",
       "</tr>\n",
       "<tr>\n",
       "  <th>Model:</th>                  <td>GLM</td>        <th>  Df Residuals:      </th>  <td>   143</td> \n",
       "</tr>\n",
       "<tr>\n",
       "  <th>Model Family:</th>         <td>Poisson</td>      <th>  Df Model:          </th>  <td>     0</td> \n",
       "</tr>\n",
       "<tr>\n",
       "  <th>Link Function:</th>          <td>log</td>        <th>  Scale:             </th> <td>  1.0000</td>\n",
       "</tr>\n",
       "<tr>\n",
       "  <th>Method:</th>                <td>IRLS</td>        <th>  Log-Likelihood:    </th> <td> -267.34</td>\n",
       "</tr>\n",
       "<tr>\n",
       "  <th>Date:</th>            <td>Sat, 09 Oct 2021</td>  <th>  Deviance:          </th> <td>  129.67</td>\n",
       "</tr>\n",
       "<tr>\n",
       "  <th>Time:</th>                <td>11:51:04</td>      <th>  Pearson chi2:      </th>  <td>  141.</td> \n",
       "</tr>\n",
       "<tr>\n",
       "  <th>No. Iterations:</th>          <td>5</td>         <th>                     </th>     <td> </td>   \n",
       "</tr>\n",
       "<tr>\n",
       "  <th>Covariance Type:</th>     <td>nonrobust</td>     <th>                     </th>     <td> </td>   \n",
       "</tr>\n",
       "</table>\n",
       "<table class=\"simpletable\">\n",
       "<tr>\n",
       "    <td></td>       <th>coef</th>     <th>std err</th>      <th>z</th>      <th>P>|z|</th>  <th>[0.025</th>    <th>0.975]</th>  \n",
       "</tr>\n",
       "<tr>\n",
       "  <th>const</th> <td>   -0.4418</td> <td>    0.049</td> <td>   -8.979</td> <td> 0.000</td> <td>   -0.538</td> <td>   -0.345</td>\n",
       "</tr>\n",
       "</table>"
      ],
      "text/plain": [
       "<class 'statsmodels.iolib.summary.Summary'>\n",
       "\"\"\"\n",
       "                 Generalized Linear Model Regression Results                  \n",
       "==============================================================================\n",
       "Dep. Variable:      incident_reported   No. Observations:                  144\n",
       "Model:                            GLM   Df Residuals:                      143\n",
       "Model Family:                 Poisson   Df Model:                            0\n",
       "Link Function:                    log   Scale:                          1.0000\n",
       "Method:                          IRLS   Log-Likelihood:                -267.34\n",
       "Date:                Sat, 09 Oct 2021   Deviance:                       129.67\n",
       "Time:                        11:51:04   Pearson chi2:                     141.\n",
       "No. Iterations:                     5                                         \n",
       "Covariance Type:            nonrobust                                         \n",
       "==============================================================================\n",
       "                 coef    std err          z      P>|z|      [0.025      0.975]\n",
       "------------------------------------------------------------------------------\n",
       "const         -0.4418      0.049     -8.979      0.000      -0.538      -0.345\n",
       "==============================================================================\n",
       "\"\"\""
      ]
     },
     "execution_count": 120,
     "metadata": {},
     "output_type": "execute_result"
    }
   ],
   "source": [
    "poisreg_population_number.summary()"
   ]
  },
  {
   "cell_type": "code",
   "execution_count": 132,
   "id": "65c91bce",
   "metadata": {},
   "outputs": [
    {
     "name": "stderr",
     "output_type": "stream",
     "text": [
      "C:\\Users\\U6033919\\AppData\\Local\\Temp/ipykernel_15216/1114921484.py:2: RuntimeWarning: overflow encountered in exp\n",
      "  y_rate = np.exp(-0.4418 + t)\n"
     ]
    },
    {
     "data": {
      "image/png": "[encoded data removed]",
      "text/plain": [
       "<Figure size 432x288 with 1 Axes>"
      ]
     },
     "metadata": {
      "needs_background": "light"
     },
     "output_type": "display_data"
    }
   ],
   "source": [
    "\n",
    "t_pop = np.linspace(0, 1.5*info['population']['max'],50)\n",
    "y_rate = np.exp(-0.4418 + t)\n",
    "plt.plot(t_pop,y_rate);"
   ]
  },
  {
   "cell_type": "code",
   "execution_count": 126,
   "id": "dd8f3307",
   "metadata": {},
   "outputs": [
    {
     "data": {
      "text/plain": [
       "<matplotlib.collections.PathCollection at 0x1c5576feb80>"
      ]
     },
     "execution_count": 126,
     "metadata": {},
     "output_type": "execute_result"
    },
    {
     "data": {
      "image/png": "[encoded data removed]",
      "text/plain": [
       "<Figure size 432x288 with 1 Axes>"
      ]
     },
     "metadata": {
      "needs_background": "light"
     },
     "output_type": "display_data"
    }
   ],
   "source": [
    "plt.scatter(rate_of_burg['incident_reported'], (rate_of_burg['population']/1000))"
   ]
  },
  {
   "cell_type": "code",
   "execution_count": 127,
   "id": "5529c8a3",
   "metadata": {},
   "outputs": [
    {
     "data": {
      "text/plain": [
       "0      4\n",
       "1      3\n",
       "2      2\n",
       "3      3\n",
       "4      1\n",
       "      ..\n",
       "140    2\n",
       "141    7\n",
       "142    5\n",
       "143    7\n",
       "144    4\n",
       "Name: incident_reported, Length: 144, dtype: int64"
      ]
     },
     "execution_count": 127,
     "metadata": {},
     "output_type": "execute_result"
    }
   ],
   "source": [
    "rate_of_burg['incident_reported']"
   ]
  },
  {
   "cell_type": "code",
   "execution_count": 128,
   "id": "59c4be0e",
   "metadata": {},
   "outputs": [
    {
     "data": {
      "text/plain": [
       "0      2.955\n",
       "1      4.435\n",
       "2      3.397\n",
       "3      4.157\n",
       "4      3.395\n",
       "       ...  \n",
       "140    3.897\n",
       "141    3.428\n",
       "142    5.810\n",
       "143    7.956\n",
       "144    3.843\n",
       "Name: population, Length: 144, dtype: float64"
      ]
     },
     "execution_count": 128,
     "metadata": {},
     "output_type": "execute_result"
    }
   ],
   "source": [
    "rate_of_burg['population']/1000"
   ]
  },
  {
   "cell_type": "code",
   "execution_count": 142,
   "id": "55bd6c00",
   "metadata": {},
   "outputs": [
    {
     "name": "stderr",
     "output_type": "stream",
     "text": [
      "C:\\Users\\U6033919\\Anaconda3\\envs\\geospatial\\lib\\site-packages\\statsmodels\\tsa\\tsatools.py:142: FutureWarning: In a future version of pandas all arguments of concat except for the argument 'objs' will be keyword-only\n",
      "  x = pd.concat(x[::order], 1)\n"
     ]
    }
   ],
   "source": [
    "poisreg_population_number= (sm.GLM(endog = rate_of_burg['incident_reported'],\n",
    "                                   exog = sm.add_constant(rate_of_burg[[]]),\n",
    "                                   family = sm.families.Poisson(),\n",
    "                                   offset = np.log(rate_of_burg['population']/1000)\n",
    "                                   )\n",
    "                             .fit()\n",
    "                            )"
   ]
  },
  {
   "cell_type": "code",
   "execution_count": 143,
   "id": "a4479f3e",
   "metadata": {},
   "outputs": [
    {
     "data": {
      "text/html": [
       "<table class=\"simpletable\">\n",
       "<caption>Generalized Linear Model Regression Results</caption>\n",
       "<tr>\n",
       "  <th>Dep. Variable:</th>   <td>incident_reported</td> <th>  No. Observations:  </th>  <td>   144</td> \n",
       "</tr>\n",
       "<tr>\n",
       "  <th>Model:</th>                  <td>GLM</td>        <th>  Df Residuals:      </th>  <td>   143</td> \n",
       "</tr>\n",
       "<tr>\n",
       "  <th>Model Family:</th>         <td>Poisson</td>      <th>  Df Model:          </th>  <td>     0</td> \n",
       "</tr>\n",
       "<tr>\n",
       "  <th>Link Function:</th>          <td>log</td>        <th>  Scale:             </th> <td>  1.0000</td>\n",
       "</tr>\n",
       "<tr>\n",
       "  <th>Method:</th>                <td>IRLS</td>        <th>  Log-Likelihood:    </th> <td> -267.34</td>\n",
       "</tr>\n",
       "<tr>\n",
       "  <th>Date:</th>            <td>Sat, 09 Oct 2021</td>  <th>  Deviance:          </th> <td>  129.67</td>\n",
       "</tr>\n",
       "<tr>\n",
       "  <th>Time:</th>                <td>12:47:22</td>      <th>  Pearson chi2:      </th>  <td>  141.</td> \n",
       "</tr>\n",
       "<tr>\n",
       "  <th>No. Iterations:</th>          <td>5</td>         <th>                     </th>     <td> </td>   \n",
       "</tr>\n",
       "<tr>\n",
       "  <th>Covariance Type:</th>     <td>nonrobust</td>     <th>                     </th>     <td> </td>   \n",
       "</tr>\n",
       "</table>\n",
       "<table class=\"simpletable\">\n",
       "<tr>\n",
       "    <td></td>       <th>coef</th>     <th>std err</th>      <th>z</th>      <th>P>|z|</th>  <th>[0.025</th>    <th>0.975]</th>  \n",
       "</tr>\n",
       "<tr>\n",
       "  <th>const</th> <td>   -0.4418</td> <td>    0.049</td> <td>   -8.979</td> <td> 0.000</td> <td>   -0.538</td> <td>   -0.345</td>\n",
       "</tr>\n",
       "</table>"
      ],
      "text/plain": [
       "<class 'statsmodels.iolib.summary.Summary'>\n",
       "\"\"\"\n",
       "                 Generalized Linear Model Regression Results                  \n",
       "==============================================================================\n",
       "Dep. Variable:      incident_reported   No. Observations:                  144\n",
       "Model:                            GLM   Df Residuals:                      143\n",
       "Model Family:                 Poisson   Df Model:                            0\n",
       "Link Function:                    log   Scale:                          1.0000\n",
       "Method:                          IRLS   Log-Likelihood:                -267.34\n",
       "Date:                Sat, 09 Oct 2021   Deviance:                       129.67\n",
       "Time:                        12:47:22   Pearson chi2:                     141.\n",
       "No. Iterations:                     5                                         \n",
       "Covariance Type:            nonrobust                                         \n",
       "==============================================================================\n",
       "                 coef    std err          z      P>|z|      [0.025      0.975]\n",
       "------------------------------------------------------------------------------\n",
       "const         -0.4418      0.049     -8.979      0.000      -0.538      -0.345\n",
       "==============================================================================\n",
       "\"\"\""
      ]
     },
     "execution_count": 143,
     "metadata": {},
     "output_type": "execute_result"
    }
   ],
   "source": [
    "poisreg_population_number.summary()"
   ]
  },
  {
   "cell_type": "code",
   "execution_count": 139,
   "id": "e92c4d71",
   "metadata": {},
   "outputs": [
    {
     "data": {
      "text/plain": [
       "<statsmodels.genmod.generalized_linear_model.GLMResultsWrapper at 0x1c557e972e0>"
      ]
     },
     "execution_count": 139,
     "metadata": {},
     "output_type": "execute_result"
    }
   ],
   "source": [
    "poisreg_population_number\n"
   ]
  },
  {
   "cell_type": "code",
   "execution_count": 138,
   "id": "68179c1e",
   "metadata": {},
   "outputs": [
    {
     "data": {
      "text/plain": [
       "0.6428715969054996"
      ]
     },
     "execution_count": 138,
     "metadata": {},
     "output_type": "execute_result"
    }
   ],
   "source": [
    "np.exp(poisreg_population_number.params['const'])"
   ]
  },
  {
   "cell_type": "code",
   "execution_count": 144,
   "id": "f8094daa",
   "metadata": {},
   "outputs": [
    {
     "data": {
      "text/html": [
       "<div>\n",
       "<style scoped>\n",
       "    .dataframe tbody tr th:only-of-type {\n",
       "        vertical-align: middle;\n",
       "    }\n",
       "\n",
       "    .dataframe tbody tr th {\n",
       "        vertical-align: top;\n",
       "    }\n",
       "\n",
       "    .dataframe thead th {\n",
       "        text-align: right;\n",
       "    }\n",
       "</style>\n",
       "<table border=\"1\" class=\"dataframe\">\n",
       "  <thead>\n",
       "    <tr style=\"text-align: right;\">\n",
       "      <th></th>\n",
       "      <th>tract</th>\n",
       "      <th>population</th>\n",
       "      <th>state</th>\n",
       "      <th>county</th>\n",
       "      <th>median_income</th>\n",
       "      <th>incident_reported</th>\n",
       "      <th>rate_of_burg</th>\n",
       "    </tr>\n",
       "  </thead>\n",
       "  <tbody>\n",
       "    <tr>\n",
       "      <th>0</th>\n",
       "      <td>010104</td>\n",
       "      <td>2955.0</td>\n",
       "      <td>47</td>\n",
       "      <td>037</td>\n",
       "      <td>64844.0</td>\n",
       "      <td>4</td>\n",
       "      <td>0.500547</td>\n",
       "    </tr>\n",
       "    <tr>\n",
       "      <th>1</th>\n",
       "      <td>010105</td>\n",
       "      <td>4435.0</td>\n",
       "      <td>47</td>\n",
       "      <td>037</td>\n",
       "      <td>64688.0</td>\n",
       "      <td>3</td>\n",
       "      <td>0.357258</td>\n",
       "    </tr>\n",
       "    <tr>\n",
       "      <th>2</th>\n",
       "      <td>010106</td>\n",
       "      <td>3397.0</td>\n",
       "      <td>47</td>\n",
       "      <td>037</td>\n",
       "      <td>63864.0</td>\n",
       "      <td>2</td>\n",
       "      <td>0.245983</td>\n",
       "    </tr>\n",
       "    <tr>\n",
       "      <th>3</th>\n",
       "      <td>010201</td>\n",
       "      <td>4157.0</td>\n",
       "      <td>47</td>\n",
       "      <td>037</td>\n",
       "      <td>62829.0</td>\n",
       "      <td>3</td>\n",
       "      <td>0.360034</td>\n",
       "    </tr>\n",
       "    <tr>\n",
       "      <th>4</th>\n",
       "      <td>010301</td>\n",
       "      <td>3395.0</td>\n",
       "      <td>47</td>\n",
       "      <td>037</td>\n",
       "      <td>51918.0</td>\n",
       "      <td>1</td>\n",
       "      <td>0.123000</td>\n",
       "    </tr>\n",
       "  </tbody>\n",
       "</table>\n",
       "</div>"
      ],
      "text/plain": [
       "    tract  population state county  median_income  incident_reported  \\\n",
       "0  010104      2955.0    47    037        64844.0                  4   \n",
       "1  010105      4435.0    47    037        64688.0                  3   \n",
       "2  010106      3397.0    47    037        63864.0                  2   \n",
       "3  010201      4157.0    47    037        62829.0                  3   \n",
       "4  010301      3395.0    47    037        51918.0                  1   \n",
       "\n",
       "   rate_of_burg  \n",
       "0      0.500547  \n",
       "1      0.357258  \n",
       "2      0.245983  \n",
       "3      0.360034  \n",
       "4      0.123000  "
      ]
     },
     "execution_count": 144,
     "metadata": {},
     "output_type": "execute_result"
    }
   ],
   "source": [
    "rate_of_burg.head()"
   ]
  },
  {
   "cell_type": "code",
   "execution_count": 145,
   "id": "f2b4d664",
   "metadata": {},
   "outputs": [
    {
     "data": {
      "text/plain": [
       "<AxesSubplot:xlabel='median_income', ylabel='rate_of_burg'>"
      ]
     },
     "execution_count": 145,
     "metadata": {},
     "output_type": "execute_result"
    },
    {
     "data": {
      "image/png": "[encoded data removed]",
      "text/plain": [
       "<Figure size 432x288 with 1 Axes>"
      ]
     },
     "metadata": {
      "needs_background": "light"
     },
     "output_type": "display_data"
    }
   ],
   "source": [
    "\n",
    "rate_of_burg.plot(kind='scatter', x='median_income', y='rate_of_burg')"
   ]
  },
  {
   "cell_type": "markdown",
   "id": "a9e8b9e5",
   "metadata": {},
   "source": [
    "np.linspace? ignature:\n",
    "np.linspace(\n",
    "    start,\n",
    "    stop,\n",
    "    num=50,\n",
    "    endpoint=True,\n",
    "    retstep=False,\n",
    "    dtype=None,\n",
    "    axis=0\n"
   ]
  },
  {
   "cell_type": "code",
   "execution_count": 148,
   "id": "0d71cf57",
   "metadata": {},
   "outputs": [],
   "source": [
    "median_income_x =np.linspace(14000,200000, 200)"
   ]
  },
  {
   "cell_type": "markdown",
   "id": "f4bb6077",
   "metadata": {},
   "source": [
    "np.full_like(a, fill_value, dtype=None, order='K', subok=True, shape=None)"
   ]
  },
  {
   "cell_type": "code",
   "execution_count": null,
   "id": "c5283820",
   "metadata": {},
   "outputs": [],
   "source": [
    "np.exp(poisreg_population_number.params['const'])"
   ]
  },
  {
   "cell_type": "code",
   "execution_count": 151,
   "id": "3bde5684",
   "metadata": {},
   "outputs": [],
   "source": [
    "burg_rate_y =np.full_like(median_income_x , np.exp(poisreg_population_number.params['const']))"
   ]
  },
  {
   "cell_type": "code",
   "execution_count": 152,
   "id": "3c23b890",
   "metadata": {},
   "outputs": [
    {
     "data": {
      "text/plain": [
       "[<matplotlib.lines.Line2D at 0x1c557c5ea60>]"
      ]
     },
     "execution_count": 152,
     "metadata": {},
     "output_type": "execute_result"
    },
    {
     "data": {
      "image/png": "[encoded data removed]",
      "text/plain": [
       "<Figure size 432x288 with 1 Axes>"
      ]
     },
     "metadata": {
      "needs_background": "light"
     },
     "output_type": "display_data"
    }
   ],
   "source": [
    "rate_of_burg.plot(kind='scatter', x='median_income', y='rate_of_burg')\n",
    "plt.plot(median_income_x, burg_rate_y )"
   ]
  },
  {
   "cell_type": "code",
   "execution_count": 155,
   "id": "efaff1d9",
   "metadata": {},
   "outputs": [],
   "source": [
    "from scipy.stats import poisson"
   ]
  },
  {
   "cell_type": "code",
   "execution_count": 164,
   "id": "6b5efefc",
   "metadata": {},
   "outputs": [],
   "source": [
    "poisreg_median_income_pred= (sm.GLM(endog = rate_of_burg['incident_reported'],\n",
    "                                   exog = sm.add_constant(rate_of_burg[['median_income']]),\n",
    "                                   family = sm.families.Poisson(),\n",
    "                                   offset = np.log(rate_of_burg['population']/1000)\n",
    "                                   )\n",
    "                             .fit()\n",
    "                            )"
   ]
  },
  {
   "cell_type": "code",
   "execution_count": 165,
   "id": "f7a4e643",
   "metadata": {},
   "outputs": [
    {
     "data": {
      "text/html": [
       "<table class=\"simpletable\">\n",
       "<caption>Generalized Linear Model Regression Results</caption>\n",
       "<tr>\n",
       "  <th>Dep. Variable:</th>   <td>incident_reported</td> <th>  No. Observations:  </th>  <td>   144</td> \n",
       "</tr>\n",
       "<tr>\n",
       "  <th>Model:</th>                  <td>GLM</td>        <th>  Df Residuals:      </th>  <td>   142</td> \n",
       "</tr>\n",
       "<tr>\n",
       "  <th>Model Family:</th>         <td>Poisson</td>      <th>  Df Model:          </th>  <td>     1</td> \n",
       "</tr>\n",
       "<tr>\n",
       "  <th>Link Function:</th>          <td>log</td>        <th>  Scale:             </th> <td>  1.0000</td>\n",
       "</tr>\n",
       "<tr>\n",
       "  <th>Method:</th>                <td>IRLS</td>        <th>  Log-Likelihood:    </th> <td> -258.55</td>\n",
       "</tr>\n",
       "<tr>\n",
       "  <th>Date:</th>            <td>Sat, 09 Oct 2021</td>  <th>  Deviance:          </th> <td>  112.10</td>\n",
       "</tr>\n",
       "<tr>\n",
       "  <th>Time:</th>                <td>13:57:18</td>      <th>  Pearson chi2:      </th>  <td>  116.</td> \n",
       "</tr>\n",
       "<tr>\n",
       "  <th>No. Iterations:</th>          <td>5</td>         <th>                     </th>     <td> </td>   \n",
       "</tr>\n",
       "<tr>\n",
       "  <th>Covariance Type:</th>     <td>nonrobust</td>     <th>                     </th>     <td> </td>   \n",
       "</tr>\n",
       "</table>\n",
       "<table class=\"simpletable\">\n",
       "<tr>\n",
       "        <td></td>           <th>coef</th>     <th>std err</th>      <th>z</th>      <th>P>|z|</th>  <th>[0.025</th>    <th>0.975]</th>  \n",
       "</tr>\n",
       "<tr>\n",
       "  <th>const</th>         <td>    0.0974</td> <td>    0.138</td> <td>    0.704</td> <td> 0.482</td> <td>   -0.174</td> <td>    0.369</td>\n",
       "</tr>\n",
       "<tr>\n",
       "  <th>median_income</th> <td>-8.807e-06</td> <td>  2.2e-06</td> <td>   -4.001</td> <td> 0.000</td> <td>-1.31e-05</td> <td>-4.49e-06</td>\n",
       "</tr>\n",
       "</table>"
      ],
      "text/plain": [
       "<class 'statsmodels.iolib.summary.Summary'>\n",
       "\"\"\"\n",
       "                 Generalized Linear Model Regression Results                  \n",
       "==============================================================================\n",
       "Dep. Variable:      incident_reported   No. Observations:                  144\n",
       "Model:                            GLM   Df Residuals:                      142\n",
       "Model Family:                 Poisson   Df Model:                            1\n",
       "Link Function:                    log   Scale:                          1.0000\n",
       "Method:                          IRLS   Log-Likelihood:                -258.55\n",
       "Date:                Sat, 09 Oct 2021   Deviance:                       112.10\n",
       "Time:                        13:57:18   Pearson chi2:                     116.\n",
       "No. Iterations:                     5                                         \n",
       "Covariance Type:            nonrobust                                         \n",
       "=================================================================================\n",
       "                    coef    std err          z      P>|z|      [0.025      0.975]\n",
       "---------------------------------------------------------------------------------\n",
       "const             0.0974      0.138      0.704      0.482      -0.174       0.369\n",
       "median_income -8.807e-06    2.2e-06     -4.001      0.000   -1.31e-05   -4.49e-06\n",
       "=================================================================================\n",
       "\"\"\""
      ]
     },
     "execution_count": 165,
     "metadata": {},
     "output_type": "execute_result"
    }
   ],
   "source": [
    "poisreg_median_income_pred.summary()"
   ]
  },
  {
   "cell_type": "code",
   "execution_count": 173,
   "id": "466f6bea",
   "metadata": {},
   "outputs": [
    {
     "data": {
      "text/plain": [
       "1.1023287569419775"
      ]
     },
     "execution_count": 173,
     "metadata": {},
     "output_type": "execute_result"
    }
   ],
   "source": [
    "np.exp(poisreg_median_income_pred.params['const'])"
   ]
  },
  {
   "cell_type": "code",
   "execution_count": 176,
   "id": "5ba71f0b",
   "metadata": {},
   "outputs": [],
   "source": [
    "median_income_x =np.linspace(14000,200000, 200)"
   ]
  },
  {
   "cell_type": "code",
   "execution_count": 177,
   "id": "1bbb99a3",
   "metadata": {},
   "outputs": [],
   "source": [
    "burg_rate_pred =np.full_like(median_income_x , np.exp(poisreg_median_income_pred.params['const']))"
   ]
  },
  {
   "cell_type": "code",
   "execution_count": 180,
   "id": "020133f2",
   "metadata": {},
   "outputs": [
    {
     "data": {
      "image/png": "[encoded data removed]",
      "text/plain": [
       "<Figure size 432x288 with 1 Axes>"
      ]
     },
     "metadata": {
      "needs_background": "light"
     },
     "output_type": "display_data"
    }
   ],
   "source": [
    "rate_of_burg.plot(kind='scatter', x='median_income', y='rate_of_burg')\n",
    "plt.plot(median_income_x, burg_rate_pred);"
   ]
  },
  {
   "cell_type": "code",
   "execution_count": 181,
   "id": "5888e53f",
   "metadata": {},
   "outputs": [
    {
     "data": {
      "text/plain": [
       "[<matplotlib.lines.Line2D at 0x1c557bf7d30>]"
      ]
     },
     "execution_count": 181,
     "metadata": {},
     "output_type": "execute_result"
    },
    {
     "data": {
      "image/png": "[encoded data removed]",
      "text/plain": [
       "<Figure size 432x288 with 1 Axes>"
      ]
     },
     "metadata": {
      "needs_background": "light"
     },
     "output_type": "display_data"
    }
   ],
   "source": [
    "plt.plot(poisreg_median_income_pred.fittedvalues, rate_of_burg['rate_of_burg'] - poisreg_median_income_pred.fittedvalues , '+', )"
   ]
  },
  {
   "cell_type": "code",
   "execution_count": 192,
   "id": "146d7bcd",
   "metadata": {},
   "outputs": [
    {
     "data": {
      "image/png": "[encoded data removed]",
      "text/plain": [
       "<Figure size 432x288 with 1 Axes>"
      ]
     },
     "metadata": {
      "needs_background": "light"
     },
     "output_type": "display_data"
    }
   ],
   "source": [
    "median_income = 25000\n",
    "mu = np.exp(0.0974-8.807*median_income)\n",
    "x = np.arange(start=0, stop =25000, step =500)\n",
    "y= poisson.pmf(x, mu=mu)\n",
    "\n",
    "plt.bar(x, y, color ='cornflowerblue', edgecolor ='black')\n",
    "plt.title( \"\")\n",
    "plt.ylim(0, 10);"
   ]
  },
  {
   "cell_type": "code",
   "execution_count": null,
   "id": "b5a60997",
   "metadata": {},
   "outputs": [],
   "source": []
  }
 ],
 "metadata": {
  "kernelspec": {
   "display_name": "Python 3 (ipykernel)",
   "language": "python",
   "name": "python3"
  },
  "language_info": {
   "codemirror_mode": {
    "name": "ipython",
    "version": 3
   },
   "file_extension": ".py",
   "mimetype": "text/x-python",
   "name": "python",
   "nbconvert_exporter": "python",
   "pygments_lexer": "ipython3",
   "version": "3.8.5"
  }
 },
 "nbformat": 4,
 "nbformat_minor": 5
}
