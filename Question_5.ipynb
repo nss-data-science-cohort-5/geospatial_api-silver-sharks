{
 "cells": [
  {
   "cell_type": "code",
   "execution_count": 38,
   "id": "af2a4333",
   "metadata": {},
   "outputs": [],
   "source": [
    "import requests\n",
    "import matplotlib.pyplot as plt\n",
    "from IPython.display import Image\n",
    "import pandas as pd\n",
    "import json\n",
    "import geopandas as gpd\n",
    "import folium\n",
    "from folium.plugins import MarkerCluster\n",
    "from folium.plugins import FastMarkerCluster\n",
    "from shapely.geometry import Point\n",
    "import numpy as np\n",
    "import statsmodels.api as sm\n",
    "import statsmodels.formula.api as smf\n",
    "import seaborn as sns\n",
    "from patsy import dmatrices"
   ]
  },
  {
   "cell_type": "code",
   "execution_count": 39,
   "id": "84132923",
   "metadata": {},
   "outputs": [],
   "source": [
    "tract_pop_income = pd.read_csv(\"../geospatial_api-silver-sharks/data/tract_pop_income.csv\")"
   ]
  },
  {
   "cell_type": "code",
   "execution_count": 40,
   "id": "a730a8c0",
   "metadata": {},
   "outputs": [
    {
     "data": {
      "text/html": [
       "<table class=\"simpletable\">\n",
       "<caption>Generalized Linear Model Regression Results</caption>\n",
       "<tr>\n",
       "  <th>Dep. Variable:</th>    <td>burglary_count</td>  <th>  No. Observations:  </th>  <td>   144</td> \n",
       "</tr>\n",
       "<tr>\n",
       "  <th>Model:</th>                  <td>GLM</td>       <th>  Df Residuals:      </th>  <td>   143</td> \n",
       "</tr>\n",
       "<tr>\n",
       "  <th>Model Family:</th>         <td>Poisson</td>     <th>  Df Model:          </th>  <td>     0</td> \n",
       "</tr>\n",
       "<tr>\n",
       "  <th>Link Function:</th>          <td>log</td>       <th>  Scale:             </th> <td>  1.0000</td>\n",
       "</tr>\n",
       "<tr>\n",
       "  <th>Method:</th>                <td>IRLS</td>       <th>  Log-Likelihood:    </th> <td> -542.47</td>\n",
       "</tr>\n",
       "<tr>\n",
       "  <th>Date:</th>            <td>Mon, 11 Oct 2021</td> <th>  Deviance:          </th> <td>  616.21</td>\n",
       "</tr>\n",
       "<tr>\n",
       "  <th>Time:</th>                <td>08:14:39</td>     <th>  Pearson chi2:      </th> <td>1.32e+03</td>\n",
       "</tr>\n",
       "<tr>\n",
       "  <th>No. Iterations:</th>          <td>5</td>        <th>  Pseudo R-squ. (CS):</th>  <td> 0.000</td> \n",
       "</tr>\n",
       "<tr>\n",
       "  <th>Covariance Type:</th>     <td>nonrobust</td>    <th>                     </th>     <td> </td>   \n",
       "</tr>\n",
       "</table>\n",
       "<table class=\"simpletable\">\n",
       "<tr>\n",
       "    <td></td>       <th>coef</th>     <th>std err</th>      <th>z</th>      <th>P>|z|</th>  <th>[0.025</th>    <th>0.975]</th>  \n",
       "</tr>\n",
       "<tr>\n",
       "  <th>const</th> <td>   -6.7279</td> <td>    0.036</td> <td> -186.571</td> <td> 0.000</td> <td>   -6.799</td> <td>   -6.657</td>\n",
       "</tr>\n",
       "</table>"
      ],
      "text/plain": [
       "<class 'statsmodels.iolib.summary.Summary'>\n",
       "\"\"\"\n",
       "                 Generalized Linear Model Regression Results                  \n",
       "==============================================================================\n",
       "Dep. Variable:         burglary_count   No. Observations:                  144\n",
       "Model:                            GLM   Df Residuals:                      143\n",
       "Model Family:                 Poisson   Df Model:                            0\n",
       "Link Function:                    log   Scale:                          1.0000\n",
       "Method:                          IRLS   Log-Likelihood:                -542.47\n",
       "Date:                Mon, 11 Oct 2021   Deviance:                       616.21\n",
       "Time:                        08:14:39   Pearson chi2:                 1.32e+03\n",
       "No. Iterations:                     5   Pseudo R-squ. (CS):              0.000\n",
       "Covariance Type:            nonrobust                                         \n",
       "==============================================================================\n",
       "                 coef    std err          z      P>|z|      [0.025      0.975]\n",
       "------------------------------------------------------------------------------\n",
       "const         -6.7279      0.036   -186.571      0.000      -6.799      -6.657\n",
       "==============================================================================\n",
       "\"\"\""
      ]
     },
     "execution_count": 40,
     "metadata": {},
     "output_type": "execute_result"
    }
   ],
   "source": [
    "burg_base_pois =  (sm.GLM(endog = tract_pop_income['burglary_count'],\n",
    "                              exog = sm.add_constant(tract_pop_income[[]]),\n",
    "                              family = sm.families.Poisson(),\n",
    "                              offset = tract_pop_income['log_population'])\n",
    "                       .fit()\n",
    " )\n",
    "burg_base_pois.summary()\n"
   ]
  },
  {
   "cell_type": "code",
   "execution_count": 41,
   "id": "057bb9e6",
   "metadata": {},
   "outputs": [
    {
     "data": {
      "text/html": [
       "<table class=\"simpletable\">\n",
       "<caption>Generalized Linear Model Regression Results</caption>\n",
       "<tr>\n",
       "  <th>Dep. Variable:</th>    <td>burglary_count</td>  <th>  No. Observations:  </th>  <td>   144</td> \n",
       "</tr>\n",
       "<tr>\n",
       "  <th>Model:</th>                  <td>GLM</td>       <th>  Df Residuals:      </th>  <td>   142</td> \n",
       "</tr>\n",
       "<tr>\n",
       "  <th>Model Family:</th>         <td>Poisson</td>     <th>  Df Model:          </th>  <td>     1</td> \n",
       "</tr>\n",
       "<tr>\n",
       "  <th>Link Function:</th>          <td>log</td>       <th>  Scale:             </th> <td>  1.0000</td>\n",
       "</tr>\n",
       "<tr>\n",
       "  <th>Method:</th>                <td>IRLS</td>       <th>  Log-Likelihood:    </th> <td> -483.16</td>\n",
       "</tr>\n",
       "<tr>\n",
       "  <th>Date:</th>            <td>Mon, 11 Oct 2021</td> <th>  Deviance:          </th> <td>  497.59</td>\n",
       "</tr>\n",
       "<tr>\n",
       "  <th>Time:</th>                <td>08:14:41</td>     <th>  Pearson chi2:      </th> <td>1.02e+03</td>\n",
       "</tr>\n",
       "<tr>\n",
       "  <th>No. Iterations:</th>          <td>5</td>        <th>  Pseudo R-squ. (CS):</th>  <td>0.5612</td> \n",
       "</tr>\n",
       "<tr>\n",
       "  <th>Covariance Type:</th>     <td>nonrobust</td>    <th>                     </th>     <td> </td>   \n",
       "</tr>\n",
       "</table>\n",
       "<table class=\"simpletable\">\n",
       "<tr>\n",
       "        <td></td>           <th>coef</th>     <th>std err</th>      <th>z</th>      <th>P>|z|</th>  <th>[0.025</th>    <th>0.975]</th>  \n",
       "</tr>\n",
       "<tr>\n",
       "  <th>const</th>         <td>   -5.6562</td> <td>    0.105</td> <td>  -53.986</td> <td> 0.000</td> <td>   -5.862</td> <td>   -5.451</td>\n",
       "</tr>\n",
       "<tr>\n",
       "  <th>median_income</th> <td>-1.821e-05</td> <td>  1.8e-06</td> <td>  -10.111</td> <td> 0.000</td> <td>-2.17e-05</td> <td>-1.47e-05</td>\n",
       "</tr>\n",
       "</table>"
      ],
      "text/plain": [
       "<class 'statsmodels.iolib.summary.Summary'>\n",
       "\"\"\"\n",
       "                 Generalized Linear Model Regression Results                  \n",
       "==============================================================================\n",
       "Dep. Variable:         burglary_count   No. Observations:                  144\n",
       "Model:                            GLM   Df Residuals:                      142\n",
       "Model Family:                 Poisson   Df Model:                            1\n",
       "Link Function:                    log   Scale:                          1.0000\n",
       "Method:                          IRLS   Log-Likelihood:                -483.16\n",
       "Date:                Mon, 11 Oct 2021   Deviance:                       497.59\n",
       "Time:                        08:14:41   Pearson chi2:                 1.02e+03\n",
       "No. Iterations:                     5   Pseudo R-squ. (CS):             0.5612\n",
       "Covariance Type:            nonrobust                                         \n",
       "=================================================================================\n",
       "                    coef    std err          z      P>|z|      [0.025      0.975]\n",
       "---------------------------------------------------------------------------------\n",
       "const            -5.6562      0.105    -53.986      0.000      -5.862      -5.451\n",
       "median_income -1.821e-05    1.8e-06    -10.111      0.000   -2.17e-05   -1.47e-05\n",
       "=================================================================================\n",
       "\"\"\""
      ]
     },
     "execution_count": 41,
     "metadata": {},
     "output_type": "execute_result"
    }
   ],
   "source": [
    "burg_income_pois =  (sm.GLM(endog = tract_pop_income['burglary_count'],\n",
    "                              exog = sm.add_constant(tract_pop_income['median_income']),\n",
    "                              family = sm.families.Poisson(),\n",
    "                              offset = tract_pop_income['log_population'])\n",
    "                       .fit()\n",
    " )\n",
    "burg_income_pois.summary()\n"
   ]
  },
  {
   "cell_type": "code",
   "execution_count": 42,
   "id": "f06664c6",
   "metadata": {},
   "outputs": [
    {
     "name": "stderr",
     "output_type": "stream",
     "text": [
      "C:\\Users\\Conrad\\anaconda3\\envs\\geospatial\\lib\\site-packages\\seaborn\\_decorators.py:36: FutureWarning: Pass the following variables as keyword args: x, y. From version 0.12, the only valid positional argument will be `data`, and passing other arguments without an explicit keyword will result in an error or misinterpretation.\n",
      "  warnings.warn(\n"
     ]
    },
    {
     "data": {
      "image/png": "[encoded data removed]",
      "text/plain": [
       "<Figure size 432x288 with 1 Axes>"
      ]
     },
     "metadata": {
      "needs_background": "light"
     },
     "output_type": "display_data"
    }
   ],
   "source": [
    "tract_pop_income['fit_values'] = burg_income_pois.fittedvalues\n",
    "\n",
    "sns.regplot('median_income', 'fit_values',\n",
    "                data = tract_pop_income);"
   ]
  },
  {
   "cell_type": "code",
   "execution_count": 43,
   "id": "64c14b8b",
   "metadata": {},
   "outputs": [
    {
     "data": {
      "text/plain": [
       "0.0011970175738991013"
      ]
     },
     "execution_count": 43,
     "metadata": {},
     "output_type": "execute_result"
    }
   ],
   "source": [
    "#fill\n",
    "np.exp(burg_base_pois.params['const'])\n",
    "#full_like\n"
   ]
  },
  {
   "cell_type": "code",
   "execution_count": 44,
   "id": "0b6592a1",
   "metadata": {},
   "outputs": [],
   "source": [
    "line = np.linspace(0, 3, num=200)"
   ]
  },
  {
   "cell_type": "code",
   "execution_count": 45,
   "id": "ae37b117",
   "metadata": {},
   "outputs": [
    {
     "name": "stderr",
     "output_type": "stream",
     "text": [
      "C:\\Users\\Conrad\\anaconda3\\envs\\geospatial\\lib\\site-packages\\seaborn\\_decorators.py:36: FutureWarning: Pass the following variables as keyword args: x, y. From version 0.12, the only valid positional argument will be `data`, and passing other arguments without an explicit keyword will result in an error or misinterpretation.\n",
      "  warnings.warn(\n"
     ]
    },
    {
     "data": {
      "text/plain": [
       "<AxesSubplot:>"
      ]
     },
     "execution_count": 45,
     "metadata": {},
     "output_type": "execute_result"
    },
    {
     "data": {
      "image/png": "[encoded data removed]",
      "text/plain": [
       "<Figure size 432x288 with 1 Axes>"
      ]
     },
     "metadata": {
      "needs_background": "light"
     },
     "output_type": "display_data"
    }
   ],
   "source": [
    "y = np.full_like(line, np.exp(burg_income_pois.params['const']))\n",
    "\n",
    "sns.scatterplot(line, y)"
   ]
  },
  {
   "cell_type": "markdown",
   "id": "7668c9be",
   "metadata": {},
   "source": [
    "numpy.linspace(start, stop, num=50, endpoint=True, retstep=False, dtype=None, axis=0)\n",
    "numpy.full_like(a, fill_value, dtype=None, order='K', subok=True, shape=None)\n",
    "np.exp(poisreg_burglaries.params['const'])\n",
    "\n",
    "https://seaborn.pydata.org/generated/seaborn.regplot.html\n"
   ]
  },
  {
   "cell_type": "code",
   "execution_count": 56,
   "id": "0d39f3f2",
   "metadata": {},
   "outputs": [
    {
     "name": "stdout",
     "output_type": "stream",
     "text": [
      "Training data set length=116\n",
      "Testing data set length=28\n"
     ]
    }
   ],
   "source": [
    "mask = np.random.rand(len(tract_pop_income)) < 0.8\n",
    "\n",
    "tract_pop_income_train = tract_pop_income[mask]\n",
    "tract_pop_income_test = tract_pop_income[~mask]\n",
    "print('Training data set length='+str(len(tract_pop_income_train)))\n",
    "print('Testing data set length='+str(len(tract_pop_income_test)))\n"
   ]
  },
  {
   "cell_type": "code",
   "execution_count": 86,
   "id": "16aec511",
   "metadata": {
    "scrolled": true
   },
   "outputs": [
    {
     "data": {
      "text/html": [
       "<table class=\"simpletable\">\n",
       "<caption>Generalized Linear Model Regression Results</caption>\n",
       "<tr>\n",
       "  <th>Dep. Variable:</th>    <td>burglary_count</td>  <th>  No. Observations:  </th>  <td>   144</td> \n",
       "</tr>\n",
       "<tr>\n",
       "  <th>Model:</th>                  <td>GLM</td>       <th>  Df Residuals:      </th>  <td>   142</td> \n",
       "</tr>\n",
       "<tr>\n",
       "  <th>Model Family:</th>         <td>Poisson</td>     <th>  Df Model:          </th>  <td>     1</td> \n",
       "</tr>\n",
       "<tr>\n",
       "  <th>Link Function:</th>          <td>log</td>       <th>  Scale:             </th> <td>  1.0000</td>\n",
       "</tr>\n",
       "<tr>\n",
       "  <th>Method:</th>                <td>IRLS</td>       <th>  Log-Likelihood:    </th> <td> -483.16</td>\n",
       "</tr>\n",
       "<tr>\n",
       "  <th>Date:</th>            <td>Mon, 11 Oct 2021</td> <th>  Deviance:          </th> <td>  497.59</td>\n",
       "</tr>\n",
       "<tr>\n",
       "  <th>Time:</th>                <td>13:00:44</td>     <th>  Pearson chi2:      </th> <td>1.02e+03</td>\n",
       "</tr>\n",
       "<tr>\n",
       "  <th>No. Iterations:</th>          <td>5</td>        <th>  Pseudo R-squ. (CS):</th>  <td>0.5612</td> \n",
       "</tr>\n",
       "<tr>\n",
       "  <th>Covariance Type:</th>     <td>nonrobust</td>    <th>                     </th>     <td> </td>   \n",
       "</tr>\n",
       "</table>\n",
       "<table class=\"simpletable\">\n",
       "<tr>\n",
       "        <td></td>           <th>coef</th>     <th>std err</th>      <th>z</th>      <th>P>|z|</th>  <th>[0.025</th>    <th>0.975]</th>  \n",
       "</tr>\n",
       "<tr>\n",
       "  <th>Intercept</th>     <td>   -5.6562</td> <td>    0.105</td> <td>  -53.986</td> <td> 0.000</td> <td>   -5.862</td> <td>   -5.451</td>\n",
       "</tr>\n",
       "<tr>\n",
       "  <th>median_income</th> <td>-1.821e-05</td> <td>  1.8e-06</td> <td>  -10.111</td> <td> 0.000</td> <td>-2.17e-05</td> <td>-1.47e-05</td>\n",
       "</tr>\n",
       "</table>"
      ],
      "text/plain": [
       "<class 'statsmodels.iolib.summary.Summary'>\n",
       "\"\"\"\n",
       "                 Generalized Linear Model Regression Results                  \n",
       "==============================================================================\n",
       "Dep. Variable:         burglary_count   No. Observations:                  144\n",
       "Model:                            GLM   Df Residuals:                      142\n",
       "Model Family:                 Poisson   Df Model:                            1\n",
       "Link Function:                    log   Scale:                          1.0000\n",
       "Method:                          IRLS   Log-Likelihood:                -483.16\n",
       "Date:                Mon, 11 Oct 2021   Deviance:                       497.59\n",
       "Time:                        13:00:44   Pearson chi2:                 1.02e+03\n",
       "No. Iterations:                     5   Pseudo R-squ. (CS):             0.5612\n",
       "Covariance Type:            nonrobust                                         \n",
       "=================================================================================\n",
       "                    coef    std err          z      P>|z|      [0.025      0.975]\n",
       "---------------------------------------------------------------------------------\n",
       "Intercept        -5.6562      0.105    -53.986      0.000      -5.862      -5.451\n",
       "median_income -1.821e-05    1.8e-06    -10.111      0.000   -2.17e-05   -1.47e-05\n",
       "=================================================================================\n",
       "\"\"\""
      ]
     },
     "metadata": {},
     "output_type": "display_data"
    }
   ],
   "source": [
    "expr = \"\"\"burglary_count ~ median_income\"\"\"\n",
    "\n",
    "y_train, X_train = dmatrices(expr, tract_pop_income, return_type='dataframe')\n",
    "y_test, X_test = dmatrices(expr, tract_pop_income, return_type='dataframe')\n",
    "\n",
    "poisson_training_results = (sm.GLM(y_train, X_train, \n",
    "                                   family=sm.families.Poisson(),\n",
    "                                   offset = tract_pop_income['log_population'])\n",
    "                            .fit())                                    \n",
    "display(poisson_training_results.summary())\n"
   ]
  },
  {
   "cell_type": "code",
   "execution_count": 88,
   "id": "135d9e9d",
   "metadata": {},
   "outputs": [
    {
     "name": "stdout",
     "output_type": "stream",
     "text": [
      "[ 3.1720864   4.77435528  3.71220993  4.62915138  4.611488    6.78125736\n",
      "  7.2451568  13.12238387  6.03385324  6.67599032  5.90288272  5.88282629\n",
      "  6.50789541  6.62729272  7.27692063  5.68632414  3.82211117  9.98921635\n",
      "  7.32014725 10.75775385  3.59587081  2.94935343  4.18439839  8.59258243\n",
      "  6.3936838   4.06577756  5.2526603   5.95454123  4.25553764  3.48379454\n",
      "  1.052449    1.38385551  3.05868872 11.60782951  3.68619592 10.08775252\n",
      "  7.03494002  2.69151897  3.94487414  3.59166351  3.97750004  3.28569721\n",
      "  7.10572268 12.29336811  3.69496406  3.2949844   4.58739282  3.41837837\n",
      "  3.39704649  8.68940282  4.42930972  2.63461974  6.04657182  5.5596233\n",
      "  4.63167134  5.50482802  4.01716849  5.69700404  5.08417532  8.57701318\n",
      "  9.18775053  9.24920429  5.03619769  8.46971565  2.81062941  8.51458726\n",
      "  4.61033126  9.4714325   2.99715707  8.62182276  6.29036451  6.65107523\n",
      "  9.43496709  3.43525999  5.2600879   9.30365624  5.85350866 10.74988841\n",
      "  2.15120747  9.98768825  5.14566104  6.29880307  7.14865483  1.68167677\n",
      "  3.40705065  6.55195789  3.55462396  7.03798185  6.27465863  3.90318717\n",
      "  2.33170152  2.94152133  2.58114391  2.36104809  1.89539144  4.2939936\n",
      "  3.40496587  8.86755024  5.35740342  0.74080935  2.55766171  4.07485265\n",
      "  2.83225747  1.69252088  2.26183438  9.47652997  2.85690388  1.50522683\n",
      "  8.86172978  5.85568297  8.63180358  4.4443026   2.6737722   2.5412949\n",
      "  4.21346744  0.27327383  0.47408408  3.27120667  2.83455549  1.87186504\n",
      "  4.05082048  2.59664941  4.32408559  3.50507607  6.60342092  7.39459054\n",
      "  7.76346626  9.00095365  4.67792679  6.62597753  7.33378945  4.54922333\n",
      "  6.50379985  4.31119762  9.42456192  1.64072822  5.38585076  4.18697914\n",
      "  8.21732792  5.01937211  9.24043697  4.62324291  7.04118578  4.58248064]\n",
      "144\n"
     ]
    }
   ],
   "source": [
    "print(poisson_training_results.mu)\n",
    "print(len(poisson_training_results.mu))"
   ]
  },
  {
   "cell_type": "code",
   "execution_count": 89,
   "id": "35e50ef8",
   "metadata": {},
   "outputs": [
    {
     "name": "stdout",
     "output_type": "stream",
     "text": [
      "burglary_lambda    0.681586\n",
      "dtype: float64\n"
     ]
    }
   ],
   "source": [
    "tract_pop_income['burglary_lambda'] = poisson_training_results.mu\n",
    "\n",
    "tract_pop_income['AUX_OLS_DEP'] = (tract_pop_income.apply(\n",
    "    lambda x: ((x['burglary_count'] - x['burglary_lambda'])**2 - x['burglary_lambda']) / \n",
    "              x['burglary_lambda'], \n",
    "               axis=1))\n",
    "\n",
    "ols_expr = \"\"\"AUX_OLS_DEP ~ burglary_lambda -1\"\"\"\n",
    "\n",
    "aux_olsr_results = smf.ols(ols_expr, tract_pop_income).fit()\n",
    "\n",
    "print(aux_olsr_results.params)"
   ]
  },
  {
   "cell_type": "code",
   "execution_count": 90,
   "id": "f930d2a9",
   "metadata": {},
   "outputs": [
    {
     "data": {
      "text/plain": [
       "burglary_lambda    0.847271\n",
       "dtype: float64"
      ]
     },
     "execution_count": 90,
     "metadata": {},
     "output_type": "execute_result"
    }
   ],
   "source": [
    "aux_olsr_results.tvalues"
   ]
  },
  {
   "cell_type": "code",
   "execution_count": 92,
   "id": "59de0db4",
   "metadata": {
    "scrolled": true
   },
   "outputs": [
    {
     "data": {
      "text/html": [
       "<table class=\"simpletable\">\n",
       "<caption>Generalized Linear Model Regression Results</caption>\n",
       "<tr>\n",
       "  <th>Dep. Variable:</th>    <td>burglary_count</td>  <th>  No. Observations:  </th>  <td>   144</td> \n",
       "</tr>\n",
       "<tr>\n",
       "  <th>Model:</th>                  <td>GLM</td>       <th>  Df Residuals:      </th>  <td>   142</td> \n",
       "</tr>\n",
       "<tr>\n",
       "  <th>Model Family:</th>    <td>NegativeBinomial</td> <th>  Df Model:          </th>  <td>     1</td> \n",
       "</tr>\n",
       "<tr>\n",
       "  <th>Link Function:</th>          <td>log</td>       <th>  Scale:             </th> <td>  1.0000</td>\n",
       "</tr>\n",
       "<tr>\n",
       "  <th>Method:</th>                <td>IRLS</td>       <th>  Log-Likelihood:    </th> <td> -387.92</td>\n",
       "</tr>\n",
       "<tr>\n",
       "  <th>Date:</th>            <td>Mon, 11 Oct 2021</td> <th>  Deviance:          </th> <td>  100.58</td>\n",
       "</tr>\n",
       "<tr>\n",
       "  <th>Time:</th>                <td>13:01:25</td>     <th>  Pearson chi2:      </th>  <td>  248.</td> \n",
       "</tr>\n",
       "<tr>\n",
       "  <th>No. Iterations:</th>          <td>9</td>        <th>  Pseudo R-squ. (CS):</th>  <td>0.1615</td> \n",
       "</tr>\n",
       "<tr>\n",
       "  <th>Covariance Type:</th>     <td>nonrobust</td>    <th>                     </th>     <td> </td>   \n",
       "</tr>\n",
       "</table>\n",
       "<table class=\"simpletable\">\n",
       "<tr>\n",
       "        <td></td>           <th>coef</th>     <th>std err</th>      <th>z</th>      <th>P>|z|</th>  <th>[0.025</th>    <th>0.975]</th>  \n",
       "</tr>\n",
       "<tr>\n",
       "  <th>Intercept</th>     <td>   -5.7588</td> <td>    0.211</td> <td>  -27.284</td> <td> 0.000</td> <td>   -6.172</td> <td>   -5.345</td>\n",
       "</tr>\n",
       "<tr>\n",
       "  <th>median_income</th> <td>-1.476e-05</td> <td> 3.26e-06</td> <td>   -4.525</td> <td> 0.000</td> <td>-2.12e-05</td> <td>-8.37e-06</td>\n",
       "</tr>\n",
       "</table>"
      ],
      "text/plain": [
       "<class 'statsmodels.iolib.summary.Summary'>\n",
       "\"\"\"\n",
       "                 Generalized Linear Model Regression Results                  \n",
       "==============================================================================\n",
       "Dep. Variable:         burglary_count   No. Observations:                  144\n",
       "Model:                            GLM   Df Residuals:                      142\n",
       "Model Family:        NegativeBinomial   Df Model:                            1\n",
       "Link Function:                    log   Scale:                          1.0000\n",
       "Method:                          IRLS   Log-Likelihood:                -387.92\n",
       "Date:                Mon, 11 Oct 2021   Deviance:                       100.58\n",
       "Time:                        13:01:25   Pearson chi2:                     248.\n",
       "No. Iterations:                     9   Pseudo R-squ. (CS):             0.1615\n",
       "Covariance Type:            nonrobust                                         \n",
       "=================================================================================\n",
       "                    coef    std err          z      P>|z|      [0.025      0.975]\n",
       "---------------------------------------------------------------------------------\n",
       "Intercept        -5.7588      0.211    -27.284      0.000      -6.172      -5.345\n",
       "median_income -1.476e-05   3.26e-06     -4.525      0.000   -2.12e-05   -8.37e-06\n",
       "=================================================================================\n",
       "\"\"\""
      ]
     },
     "execution_count": 92,
     "metadata": {},
     "output_type": "execute_result"
    }
   ],
   "source": [
    "nb2_training_results = (sm.GLM(y_train, X_train,\n",
    "                              family=sm.families.NegativeBinomial(alpha=aux_olsr_results.params[0]),\n",
    "                              offset = tract_pop_income['log_population'])\n",
    "                        .fit())\n",
    "nb2_training_results.summary()"
   ]
  },
  {
   "cell_type": "code",
   "execution_count": 93,
   "id": "0fc3394e",
   "metadata": {},
   "outputs": [
    {
     "data": {
      "text/html": [
       "<table class=\"simpletable\">\n",
       "<caption>Generalized Linear Model Regression Results</caption>\n",
       "<tr>\n",
       "  <th>Dep. Variable:</th>    <td>burglary_count</td>  <th>  No. Observations:  </th>  <td>   144</td> \n",
       "</tr>\n",
       "<tr>\n",
       "  <th>Model:</th>                  <td>GLM</td>       <th>  Df Residuals:      </th>  <td>   142</td> \n",
       "</tr>\n",
       "<tr>\n",
       "  <th>Model Family:</th>    <td>NegativeBinomial</td> <th>  Df Model:          </th>  <td>     1</td> \n",
       "</tr>\n",
       "<tr>\n",
       "  <th>Link Function:</th>          <td>log</td>       <th>  Scale:             </th> <td>  1.0000</td>\n",
       "</tr>\n",
       "<tr>\n",
       "  <th>Method:</th>                <td>IRLS</td>       <th>  Log-Likelihood:    </th> <td> -379.55</td>\n",
       "</tr>\n",
       "<tr>\n",
       "  <th>Date:</th>            <td>Mon, 11 Oct 2021</td> <th>  Deviance:          </th> <td>  83.840</td>\n",
       "</tr>\n",
       "<tr>\n",
       "  <th>Time:</th>                <td>13:01:36</td>     <th>  Pearson chi2:      </th>  <td>  144.</td> \n",
       "</tr>\n",
       "<tr>\n",
       "  <th>No. Iterations:</th>          <td>7</td>        <th>  Pseudo R-squ. (CS):</th>  <td>0.1021</td> \n",
       "</tr>\n",
       "<tr>\n",
       "  <th>Covariance Type:</th>     <td>nonrobust</td>    <th>                     </th>     <td> </td>   \n",
       "</tr>\n",
       "</table>\n",
       "<table class=\"simpletable\">\n",
       "<tr>\n",
       "        <td></td>           <th>coef</th>     <th>std err</th>      <th>z</th>      <th>P>|z|</th>  <th>[0.025</th>    <th>0.975]</th>  \n",
       "</tr>\n",
       "<tr>\n",
       "  <th>Intercept</th>     <td>    2.3452</td> <td>    0.203</td> <td>   11.545</td> <td> 0.000</td> <td>    1.947</td> <td>    2.743</td>\n",
       "</tr>\n",
       "<tr>\n",
       "  <th>median_income</th> <td>-1.149e-05</td> <td>  3.1e-06</td> <td>   -3.703</td> <td> 0.000</td> <td>-1.76e-05</td> <td>-5.41e-06</td>\n",
       "</tr>\n",
       "</table>"
      ],
      "text/plain": [
       "<class 'statsmodels.iolib.summary.Summary'>\n",
       "\"\"\"\n",
       "                 Generalized Linear Model Regression Results                  \n",
       "==============================================================================\n",
       "Dep. Variable:         burglary_count   No. Observations:                  144\n",
       "Model:                            GLM   Df Residuals:                      142\n",
       "Model Family:        NegativeBinomial   Df Model:                            1\n",
       "Link Function:                    log   Scale:                          1.0000\n",
       "Method:                          IRLS   Log-Likelihood:                -379.55\n",
       "Date:                Mon, 11 Oct 2021   Deviance:                       83.840\n",
       "Time:                        13:01:36   Pearson chi2:                     144.\n",
       "No. Iterations:                     7   Pseudo R-squ. (CS):             0.1021\n",
       "Covariance Type:            nonrobust                                         \n",
       "=================================================================================\n",
       "                    coef    std err          z      P>|z|      [0.025      0.975]\n",
       "---------------------------------------------------------------------------------\n",
       "Intercept         2.3452      0.203     11.545      0.000       1.947       2.743\n",
       "median_income -1.149e-05    3.1e-06     -3.703      0.000   -1.76e-05   -5.41e-06\n",
       "=================================================================================\n",
       "\"\"\""
      ]
     },
     "metadata": {},
     "output_type": "display_data"
    }
   ],
   "source": [
    "nb2_training_results = (sm.GLM(y_train,\n",
    "                              X_train, \n",
    "                              family=sm.families.NegativeBinomial(alpha=aux_olsr_results.params[0])).fit())\n",
    "display(nb2_training_results.summary()\n",
    "    )"
   ]
  },
  {
   "cell_type": "code",
   "execution_count": 95,
   "id": "5cdeaf87",
   "metadata": {},
   "outputs": [
    {
     "data": {
      "text/html": [
       "<div>\n",
       "<style scoped>\n",
       "    .dataframe tbody tr th:only-of-type {\n",
       "        vertical-align: middle;\n",
       "    }\n",
       "\n",
       "    .dataframe tbody tr th {\n",
       "        vertical-align: top;\n",
       "    }\n",
       "\n",
       "    .dataframe thead th {\n",
       "        text-align: right;\n",
       "    }\n",
       "</style>\n",
       "<table border=\"1\" class=\"dataframe\">\n",
       "  <thead>\n",
       "    <tr style=\"text-align: right;\">\n",
       "      <th></th>\n",
       "      <th>mean</th>\n",
       "      <th>mean_se</th>\n",
       "      <th>mean_ci_lower</th>\n",
       "      <th>mean_ci_upper</th>\n",
       "    </tr>\n",
       "  </thead>\n",
       "  <tbody>\n",
       "    <tr>\n",
       "      <th>0</th>\n",
       "      <td>4.953697</td>\n",
       "      <td>0.393935</td>\n",
       "      <td>4.238761</td>\n",
       "      <td>5.789219</td>\n",
       "    </tr>\n",
       "    <tr>\n",
       "      <th>1</th>\n",
       "      <td>4.962585</td>\n",
       "      <td>0.394233</td>\n",
       "      <td>4.247053</td>\n",
       "      <td>5.798668</td>\n",
       "    </tr>\n",
       "    <tr>\n",
       "      <th>2</th>\n",
       "      <td>5.009796</td>\n",
       "      <td>0.396040</td>\n",
       "      <td>4.290718</td>\n",
       "      <td>5.849383</td>\n",
       "    </tr>\n",
       "    <tr>\n",
       "      <th>3</th>\n",
       "      <td>5.069732</td>\n",
       "      <td>0.398891</td>\n",
       "      <td>4.345220</td>\n",
       "      <td>5.915048</td>\n",
       "    </tr>\n",
       "    <tr>\n",
       "      <th>4</th>\n",
       "      <td>5.746914</td>\n",
       "      <td>0.474844</td>\n",
       "      <td>4.887686</td>\n",
       "      <td>6.757188</td>\n",
       "    </tr>\n",
       "    <tr>\n",
       "      <th>...</th>\n",
       "      <td>...</td>\n",
       "      <td>...</td>\n",
       "      <td>...</td>\n",
       "      <td>...</td>\n",
       "    </tr>\n",
       "    <tr>\n",
       "      <th>139</th>\n",
       "      <td>5.557351</td>\n",
       "      <td>0.445703</td>\n",
       "      <td>4.748987</td>\n",
       "      <td>6.503315</td>\n",
       "    </tr>\n",
       "    <tr>\n",
       "      <th>140</th>\n",
       "      <td>8.856788</td>\n",
       "      <td>1.445096</td>\n",
       "      <td>6.432682</td>\n",
       "      <td>12.194400</td>\n",
       "    </tr>\n",
       "    <tr>\n",
       "      <th>141</th>\n",
       "      <td>4.100891</td>\n",
       "      <td>0.416885</td>\n",
       "      <td>3.360063</td>\n",
       "      <td>5.005057</td>\n",
       "    </tr>\n",
       "    <tr>\n",
       "      <th>142</th>\n",
       "      <td>4.385527</td>\n",
       "      <td>0.399867</td>\n",
       "      <td>3.667840</td>\n",
       "      <td>5.243645</td>\n",
       "    </tr>\n",
       "    <tr>\n",
       "      <th>143</th>\n",
       "      <td>5.293388</td>\n",
       "      <td>0.415150</td>\n",
       "      <td>4.539161</td>\n",
       "      <td>6.172937</td>\n",
       "    </tr>\n",
       "  </tbody>\n",
       "</table>\n",
       "<p>144 rows × 4 columns</p>\n",
       "</div>"
      ],
      "text/plain": [
       "         mean   mean_se  mean_ci_lower  mean_ci_upper\n",
       "0    4.953697  0.393935       4.238761       5.789219\n",
       "1    4.962585  0.394233       4.247053       5.798668\n",
       "2    5.009796  0.396040       4.290718       5.849383\n",
       "3    5.069732  0.398891       4.345220       5.915048\n",
       "4    5.746914  0.474844       4.887686       6.757188\n",
       "..        ...       ...            ...            ...\n",
       "139  5.557351  0.445703       4.748987       6.503315\n",
       "140  8.856788  1.445096       6.432682      12.194400\n",
       "141  4.100891  0.416885       3.360063       5.005057\n",
       "142  4.385527  0.399867       3.667840       5.243645\n",
       "143  5.293388  0.415150       4.539161       6.172937\n",
       "\n",
       "[144 rows x 4 columns]"
      ]
     },
     "metadata": {},
     "output_type": "display_data"
    }
   ],
   "source": [
    "nb2_predictions = nb2_training_results.get_prediction(X_test)\n",
    "\n",
    "predictions_summary_frame = nb2_predictions.summary_frame()\n",
    "display(predictions_summary_frame)"
   ]
  },
  {
   "cell_type": "code",
   "execution_count": 97,
   "id": "c08fc81a",
   "metadata": {},
   "outputs": [
    {
     "data": {
      "image/png": "[encoded data removed]",
      "text/plain": [
       "<Figure size 432x288 with 1 Axes>"
      ]
     },
     "metadata": {
      "needs_background": "light"
     },
     "output_type": "display_data"
    }
   ],
   "source": [
    "predicted_counts=predictions_summary_frame['mean']\n",
    "actual_counts = y_test['burglary_count']\n",
    "fig = plt.figure()\n",
    "fig.suptitle('Predicted versus actual burglary counts in Davidson county')\n",
    "predicted, = plt.plot(X_test.index, predicted_counts, 'go-', label='Predicted counts')\n",
    "actual, = plt.plot(X_test.index, actual_counts, 'ro-', label='Actual counts')\n",
    "plt.legend(handles=[predicted,actual])\n",
    "plt.show()"
   ]
  },
  {
   "cell_type": "code",
   "execution_count": 98,
   "id": "e65f9eb5",
   "metadata": {},
   "outputs": [
    {
     "name": "stderr",
     "output_type": "stream",
     "text": [
      "C:\\Users\\Conrad\\AppData\\Local\\Temp/ipykernel_8488/2104492844.py:1: SettingWithCopyWarning: \n",
      "A value is trying to be set on a copy of a slice from a DataFrame.\n",
      "Try using .loc[row_indexer,col_indexer] = value instead\n",
      "\n",
      "See the caveats in the documentation: https://pandas.pydata.org/pandas-docs/stable/user_guide/indexing.html#returning-a-view-versus-a-copy\n",
      "  tract_pop_income_train['fit_values'] = nb2_training_results.fittedvalues\n",
      "C:\\Users\\Conrad\\anaconda3\\envs\\geospatial\\lib\\site-packages\\seaborn\\_decorators.py:36: FutureWarning: Pass the following variables as keyword args: x, y. From version 0.12, the only valid positional argument will be `data`, and passing other arguments without an explicit keyword will result in an error or misinterpretation.\n",
      "  warnings.warn(\n"
     ]
    },
    {
     "data": {
      "image/png": "[encoded data removed]",
      "text/plain": [
       "<Figure size 432x288 with 1 Axes>"
      ]
     },
     "metadata": {
      "needs_background": "light"
     },
     "output_type": "display_data"
    }
   ],
   "source": [
    "tract_pop_income_train['fit_values'] = nb2_training_results.fittedvalues\n",
    "\n",
    "sns.regplot('median_income', 'fit_values',\n",
    "                data = tract_pop_income_train);"
   ]
  }
 ],
 "metadata": {
  "kernelspec": {
   "display_name": "Python 3 (ipykernel)",
   "language": "python",
   "name": "python3"
  },
  "language_info": {
   "codemirror_mode": {
    "name": "ipython",
    "version": 3
   },
   "file_extension": ".py",
   "mimetype": "text/x-python",
   "name": "python",
   "nbconvert_exporter": "python",
   "pygments_lexer": "ipython3",
   "version": "3.8.5"
  }
 },
 "nbformat": 4,
 "nbformat_minor": 5
}
