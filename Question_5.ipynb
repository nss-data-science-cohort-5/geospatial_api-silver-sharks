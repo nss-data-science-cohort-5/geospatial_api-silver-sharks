{
 "cells": [
  {
   "cell_type": "code",
   "execution_count": 10,
   "id": "5b29c95e",
   "metadata": {},
   "outputs": [],
   "source": [
    "import requests\n",
    "import matplotlib.pyplot as plt\n",
    "from IPython.display import Image\n",
    "import pandas as pd\n",
    "import json\n",
    "import geopandas as gpd\n",
    "import folium\n",
    "from folium.plugins import MarkerCluster\n",
    "from folium.plugins import FastMarkerCluster\n",
    "from shapely.geometry import Point\n",
    "import numpy as np\n",
    "import statsmodels.api as sm\n",
    "import statsmodels.formula.api as smf\n",
    "import seaborn as sns\n",
    "from patsy import dmatrices"
   ]
  },
  {
   "cell_type": "code",
   "execution_count": 11,
   "id": "eb6123c4",
   "metadata": {},
   "outputs": [],
   "source": [
    "tract_pop_income = pd.read_csv(\"../geospatial_api-silver-sharks/data/tract_pop_income.csv\")"
   ]
  },
  {
   "cell_type": "code",
   "execution_count": 12,
   "id": "a730a8c0",
   "metadata": {},
   "outputs": [
    {
     "data": {
      "text/html": [
       "<table class=\"simpletable\">\n",
       "<caption>Generalized Linear Model Regression Results</caption>\n",
       "<tr>\n",
       "  <th>Dep. Variable:</th>    <td>burglary_count</td>  <th>  No. Observations:  </th>  <td>   144</td> \n",
       "</tr>\n",
       "<tr>\n",
       "  <th>Model:</th>                  <td>GLM</td>       <th>  Df Residuals:      </th>  <td>   143</td> \n",
       "</tr>\n",
       "<tr>\n",
       "  <th>Model Family:</th>         <td>Poisson</td>     <th>  Df Model:          </th>  <td>     0</td> \n",
       "</tr>\n",
       "<tr>\n",
       "  <th>Link Function:</th>          <td>log</td>       <th>  Scale:             </th> <td>  1.0000</td>\n",
       "</tr>\n",
       "<tr>\n",
       "  <th>Method:</th>                <td>IRLS</td>       <th>  Log-Likelihood:    </th> <td> -267.34</td>\n",
       "</tr>\n",
       "<tr>\n",
       "  <th>Date:</th>            <td>Sun, 10 Oct 2021</td> <th>  Deviance:          </th> <td>  129.67</td>\n",
       "</tr>\n",
       "<tr>\n",
       "  <th>Time:</th>                <td>16:18:21</td>     <th>  Pearson chi2:      </th>  <td>  141.</td> \n",
       "</tr>\n",
       "<tr>\n",
       "  <th>No. Iterations:</th>          <td>5</td>        <th>  Pseudo R-squ. (CS):</th>  <td> 0.000</td> \n",
       "</tr>\n",
       "<tr>\n",
       "  <th>Covariance Type:</th>     <td>nonrobust</td>    <th>                     </th>     <td> </td>   \n",
       "</tr>\n",
       "</table>\n",
       "<table class=\"simpletable\">\n",
       "<tr>\n",
       "    <td></td>       <th>coef</th>     <th>std err</th>      <th>z</th>      <th>P>|z|</th>  <th>[0.025</th>    <th>0.975]</th>  \n",
       "</tr>\n",
       "<tr>\n",
       "  <th>const</th> <td>   -7.3496</td> <td>    0.049</td> <td> -149.361</td> <td> 0.000</td> <td>   -7.446</td> <td>   -7.253</td>\n",
       "</tr>\n",
       "</table>"
      ],
      "text/plain": [
       "<class 'statsmodels.iolib.summary.Summary'>\n",
       "\"\"\"\n",
       "                 Generalized Linear Model Regression Results                  \n",
       "==============================================================================\n",
       "Dep. Variable:         burglary_count   No. Observations:                  144\n",
       "Model:                            GLM   Df Residuals:                      143\n",
       "Model Family:                 Poisson   Df Model:                            0\n",
       "Link Function:                    log   Scale:                          1.0000\n",
       "Method:                          IRLS   Log-Likelihood:                -267.34\n",
       "Date:                Sun, 10 Oct 2021   Deviance:                       129.67\n",
       "Time:                        16:18:21   Pearson chi2:                     141.\n",
       "No. Iterations:                     5   Pseudo R-squ. (CS):              0.000\n",
       "Covariance Type:            nonrobust                                         \n",
       "==============================================================================\n",
       "                 coef    std err          z      P>|z|      [0.025      0.975]\n",
       "------------------------------------------------------------------------------\n",
       "const         -7.3496      0.049   -149.361      0.000      -7.446      -7.253\n",
       "==============================================================================\n",
       "\"\"\""
      ]
     },
     "execution_count": 12,
     "metadata": {},
     "output_type": "execute_result"
    }
   ],
   "source": [
    "burg_base_pois =  (sm.GLM(endog = tract_pop_income['burglary_count'],\n",
    "                              exog = sm.add_constant(tract_pop_income[[]]),\n",
    "                              family = sm.families.Poisson(),\n",
    "                              offset = tract_pop_income['log_population'])\n",
    "                       .fit()\n",
    " )\n",
    "burg_base_pois.summary()\n"
   ]
  },
  {
   "cell_type": "code",
   "execution_count": 13,
   "id": "057bb9e6",
   "metadata": {},
   "outputs": [
    {
     "data": {
      "text/html": [
       "<table class=\"simpletable\">\n",
       "<caption>Generalized Linear Model Regression Results</caption>\n",
       "<tr>\n",
       "  <th>Dep. Variable:</th>    <td>burglary_count</td>  <th>  No. Observations:  </th>  <td>   144</td> \n",
       "</tr>\n",
       "<tr>\n",
       "  <th>Model:</th>                  <td>GLM</td>       <th>  Df Residuals:      </th>  <td>   142</td> \n",
       "</tr>\n",
       "<tr>\n",
       "  <th>Model Family:</th>         <td>Poisson</td>     <th>  Df Model:          </th>  <td>     1</td> \n",
       "</tr>\n",
       "<tr>\n",
       "  <th>Link Function:</th>          <td>log</td>       <th>  Scale:             </th> <td>  1.0000</td>\n",
       "</tr>\n",
       "<tr>\n",
       "  <th>Method:</th>                <td>IRLS</td>       <th>  Log-Likelihood:    </th> <td> -258.55</td>\n",
       "</tr>\n",
       "<tr>\n",
       "  <th>Date:</th>            <td>Sun, 10 Oct 2021</td> <th>  Deviance:          </th> <td>  112.10</td>\n",
       "</tr>\n",
       "<tr>\n",
       "  <th>Time:</th>                <td>16:18:21</td>     <th>  Pearson chi2:      </th>  <td>  116.</td> \n",
       "</tr>\n",
       "<tr>\n",
       "  <th>No. Iterations:</th>          <td>5</td>        <th>  Pseudo R-squ. (CS):</th>  <td>0.1149</td> \n",
       "</tr>\n",
       "<tr>\n",
       "  <th>Covariance Type:</th>     <td>nonrobust</td>    <th>                     </th>     <td> </td>   \n",
       "</tr>\n",
       "</table>\n",
       "<table class=\"simpletable\">\n",
       "<tr>\n",
       "        <td></td>           <th>coef</th>     <th>std err</th>      <th>z</th>      <th>P>|z|</th>  <th>[0.025</th>    <th>0.975]</th>  \n",
       "</tr>\n",
       "<tr>\n",
       "  <th>const</th>         <td>   -6.8103</td> <td>    0.138</td> <td>  -49.177</td> <td> 0.000</td> <td>   -7.082</td> <td>   -6.539</td>\n",
       "</tr>\n",
       "<tr>\n",
       "  <th>median_income</th> <td>-8.807e-06</td> <td>  2.2e-06</td> <td>   -4.001</td> <td> 0.000</td> <td>-1.31e-05</td> <td>-4.49e-06</td>\n",
       "</tr>\n",
       "</table>"
      ],
      "text/plain": [
       "<class 'statsmodels.iolib.summary.Summary'>\n",
       "\"\"\"\n",
       "                 Generalized Linear Model Regression Results                  \n",
       "==============================================================================\n",
       "Dep. Variable:         burglary_count   No. Observations:                  144\n",
       "Model:                            GLM   Df Residuals:                      142\n",
       "Model Family:                 Poisson   Df Model:                            1\n",
       "Link Function:                    log   Scale:                          1.0000\n",
       "Method:                          IRLS   Log-Likelihood:                -258.55\n",
       "Date:                Sun, 10 Oct 2021   Deviance:                       112.10\n",
       "Time:                        16:18:21   Pearson chi2:                     116.\n",
       "No. Iterations:                     5   Pseudo R-squ. (CS):             0.1149\n",
       "Covariance Type:            nonrobust                                         \n",
       "=================================================================================\n",
       "                    coef    std err          z      P>|z|      [0.025      0.975]\n",
       "---------------------------------------------------------------------------------\n",
       "const            -6.8103      0.138    -49.177      0.000      -7.082      -6.539\n",
       "median_income -8.807e-06    2.2e-06     -4.001      0.000   -1.31e-05   -4.49e-06\n",
       "=================================================================================\n",
       "\"\"\""
      ]
     },
     "execution_count": 13,
     "metadata": {},
     "output_type": "execute_result"
    }
   ],
   "source": [
    "burg_income_pois =  (sm.GLM(endog = tract_pop_income['burglary_count'],\n",
    "                              exog = sm.add_constant(tract_pop_income['median_income']),\n",
    "                              family = sm.families.Poisson(),\n",
    "                              offset = tract_pop_income['log_population'])\n",
    "                       .fit()\n",
    " )\n",
    "burg_income_pois.summary()\n"
   ]
  },
  {
   "cell_type": "code",
   "execution_count": 14,
   "id": "f06664c6",
   "metadata": {},
   "outputs": [
    {
     "name": "stderr",
     "output_type": "stream",
     "text": [
      "C:\\Users\\Conrad\\anaconda3\\envs\\geospatial\\lib\\site-packages\\seaborn\\_decorators.py:36: FutureWarning: Pass the following variables as keyword args: x, y. From version 0.12, the only valid positional argument will be `data`, and passing other arguments without an explicit keyword will result in an error or misinterpretation.\n",
      "  warnings.warn(\n"
     ]
    },
    {
     "data": {
      "image/png": "[encoded data removed]",
      "text/plain": [
       "<Figure size 432x288 with 1 Axes>"
      ]
     },
     "metadata": {
      "needs_background": "light"
     },
     "output_type": "display_data"
    }
   ],
   "source": [
    "tract_pop_income['fit_values'] = burg_income_pois.fittedvalues\n",
    "\n",
    "sns.regplot('median_income', 'fit_values',\n",
    "                data = tract_pop_income);"
   ]
  },
  {
   "cell_type": "code",
   "execution_count": 17,
   "id": "9b5105eb",
   "metadata": {},
   "outputs": [
    {
     "data": {
      "text/plain": [
       "0.0006428715969055014"
      ]
     },
     "execution_count": 17,
     "metadata": {},
     "output_type": "execute_result"
    }
   ],
   "source": [
    "#fill\n",
    "np.exp(burg_base_pois.params['const'])\n",
    "#full_like\n"
   ]
  },
  {
   "cell_type": "code",
   "execution_count": 18,
   "id": "882a5082",
   "metadata": {},
   "outputs": [],
   "source": [
    "line = np.linspace(0, 3, num=200)"
   ]
  },
  {
   "cell_type": "code",
   "execution_count": 19,
   "id": "a18fda75",
   "metadata": {},
   "outputs": [
    {
     "name": "stderr",
     "output_type": "stream",
     "text": [
      "C:\\Users\\Conrad\\anaconda3\\envs\\geospatial\\lib\\site-packages\\seaborn\\_decorators.py:36: FutureWarning: Pass the following variables as keyword args: x, y. From version 0.12, the only valid positional argument will be `data`, and passing other arguments without an explicit keyword will result in an error or misinterpretation.\n",
      "  warnings.warn(\n"
     ]
    },
    {
     "data": {
      "text/plain": [
       "<AxesSubplot:>"
      ]
     },
     "execution_count": 19,
     "metadata": {},
     "output_type": "execute_result"
    },
    {
     "data": {
      "image/png": "[encoded data removed]",
      "text/plain": [
       "<Figure size 432x288 with 1 Axes>"
      ]
     },
     "metadata": {
      "needs_background": "light"
     },
     "output_type": "display_data"
    }
   ],
   "source": [
    "y = np.full_like(line, np.exp(burg_income_pois.params['const']))\n",
    "\n",
    "sns.scatterplot(line, y)"
   ]
  },
  {
   "cell_type": "markdown",
   "id": "3665ccac",
   "metadata": {},
   "source": [
    "numpy.linspace(start, stop, num=50, endpoint=True, retstep=False, dtype=None, axis=0)\n",
    "numpy.full_like(a, fill_value, dtype=None, order='K', subok=True, shape=None)\n",
    "np.exp(poisreg_burglaries.params['const'])\n",
    "\n",
    "https://seaborn.pydata.org/generated/seaborn.regplot.html\n"
   ]
  },
  {
   "cell_type": "code",
   "execution_count": 20,
   "id": "3d11fbb6",
   "metadata": {
    "scrolled": true
   },
   "outputs": [
    {
     "data": {
      "text/html": [
       "<table class=\"simpletable\">\n",
       "<caption>Generalized Linear Model Regression Results</caption>\n",
       "<tr>\n",
       "  <th>Dep. Variable:</th>    <td>burglary_count</td>  <th>  No. Observations:  </th>  <td>   144</td> \n",
       "</tr>\n",
       "<tr>\n",
       "  <th>Model:</th>                  <td>GLM</td>       <th>  Df Residuals:      </th>  <td>   142</td> \n",
       "</tr>\n",
       "<tr>\n",
       "  <th>Model Family:</th>         <td>Poisson</td>     <th>  Df Model:          </th>  <td>     1</td> \n",
       "</tr>\n",
       "<tr>\n",
       "  <th>Link Function:</th>          <td>log</td>       <th>  Scale:             </th> <td>  1.0000</td>\n",
       "</tr>\n",
       "<tr>\n",
       "  <th>Method:</th>                <td>IRLS</td>       <th>  Log-Likelihood:    </th> <td> -258.55</td>\n",
       "</tr>\n",
       "<tr>\n",
       "  <th>Date:</th>            <td>Sun, 10 Oct 2021</td> <th>  Deviance:          </th> <td>  112.10</td>\n",
       "</tr>\n",
       "<tr>\n",
       "  <th>Time:</th>                <td>16:19:27</td>     <th>  Pearson chi2:      </th>  <td>  116.</td> \n",
       "</tr>\n",
       "<tr>\n",
       "  <th>No. Iterations:</th>          <td>5</td>        <th>  Pseudo R-squ. (CS):</th>  <td>0.1149</td> \n",
       "</tr>\n",
       "<tr>\n",
       "  <th>Covariance Type:</th>     <td>nonrobust</td>    <th>                     </th>     <td> </td>   \n",
       "</tr>\n",
       "</table>\n",
       "<table class=\"simpletable\">\n",
       "<tr>\n",
       "        <td></td>           <th>coef</th>     <th>std err</th>      <th>z</th>      <th>P>|z|</th>  <th>[0.025</th>    <th>0.975]</th>  \n",
       "</tr>\n",
       "<tr>\n",
       "  <th>Intercept</th>     <td>   -6.8103</td> <td>    0.138</td> <td>  -49.177</td> <td> 0.000</td> <td>   -7.082</td> <td>   -6.539</td>\n",
       "</tr>\n",
       "<tr>\n",
       "  <th>median_income</th> <td>-8.807e-06</td> <td>  2.2e-06</td> <td>   -4.001</td> <td> 0.000</td> <td>-1.31e-05</td> <td>-4.49e-06</td>\n",
       "</tr>\n",
       "</table>"
      ],
      "text/plain": [
       "<class 'statsmodels.iolib.summary.Summary'>\n",
       "\"\"\"\n",
       "                 Generalized Linear Model Regression Results                  \n",
       "==============================================================================\n",
       "Dep. Variable:         burglary_count   No. Observations:                  144\n",
       "Model:                            GLM   Df Residuals:                      142\n",
       "Model Family:                 Poisson   Df Model:                            1\n",
       "Link Function:                    log   Scale:                          1.0000\n",
       "Method:                          IRLS   Log-Likelihood:                -258.55\n",
       "Date:                Sun, 10 Oct 2021   Deviance:                       112.10\n",
       "Time:                        16:19:27   Pearson chi2:                     116.\n",
       "No. Iterations:                     5   Pseudo R-squ. (CS):             0.1149\n",
       "Covariance Type:            nonrobust                                         \n",
       "=================================================================================\n",
       "                    coef    std err          z      P>|z|      [0.025      0.975]\n",
       "---------------------------------------------------------------------------------\n",
       "Intercept        -6.8103      0.138    -49.177      0.000      -7.082      -6.539\n",
       "median_income -8.807e-06    2.2e-06     -4.001      0.000   -1.31e-05   -4.49e-06\n",
       "=================================================================================\n",
       "\"\"\""
      ]
     },
     "metadata": {},
     "output_type": "display_data"
    }
   ],
   "source": [
    "expr = \"\"\"burglary_count ~ median_income\"\"\"\n",
    "\n",
    "y_train, X_train = dmatrices(expr, tract_pop_income, return_type='dataframe')\n",
    "\n",
    "poisson_training_results = (sm.GLM(y_train, X_train, \n",
    "                                   family=sm.families.Poisson(),\n",
    "                                   offset = tract_pop_income['log_population'])\n",
    "                            .fit())                                    \n",
    "display(poisson_training_results.summary())\n"
   ]
  },
  {
   "cell_type": "code",
   "execution_count": 21,
   "id": "86b583fd",
   "metadata": {},
   "outputs": [
    {
     "name": "stdout",
     "output_type": "stream",
     "text": [
      "[1.84015849 2.76559151 2.13374034 2.63502465 2.36906241 3.5240911\n",
      " 3.60507079 5.58109991 3.37574549 3.71109499 3.38100809 2.94710603\n",
      " 3.08181335 2.67853844 3.77627789 2.7350592  2.14358055 4.56515872\n",
      " 2.87929537 5.08725034 1.81303622 2.08700651 2.48149514 4.16143755\n",
      " 3.25203102 2.30775559 3.0806472  3.58817505 2.02460922 1.77715711\n",
      " 0.99503733 1.0328019  1.55438681 4.998683   1.9625119  4.4860736\n",
      " 3.30783335 1.54219301 2.03729989 2.07845317 2.39945827 2.32570794\n",
      " 2.88660238 5.25739358 1.66038983 1.37291452 1.809239   1.50231144\n",
      " 1.59893107 3.17669484 2.47154093 1.58608627 3.63142398 3.42816245\n",
      " 2.81343928 3.11333766 2.14599071 2.78887344 2.95187659 5.33362624\n",
      " 4.91788607 4.15537586 2.77821409 4.09838623 1.57848426 4.45936404\n",
      " 2.92410255 4.96889599 2.17635742 4.06291464 3.44916115 3.77589331\n",
      " 4.77224564 1.90411227 2.67602663 4.87862946 3.15938776 6.89832225\n",
      " 1.14770623 4.47842979 2.31591627 3.03581318 2.6828786  0.75146541\n",
      " 1.69051779 2.66735425 1.805498   3.26439782 3.30240758 2.06924493\n",
      " 2.14471189 2.34977019 1.87834806 1.60220043 0.98504536 2.28418831\n",
      " 1.67807045 4.12484795 2.37604439 0.82942811 2.22222957 2.86211799\n",
      " 2.2618066  1.78022891 2.02803746 4.28597876 1.94233533 1.29071927\n",
      " 4.79782432 4.20688039 4.80783331 2.83114824 2.13576416 2.16900133\n",
      " 2.29256269 0.51597823 0.87846211 2.66653718 1.94763127 1.90207763\n",
      " 2.10673838 1.51373795 2.42510627 2.02746907 3.26681125 3.53518164\n",
      " 3.83925906 4.56223147 2.60999856 2.91519422 3.79517793 2.47515559\n",
      " 3.20150541 2.69634193 6.96237755 1.5489086  3.54451048 2.88219135\n",
      " 4.38684823 2.65034631 3.33231239 3.13030755 4.51276073 2.51793609]\n",
      "144\n"
     ]
    }
   ],
   "source": [
    "print(poisson_training_results.mu)\n",
    "print(len(poisson_training_results.mu))"
   ]
  },
  {
   "cell_type": "code",
   "execution_count": 22,
   "id": "ea82ecde",
   "metadata": {},
   "outputs": [
    {
     "name": "stdout",
     "output_type": "stream",
     "text": [
      "burglary_lambda   -1.0\n",
      "dtype: float64\n"
     ]
    }
   ],
   "source": [
    "tract_pop_income['burglary_lambda'] = poisson_training_results.mu\n",
    "\n",
    "tract_pop_income['aux_OLS_dep'] = (tract_pop_income.apply(\n",
    "    lambda x: ((x['burglary_count'] - x['burglary_lambda']**2) - x['burglary_lambda']) / \n",
    "              x['burglary_lambda'], axis=1))\n",
    "\n",
    "ols_expr = \"\"\"aux_OLS_dep ~ burglary_lambda -1\"\"\"\n",
    "\n",
    "aux_olsr_results = smf.ols(ols_expr, tract_pop_income).fit()\n",
    "\n",
    "print(aux_olsr_results.params)"
   ]
  },
  {
   "cell_type": "code",
   "execution_count": 23,
   "id": "f9a1950a",
   "metadata": {},
   "outputs": [
    {
     "data": {
      "text/plain": [
       "burglary_lambda   -60.876449\n",
       "dtype: float64"
      ]
     },
     "execution_count": 23,
     "metadata": {},
     "output_type": "execute_result"
    }
   ],
   "source": [
    "aux_olsr_results.tvalues"
   ]
  },
  {
   "cell_type": "code",
   "execution_count": 24,
   "id": "a21dcace",
   "metadata": {
    "scrolled": true
   },
   "outputs": [
    {
     "name": "stderr",
     "output_type": "stream",
     "text": [
      "C:\\Users\\Conrad\\anaconda3\\envs\\geospatial\\lib\\site-packages\\statsmodels\\regression\\_tools.py:45: RuntimeWarning: invalid value encountered in sqrt\n",
      "  w_half = np.sqrt(weights)\n"
     ]
    },
    {
     "ename": "ValueError",
     "evalue": "NaN, inf or invalid value detected in weights, estimation infeasible.",
     "output_type": "error",
     "traceback": [
      "\u001b[1;31m--------------------------------------------------------------------------\u001b[0m",
      "\u001b[1;31mValueError\u001b[0m                               Traceback (most recent call last)",
      "\u001b[1;32m~\\AppData\\Local\\Temp/ipykernel_8488/2709949320.py\u001b[0m in \u001b[0;36m<module>\u001b[1;34m\u001b[0m\n\u001b[1;32m----> 1\u001b[1;33m nb2_training_results = (sm.GLM(y_train, X_train,\n\u001b[0m\u001b[0;32m      2\u001b[0m                               \u001b[0mfamily\u001b[0m\u001b[1;33m=\u001b[0m\u001b[0msm\u001b[0m\u001b[1;33m.\u001b[0m\u001b[0mfamilies\u001b[0m\u001b[1;33m.\u001b[0m\u001b[0mNegativeBinomial\u001b[0m\u001b[1;33m(\u001b[0m\u001b[0malpha\u001b[0m\u001b[1;33m=\u001b[0m\u001b[0maux_olsr_results\u001b[0m\u001b[1;33m.\u001b[0m\u001b[0mparams\u001b[0m\u001b[1;33m[\u001b[0m\u001b[1;36m0\u001b[0m\u001b[1;33m]\u001b[0m\u001b[1;33m)\u001b[0m\u001b[1;33m,\u001b[0m\u001b[1;33m\u001b[0m\u001b[1;33m\u001b[0m\u001b[0m\n\u001b[0;32m      3\u001b[0m                               offset = tract_pop_income['log_population'])\n\u001b[0;32m      4\u001b[0m                         .fit())\n\u001b[0;32m      5\u001b[0m \u001b[0mnb2_training_results\u001b[0m\u001b[1;33m.\u001b[0m\u001b[0msummary\u001b[0m\u001b[1;33m(\u001b[0m\u001b[1;33m)\u001b[0m\u001b[1;33m\u001b[0m\u001b[1;33m\u001b[0m\u001b[0m\n",
      "\u001b[1;32m~\\anaconda3\\envs\\geospatial\\lib\\site-packages\\statsmodels\\genmod\\generalized_linear_model.py\u001b[0m in \u001b[0;36mfit\u001b[1;34m(self, start_params, maxiter, method, tol, scale, cov_type, cov_kwds, use_t, full_output, disp, max_start_irls, **kwargs)\u001b[0m\n\u001b[0;32m   1073\u001b[0m             \u001b[1;32mif\u001b[0m \u001b[0mcov_type\u001b[0m\u001b[1;33m.\u001b[0m\u001b[0mlower\u001b[0m\u001b[1;33m(\u001b[0m\u001b[1;33m)\u001b[0m \u001b[1;33m==\u001b[0m \u001b[1;34m'eim'\u001b[0m\u001b[1;33m:\u001b[0m\u001b[1;33m\u001b[0m\u001b[1;33m\u001b[0m\u001b[0m\n\u001b[0;32m   1074\u001b[0m                 \u001b[0mcov_type\u001b[0m \u001b[1;33m=\u001b[0m \u001b[1;34m'nonrobust'\u001b[0m\u001b[1;33m\u001b[0m\u001b[1;33m\u001b[0m\u001b[0m\n\u001b[1;32m-> 1075\u001b[1;33m             return self._fit_irls(start_params=start_params, maxiter=maxiter,\n\u001b[0m\u001b[0;32m   1076\u001b[0m                                   \u001b[0mtol\u001b[0m\u001b[1;33m=\u001b[0m\u001b[0mtol\u001b[0m\u001b[1;33m,\u001b[0m \u001b[0mscale\u001b[0m\u001b[1;33m=\u001b[0m\u001b[0mscale\u001b[0m\u001b[1;33m,\u001b[0m \u001b[0mcov_type\u001b[0m\u001b[1;33m=\u001b[0m\u001b[0mcov_type\u001b[0m\u001b[1;33m,\u001b[0m\u001b[1;33m\u001b[0m\u001b[1;33m\u001b[0m\u001b[0m\n\u001b[0;32m   1077\u001b[0m                                   cov_kwds=cov_kwds, use_t=use_t, **kwargs)\n",
      "\u001b[1;32m~\\anaconda3\\envs\\geospatial\\lib\\site-packages\\statsmodels\\genmod\\generalized_linear_model.py\u001b[0m in \u001b[0;36m_fit_irls\u001b[1;34m(self, start_params, maxiter, tol, scale, cov_type, cov_kwds, use_t, **kwargs)\u001b[0m\n\u001b[0;32m   1211\u001b[0m             wlsendog = (lin_pred + self.family.link.deriv(mu) * (self.endog-mu)\n\u001b[0;32m   1212\u001b[0m                         - self._offset_exposure)\n\u001b[1;32m-> 1213\u001b[1;33m             wls_mod = reg_tools._MinimalWLS(wlsendog, wlsexog,\n\u001b[0m\u001b[0;32m   1214\u001b[0m                                             \u001b[0mself\u001b[0m\u001b[1;33m.\u001b[0m\u001b[0mweights\u001b[0m\u001b[1;33m,\u001b[0m \u001b[0mcheck_endog\u001b[0m\u001b[1;33m=\u001b[0m\u001b[1;32mTrue\u001b[0m\u001b[1;33m,\u001b[0m\u001b[1;33m\u001b[0m\u001b[1;33m\u001b[0m\u001b[0m\n\u001b[0;32m   1215\u001b[0m                                             check_weights=True)\n",
      "\u001b[1;32m~\\anaconda3\\envs\\geospatial\\lib\\site-packages\\statsmodels\\regression\\_tools.py\u001b[0m in \u001b[0;36m__init__\u001b[1;34m(self, endog, exog, weights, check_endog, check_weights)\u001b[0m\n\u001b[0;32m     46\u001b[0m         \u001b[1;32mif\u001b[0m \u001b[0mcheck_weights\u001b[0m\u001b[1;33m:\u001b[0m\u001b[1;33m\u001b[0m\u001b[1;33m\u001b[0m\u001b[0m\n\u001b[0;32m     47\u001b[0m             \u001b[1;32mif\u001b[0m \u001b[1;32mnot\u001b[0m \u001b[0mnp\u001b[0m\u001b[1;33m.\u001b[0m\u001b[0mall\u001b[0m\u001b[1;33m(\u001b[0m\u001b[0mnp\u001b[0m\u001b[1;33m.\u001b[0m\u001b[0misfinite\u001b[0m\u001b[1;33m(\u001b[0m\u001b[0mw_half\u001b[0m\u001b[1;33m)\u001b[0m\u001b[1;33m)\u001b[0m\u001b[1;33m:\u001b[0m\u001b[1;33m\u001b[0m\u001b[1;33m\u001b[0m\u001b[0m\n\u001b[1;32m---> 48\u001b[1;33m                 \u001b[1;32mraise\u001b[0m \u001b[0mValueError\u001b[0m\u001b[1;33m(\u001b[0m\u001b[0mself\u001b[0m\u001b[1;33m.\u001b[0m\u001b[0mmsg\u001b[0m\u001b[1;33m.\u001b[0m\u001b[0mformat\u001b[0m\u001b[1;33m(\u001b[0m\u001b[1;34m'weights'\u001b[0m\u001b[1;33m)\u001b[0m\u001b[1;33m)\u001b[0m\u001b[1;33m\u001b[0m\u001b[1;33m\u001b[0m\u001b[0m\n\u001b[0m\u001b[0;32m     49\u001b[0m \u001b[1;33m\u001b[0m\u001b[0m\n\u001b[0;32m     50\u001b[0m         \u001b[1;32mif\u001b[0m \u001b[0mcheck_endog\u001b[0m\u001b[1;33m:\u001b[0m\u001b[1;33m\u001b[0m\u001b[1;33m\u001b[0m\u001b[0m\n",
      "\u001b[1;31mValueError\u001b[0m: NaN, inf or invalid value detected in weights, estimation infeasible."
     ]
    }
   ],
   "source": [
    "nb2_training_results = (sm.GLM(y_train, X_train,\n",
    "                              family=sm.families.NegativeBinomial(alpha=aux_olsr_results.params[0]),\n",
    "                              offset = tract_pop_income['log_population'])\n",
    "                        .fit())\n",
    "nb2_training_results.summary()"
   ]
  },
  {
   "cell_type": "code",
   "execution_count": null,
   "id": "82243139",
   "metadata": {},
   "outputs": [],
   "source": []
  }
 ],
 "metadata": {
  "kernelspec": {
   "display_name": "Python 3 (ipykernel)",
   "language": "python",
   "name": "python3"
  },
  "language_info": {
   "codemirror_mode": {
    "name": "ipython",
    "version": 3
   },
   "file_extension": ".py",
   "mimetype": "text/x-python",
   "name": "python",
   "nbconvert_exporter": "python",
   "pygments_lexer": "ipython3",
   "version": "3.8.5"
  }
 },
 "nbformat": 4,
 "nbformat_minor": 5
}
