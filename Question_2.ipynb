{
 "cells": [
  {
   "cell_type": "code",
   "execution_count": 91,
   "id": "8b7bf454",
   "metadata": {},
   "outputs": [],
   "source": [
    "import requests\n",
    "import matplotlib.pyplot as plt\n",
    "from IPython.display import Image\n",
    "import pandas as pd\n",
    "import json\n",
    "import geopandas as gpd\n",
    "import folium\n",
    "from folium.plugins import MarkerCluster\n",
    "from folium.plugins import FastMarkerCluster\n",
    "from shapely.geometry import Point\n",
    "import numpy as np\n",
    "import statsmodels.api as sm\n",
    "import statsmodels.formula.api as smf\n",
    "import seaborn as sns\n",
    "from patsy import dmatrices"
   ]
  },
  {
   "cell_type": "markdown",
   "id": "6dbc3a23",
   "metadata": {},
   "source": [
    "#### Imports burglary report csv from question_1"
   ]
  },
  {
   "cell_type": "code",
   "execution_count": 92,
   "id": "30f5c666",
   "metadata": {},
   "outputs": [],
   "source": [
    "burglary_reports = pd.read_csv(\"../geospatial_api-silver-sharks/data/burglary_reports.csv\", engine='python')"
   ]
  },
  {
   "cell_type": "markdown",
   "id": "0fcf1a5f",
   "metadata": {},
   "source": [
    "### Downloaded census tract data and uploaded code"
   ]
  },
  {
   "cell_type": "code",
   "execution_count": 93,
   "id": "6360f49d",
   "metadata": {},
   "outputs": [
    {
     "data": {
      "text/plain": [
       "geopandas.geodataframe.GeoDataFrame"
      ]
     },
     "execution_count": 93,
     "metadata": {},
     "output_type": "execute_result"
    }
   ],
   "source": [
    "#uploads census tract geodata file downloaded from data folder\n",
    "census_tract = gpd.read_file('data/tl_2019-47_tract/tl_2019_47_tract.shp')\n",
    "type(census_tract)"
   ]
  },
  {
   "cell_type": "code",
   "execution_count": 94,
   "id": "fa5e473b",
   "metadata": {},
   "outputs": [
    {
     "name": "stdout",
     "output_type": "stream",
     "text": [
      "epsg:4269\n"
     ]
    }
   ],
   "source": [
    "print(census_tract.crs)\n"
   ]
  },
  {
   "cell_type": "markdown",
   "id": "ba2dbab5",
   "metadata": {},
   "source": [
    "### Added geometry column"
   ]
  },
  {
   "cell_type": "code",
   "execution_count": 100,
   "id": "fb57fe30",
   "metadata": {},
   "outputs": [
    {
     "name": "stdout",
     "output_type": "stream",
     "text": [
      "(775, 7)\n"
     ]
    },
    {
     "data": {
      "text/html": [
       "<div>\n",
       "<style scoped>\n",
       "    .dataframe tbody tr th:only-of-type {\n",
       "        vertical-align: middle;\n",
       "    }\n",
       "\n",
       "    .dataframe tbody tr th {\n",
       "        vertical-align: top;\n",
       "    }\n",
       "\n",
       "    .dataframe thead th {\n",
       "        text-align: right;\n",
       "    }\n",
       "</style>\n",
       "<table border=\"1\" class=\"dataframe\">\n",
       "  <thead>\n",
       "    <tr style=\"text-align: right;\">\n",
       "      <th></th>\n",
       "      <th>Unnamed: 0</th>\n",
       "      <th>incident_reported</th>\n",
       "      <th>incident_number</th>\n",
       "      <th>offense_description</th>\n",
       "      <th>latitude</th>\n",
       "      <th>longitude</th>\n",
       "      <th>geometry</th>\n",
       "    </tr>\n",
       "  </thead>\n",
       "  <tbody>\n",
       "    <tr>\n",
       "      <th>0</th>\n",
       "      <td>199</td>\n",
       "      <td>2021-01-13</td>\n",
       "      <td>20210024216</td>\n",
       "      <td>BURGLARY- AGGRAVATED</td>\n",
       "      <td>36.06</td>\n",
       "      <td>-86.95</td>\n",
       "      <td>POINT (-86.95 36.06)</td>\n",
       "    </tr>\n",
       "    <tr>\n",
       "      <th>1</th>\n",
       "      <td>310</td>\n",
       "      <td>2021-01-14</td>\n",
       "      <td>20210024929</td>\n",
       "      <td>BURGLARY- AGGRAVATED</td>\n",
       "      <td>36.19</td>\n",
       "      <td>-86.75</td>\n",
       "      <td>POINT (-86.75 36.19)</td>\n",
       "    </tr>\n",
       "    <tr>\n",
       "      <th>2</th>\n",
       "      <td>434</td>\n",
       "      <td>2021-01-14</td>\n",
       "      <td>20210026105</td>\n",
       "      <td>BURGLARY- AGGRAVATED</td>\n",
       "      <td>36.18</td>\n",
       "      <td>-86.75</td>\n",
       "      <td>POINT (-86.75 36.18)</td>\n",
       "    </tr>\n",
       "    <tr>\n",
       "      <th>3</th>\n",
       "      <td>450</td>\n",
       "      <td>2021-01-14</td>\n",
       "      <td>20210026189</td>\n",
       "      <td>BURGLARY- AGGRAVATED</td>\n",
       "      <td>36.04</td>\n",
       "      <td>-86.73</td>\n",
       "      <td>POINT (-86.73 36.04)</td>\n",
       "    </tr>\n",
       "    <tr>\n",
       "      <th>4</th>\n",
       "      <td>495</td>\n",
       "      <td>2021-01-14</td>\n",
       "      <td>20210026468</td>\n",
       "      <td>BURGLARY- AGGRAVATED</td>\n",
       "      <td>36.16</td>\n",
       "      <td>-86.85</td>\n",
       "      <td>POINT (-86.84999999999999 36.16)</td>\n",
       "    </tr>\n",
       "  </tbody>\n",
       "</table>\n",
       "</div>"
      ],
      "text/plain": [
       "   Unnamed: 0 incident_reported  incident_number   offense_description  \\\n",
       "0         199        2021-01-13      20210024216  BURGLARY- AGGRAVATED   \n",
       "1         310        2021-01-14      20210024929  BURGLARY- AGGRAVATED   \n",
       "2         434        2021-01-14      20210026105  BURGLARY- AGGRAVATED   \n",
       "3         450        2021-01-14      20210026189  BURGLARY- AGGRAVATED   \n",
       "4         495        2021-01-14      20210026468  BURGLARY- AGGRAVATED   \n",
       "\n",
       "   latitude  longitude                          geometry  \n",
       "0     36.06     -86.95              POINT (-86.95 36.06)  \n",
       "1     36.19     -86.75              POINT (-86.75 36.19)  \n",
       "2     36.18     -86.75              POINT (-86.75 36.18)  \n",
       "3     36.04     -86.73              POINT (-86.73 36.04)  \n",
       "4     36.16     -86.85  POINT (-86.84999999999999 36.16)  "
      ]
     },
     "metadata": {},
     "output_type": "display_data"
    }
   ],
   "source": [
    "#lambda function converting lat & long to Point(long, lat) format for GeoDataFrame \n",
    "burglary_reports['geometry'] = (burglary_reports\n",
    "                                .apply(lambda x: \n",
    "                                       Point((x.longitude,\n",
    "                                              x.latitude)),\n",
    "                                       axis=1))\n",
    "\n",
    "print(burglary_reports.shape)\n",
    "display(burglary_reports.head())"
   ]
  },
  {
   "cell_type": "code",
   "execution_count": 109,
   "id": "33df1369",
   "metadata": {},
   "outputs": [],
   "source": [
    "burglary_geo = gpd.GeoDataFrame(burglary_reports,\n",
    "                               crs=census_tract.crs,\n",
    "                               geometry = burglary_reports['geometry'])"
   ]
  },
  {
   "cell_type": "markdown",
   "id": "65d5144d",
   "metadata": {},
   "source": [
    "### Cleaning up and joining burglary and tract data"
   ]
  },
  {
   "cell_type": "code",
   "execution_count": 118,
   "id": "41a3dd4c",
   "metadata": {},
   "outputs": [
    {
     "data": {
      "text/html": [
       "<div>\n",
       "<style scoped>\n",
       "    .dataframe tbody tr th:only-of-type {\n",
       "        vertical-align: middle;\n",
       "    }\n",
       "\n",
       "    .dataframe tbody tr th {\n",
       "        vertical-align: top;\n",
       "    }\n",
       "\n",
       "    .dataframe thead th {\n",
       "        text-align: right;\n",
       "    }\n",
       "</style>\n",
       "<table border=\"1\" class=\"dataframe\">\n",
       "  <thead>\n",
       "    <tr style=\"text-align: right;\">\n",
       "      <th></th>\n",
       "      <th>COUNTYFP</th>\n",
       "      <th>TRACTCE</th>\n",
       "      <th>NAME</th>\n",
       "      <th>geometry</th>\n",
       "    </tr>\n",
       "  </thead>\n",
       "  <tbody>\n",
       "    <tr>\n",
       "      <th>27</th>\n",
       "      <td>37</td>\n",
       "      <td>010106</td>\n",
       "      <td>101.06</td>\n",
       "      <td>POLYGON ((-86.83089 36.26570, -86.83016 36.265...</td>\n",
       "    </tr>\n",
       "    <tr>\n",
       "      <th>36</th>\n",
       "      <td>37</td>\n",
       "      <td>010103</td>\n",
       "      <td>101.03</td>\n",
       "      <td>POLYGON ((-86.91752 36.33976, -86.91747 36.339...</td>\n",
       "    </tr>\n",
       "    <tr>\n",
       "      <th>37</th>\n",
       "      <td>37</td>\n",
       "      <td>010202</td>\n",
       "      <td>102.02</td>\n",
       "      <td>POLYGON ((-86.82482 36.33225, -86.82480 36.332...</td>\n",
       "    </tr>\n",
       "    <tr>\n",
       "      <th>38</th>\n",
       "      <td>37</td>\n",
       "      <td>010104</td>\n",
       "      <td>101.04</td>\n",
       "      <td>POLYGON ((-86.97440 36.24991, -86.97244 36.252...</td>\n",
       "    </tr>\n",
       "    <tr>\n",
       "      <th>63</th>\n",
       "      <td>37</td>\n",
       "      <td>013300</td>\n",
       "      <td>133</td>\n",
       "      <td>POLYGON ((-86.86843 36.16436, -86.86836 36.164...</td>\n",
       "    </tr>\n",
       "  </tbody>\n",
       "</table>\n",
       "</div>"
      ],
      "text/plain": [
       "    COUNTYFP TRACTCE    NAME  \\\n",
       "27        37  010106  101.06   \n",
       "36        37  010103  101.03   \n",
       "37        37  010202  102.02   \n",
       "38        37  010104  101.04   \n",
       "63        37  013300     133   \n",
       "\n",
       "                                             geometry  \n",
       "27  POLYGON ((-86.83089 36.26570, -86.83016 36.265...  \n",
       "36  POLYGON ((-86.91752 36.33976, -86.91747 36.339...  \n",
       "37  POLYGON ((-86.82482 36.33225, -86.82480 36.332...  \n",
       "38  POLYGON ((-86.97440 36.24991, -86.97244 36.252...  \n",
       "63  POLYGON ((-86.86843 36.16436, -86.86836 36.164...  "
      ]
     },
     "execution_count": 118,
     "metadata": {},
     "output_type": "execute_result"
    }
   ],
   "source": [
    "#shrinks census tract dataframe to only relative columns\n",
    "census_tract = census_tract[['COUNTYFP', 'TRACTCE', 'NAME', 'geometry']]\n",
    "\n",
    "#converts county code to number \n",
    "census_tract['COUNTYFP'] = census_tract['COUNTYFP'].apply(pd.to_numeric)\n",
    "\n",
    "#filters out all counties but Davidson county \n",
    "census_tract = census_tract[census_tract['COUNTYFP'] == 37]\n",
    "census_tract.head()"
   ]
  },
  {
   "cell_type": "code",
   "execution_count": 119,
   "id": "f87d918d",
   "metadata": {},
   "outputs": [],
   "source": [
    "#joins burglary data with census tract data\n",
    "burglary_by_tract = gpd.sjoin(burglary_geo, census_tract, op = 'within')"
   ]
  },
  {
   "cell_type": "markdown",
   "id": "760f09bc",
   "metadata": {},
   "source": [
    "### Gets rid of duplicates in data and adjusts columns"
   ]
  },
  {
   "cell_type": "code",
   "execution_count": 120,
   "id": "014787da",
   "metadata": {
    "scrolled": true
   },
   "outputs": [
    {
     "name": "stdout",
     "output_type": "stream",
     "text": [
      "(773, 9)\n"
     ]
    },
    {
     "data": {
      "text/html": [
       "<div>\n",
       "<style scoped>\n",
       "    .dataframe tbody tr th:only-of-type {\n",
       "        vertical-align: middle;\n",
       "    }\n",
       "\n",
       "    .dataframe tbody tr th {\n",
       "        vertical-align: top;\n",
       "    }\n",
       "\n",
       "    .dataframe thead th {\n",
       "        text-align: right;\n",
       "    }\n",
       "</style>\n",
       "<table border=\"1\" class=\"dataframe\">\n",
       "  <thead>\n",
       "    <tr style=\"text-align: right;\">\n",
       "      <th></th>\n",
       "      <th>Unnamed: 0</th>\n",
       "      <th>incident_reported</th>\n",
       "      <th>offense_description</th>\n",
       "      <th>latitude</th>\n",
       "      <th>longitude</th>\n",
       "      <th>geometry</th>\n",
       "      <th>COUNTYFP</th>\n",
       "      <th>tract</th>\n",
       "      <th>NAME</th>\n",
       "    </tr>\n",
       "  </thead>\n",
       "  <tbody>\n",
       "    <tr>\n",
       "      <th>0</th>\n",
       "      <td>199</td>\n",
       "      <td>2021-01-13</td>\n",
       "      <td>BURGLARY- AGGRAVATED</td>\n",
       "      <td>36.06</td>\n",
       "      <td>-86.95</td>\n",
       "      <td>POINT (-86.95000 36.06000)</td>\n",
       "      <td>37</td>\n",
       "      <td>018407</td>\n",
       "      <td>184.07</td>\n",
       "    </tr>\n",
       "    <tr>\n",
       "      <th>217</th>\n",
       "      <td>14375</td>\n",
       "      <td>2021-03-05</td>\n",
       "      <td>BURGLARY- AGGRAVATED</td>\n",
       "      <td>36.07</td>\n",
       "      <td>-86.99</td>\n",
       "      <td>POINT (-86.99000 36.07000)</td>\n",
       "      <td>37</td>\n",
       "      <td>018407</td>\n",
       "      <td>184.07</td>\n",
       "    </tr>\n",
       "    <tr>\n",
       "      <th>1</th>\n",
       "      <td>310</td>\n",
       "      <td>2021-01-14</td>\n",
       "      <td>BURGLARY- AGGRAVATED</td>\n",
       "      <td>36.19</td>\n",
       "      <td>-86.75</td>\n",
       "      <td>POINT (-86.75000 36.19000)</td>\n",
       "      <td>37</td>\n",
       "      <td>011700</td>\n",
       "      <td>117</td>\n",
       "    </tr>\n",
       "    <tr>\n",
       "      <th>42</th>\n",
       "      <td>2779</td>\n",
       "      <td>2021-01-22</td>\n",
       "      <td>BURGLARY- AGGRAVATED</td>\n",
       "      <td>36.19</td>\n",
       "      <td>-86.74</td>\n",
       "      <td>POINT (-86.74000 36.19000)</td>\n",
       "      <td>37</td>\n",
       "      <td>011700</td>\n",
       "      <td>117</td>\n",
       "    </tr>\n",
       "    <tr>\n",
       "      <th>50</th>\n",
       "      <td>3623</td>\n",
       "      <td>2021-01-25</td>\n",
       "      <td>BURGLARY- AGGRAVATED</td>\n",
       "      <td>36.19</td>\n",
       "      <td>-86.75</td>\n",
       "      <td>POINT (-86.75000 36.19000)</td>\n",
       "      <td>37</td>\n",
       "      <td>011700</td>\n",
       "      <td>117</td>\n",
       "    </tr>\n",
       "  </tbody>\n",
       "</table>\n",
       "</div>"
      ],
      "text/plain": [
       "     Unnamed: 0 incident_reported   offense_description  latitude  longitude  \\\n",
       "0           199        2021-01-13  BURGLARY- AGGRAVATED     36.06     -86.95   \n",
       "217       14375        2021-03-05  BURGLARY- AGGRAVATED     36.07     -86.99   \n",
       "1           310        2021-01-14  BURGLARY- AGGRAVATED     36.19     -86.75   \n",
       "42         2779        2021-01-22  BURGLARY- AGGRAVATED     36.19     -86.74   \n",
       "50         3623        2021-01-25  BURGLARY- AGGRAVATED     36.19     -86.75   \n",
       "\n",
       "                       geometry  COUNTYFP   tract    NAME  \n",
       "0    POINT (-86.95000 36.06000)        37  018407  184.07  \n",
       "217  POINT (-86.99000 36.07000)        37  018407  184.07  \n",
       "1    POINT (-86.75000 36.19000)        37  011700     117  \n",
       "42   POINT (-86.74000 36.19000)        37  011700     117  \n",
       "50   POINT (-86.75000 36.19000)        37  011700     117  "
      ]
     },
     "metadata": {},
     "output_type": "display_data"
    }
   ],
   "source": [
    "#drops redundant index\n",
    "burglary_by_tract = burglary_by_tract.drop(columns='index_right')\n",
    "\n",
    "#renames tract column\n",
    "burglary_by_tract = burglary_by_tract.rename(columns={'TRACTCE':'tract'})\n",
    "burglary_by_tract = burglary_by_tract.drop(columns='incident_number')\n",
    "print(burglary_by_tract.shape)\n",
    "display(burglary_by_tract.head())"
   ]
  },
  {
   "cell_type": "markdown",
   "id": "46d3bf77",
   "metadata": {},
   "source": [
    "### Creates polygon objects of tracts of only Davidson county"
   ]
  },
  {
   "cell_type": "code",
   "execution_count": 121,
   "id": "ce8c0af8",
   "metadata": {},
   "outputs": [
    {
     "data": {
      "text/html": [
       "<div>\n",
       "<style scoped>\n",
       "    .dataframe tbody tr th:only-of-type {\n",
       "        vertical-align: middle;\n",
       "    }\n",
       "\n",
       "    .dataframe tbody tr th {\n",
       "        vertical-align: top;\n",
       "    }\n",
       "\n",
       "    .dataframe thead th {\n",
       "        text-align: right;\n",
       "    }\n",
       "</style>\n",
       "<table border=\"1\" class=\"dataframe\">\n",
       "  <thead>\n",
       "    <tr style=\"text-align: right;\">\n",
       "      <th></th>\n",
       "      <th>COUNTYFP</th>\n",
       "      <th>TRACTCE</th>\n",
       "      <th>NAME</th>\n",
       "      <th>geometry</th>\n",
       "    </tr>\n",
       "  </thead>\n",
       "  <tbody>\n",
       "    <tr>\n",
       "      <th>0</th>\n",
       "      <td>37</td>\n",
       "      <td>010106</td>\n",
       "      <td>101.06</td>\n",
       "      <td>POLYGON ((-86.83089 36.26570, -86.83016 36.265...</td>\n",
       "    </tr>\n",
       "    <tr>\n",
       "      <th>5</th>\n",
       "      <td>37</td>\n",
       "      <td>010104</td>\n",
       "      <td>101.04</td>\n",
       "      <td>POLYGON ((-86.97440 36.24991, -86.97244 36.252...</td>\n",
       "    </tr>\n",
       "    <tr>\n",
       "      <th>10</th>\n",
       "      <td>37</td>\n",
       "      <td>013300</td>\n",
       "      <td>133</td>\n",
       "      <td>POLYGON ((-86.86843 36.16436, -86.86836 36.164...</td>\n",
       "    </tr>\n",
       "    <tr>\n",
       "      <th>21</th>\n",
       "      <td>37</td>\n",
       "      <td>018102</td>\n",
       "      <td>181.02</td>\n",
       "      <td>POLYGON ((-86.88737 36.11771, -86.88733 36.117...</td>\n",
       "    </tr>\n",
       "    <tr>\n",
       "      <th>23</th>\n",
       "      <td>37</td>\n",
       "      <td>010602</td>\n",
       "      <td>106.02</td>\n",
       "      <td>POLYGON ((-86.69530 36.25263, -86.69513 36.253...</td>\n",
       "    </tr>\n",
       "    <tr>\n",
       "      <th>...</th>\n",
       "      <td>...</td>\n",
       "      <td>...</td>\n",
       "      <td>...</td>\n",
       "      <td>...</td>\n",
       "    </tr>\n",
       "    <tr>\n",
       "      <th>739</th>\n",
       "      <td>37</td>\n",
       "      <td>018904</td>\n",
       "      <td>189.04</td>\n",
       "      <td>POLYGON ((-86.73805 36.06626, -86.73780 36.066...</td>\n",
       "    </tr>\n",
       "    <tr>\n",
       "      <th>747</th>\n",
       "      <td>37</td>\n",
       "      <td>018905</td>\n",
       "      <td>189.05</td>\n",
       "      <td>POLYGON ((-86.74457 36.05547, -86.74447 36.055...</td>\n",
       "    </tr>\n",
       "    <tr>\n",
       "      <th>756</th>\n",
       "      <td>37</td>\n",
       "      <td>013601</td>\n",
       "      <td>136.01</td>\n",
       "      <td>POLYGON ((-86.84383 36.16325, -86.84375 36.163...</td>\n",
       "    </tr>\n",
       "    <tr>\n",
       "      <th>760</th>\n",
       "      <td>37</td>\n",
       "      <td>018301</td>\n",
       "      <td>183.01</td>\n",
       "      <td>POLYGON ((-87.03820 36.09382, -87.03819 36.093...</td>\n",
       "    </tr>\n",
       "    <tr>\n",
       "      <th>768</th>\n",
       "      <td>37</td>\n",
       "      <td>015631</td>\n",
       "      <td>156.31</td>\n",
       "      <td>MULTIPOLYGON (((-86.52329 36.13815, -86.52315 ...</td>\n",
       "    </tr>\n",
       "  </tbody>\n",
       "</table>\n",
       "<p>146 rows × 4 columns</p>\n",
       "</div>"
      ],
      "text/plain": [
       "     COUNTYFP TRACTCE    NAME  \\\n",
       "0          37  010106  101.06   \n",
       "5          37  010104  101.04   \n",
       "10         37  013300     133   \n",
       "21         37  018102  181.02   \n",
       "23         37  010602  106.02   \n",
       "..        ...     ...     ...   \n",
       "739        37  018904  189.04   \n",
       "747        37  018905  189.05   \n",
       "756        37  013601  136.01   \n",
       "760        37  018301  183.01   \n",
       "768        37  015631  156.31   \n",
       "\n",
       "                                              geometry  \n",
       "0    POLYGON ((-86.83089 36.26570, -86.83016 36.265...  \n",
       "5    POLYGON ((-86.97440 36.24991, -86.97244 36.252...  \n",
       "10   POLYGON ((-86.86843 36.16436, -86.86836 36.164...  \n",
       "21   POLYGON ((-86.88737 36.11771, -86.88733 36.117...  \n",
       "23   POLYGON ((-86.69530 36.25263, -86.69513 36.253...  \n",
       "..                                                 ...  \n",
       "739  POLYGON ((-86.73805 36.06626, -86.73780 36.066...  \n",
       "747  POLYGON ((-86.74457 36.05547, -86.74447 36.055...  \n",
       "756  POLYGON ((-86.84383 36.16325, -86.84375 36.163...  \n",
       "760  POLYGON ((-87.03820 36.09382, -87.03819 36.093...  \n",
       "768  MULTIPOLYGON (((-86.52329 36.13815, -86.52315 ...  \n",
       "\n",
       "[146 rows x 4 columns]"
      ]
     },
     "execution_count": 121,
     "metadata": {},
     "output_type": "execute_result"
    }
   ],
   "source": [
    "census_tract_names = burglary_by_tract['NAME']\n",
    "census_tract_names = pd.DataFrame(census_tract_names)\n",
    "polygon_nash = pd.merge(census_tract, census_tract_names, on = 'NAME')\n",
    "polygon_nash.drop_duplicates(subset='NAME')"
   ]
  },
  {
   "cell_type": "code",
   "execution_count": 123,
   "id": "8b1bfb91",
   "metadata": {
    "scrolled": true
   },
   "outputs": [
    {
     "data": {
      "image/png": "[encoded data removed]",
      "text/plain": [
       "<Figure size 576x720 with 1 Axes>"
      ]
     },
     "metadata": {
      "needs_background": "light"
     },
     "output_type": "display_data"
    }
   ],
   "source": [
    "ax = polygon_nash.plot(column='TRACTCE', figsize = (8, 10), cmap='terrain')\n",
    "burglary_by_tract.plot(ax = ax, column = 'offense_description')\n",
    "plt.show();"
   ]
  },
  {
   "cell_type": "code",
   "execution_count": 124,
   "id": "cd82fe6f",
   "metadata": {},
   "outputs": [],
   "source": [
    "#exports burglary_by_tract csv to data folder for use in question 3\n",
    "burglary_by_tract.to_csv(\"../geospatial_api-silver-sharks/data/burglary_by_tract.csv\")"
   ]
  },
  {
   "cell_type": "code",
   "execution_count": null,
   "id": "a5f2705a",
   "metadata": {},
   "outputs": [],
   "source": []
  }
 ],
 "metadata": {
  "kernelspec": {
   "display_name": "Python 3 (ipykernel)",
   "language": "python",
   "name": "python3"
  },
  "language_info": {
   "codemirror_mode": {
    "name": "ipython",
    "version": 3
   },
   "file_extension": ".py",
   "mimetype": "text/x-python",
   "name": "python",
   "nbconvert_exporter": "python",
   "pygments_lexer": "ipython3",
   "version": "3.8.5"
  }
 },
 "nbformat": 4,
 "nbformat_minor": 5
}
