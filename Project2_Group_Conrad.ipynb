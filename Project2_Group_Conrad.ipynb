{
 "cells": [
  {
   "cell_type": "code",
   "execution_count": 4,
   "id": "54bfb467",
   "metadata": {},
   "outputs": [],
   "source": [
    "import requests\n",
    "import matplotlib.pyplot as plt\n",
    "from IPython.display import Image\n",
    "import pandas as pd\n",
    "import json\n",
    "import geopandas as gpd\n",
    "import folium\n",
    "from folium.plugins import MarkerCluster\n",
    "from folium.plugins import FastMarkerCluster\n",
    "from shapely.geometry import Point"
   ]
  },
  {
   "cell_type": "code",
   "execution_count": 5,
   "id": "61060863",
   "metadata": {},
   "outputs": [],
   "source": [
    "with open('data/data_nash.json') as fi:\n",
    "    credentials = json.load(fi)\n",
    "    \n",
    "with open('data/data_nash_secret.json') as fi:\n",
    "    credentials_secret = json.load(fi)\n",
    "    \n",
    "api_key = credentials['api_key']\n",
    "api_key_secret = credentials_secret['api_key_secret']"
   ]
  },
  {
   "cell_type": "code",
   "execution_count": 6,
   "id": "53103c00",
   "metadata": {
    "scrolled": true
   },
   "outputs": [],
   "source": [
    "endpoint = \"https://data.nashville.gov/resource/2u6v-ujjs.json?$limit=50000\"\n",
    "\n",
    "params = {'$where' : \"incident_reported between '2021-01-13T00:00:00.000' and '2021-06-30T00:00:00.000'\", \n",
    "}"
   ]
  },
  {
   "cell_type": "code",
   "execution_count": 7,
   "id": "c01a0993",
   "metadata": {},
   "outputs": [
    {
     "data": {
      "text/plain": [
       "<Response [200]>"
      ]
     },
     "execution_count": 7,
     "metadata": {},
     "output_type": "execute_result"
    }
   ],
   "source": [
    "response = requests.get(endpoint, params)\n",
    "response"
   ]
  },
  {
   "cell_type": "code",
   "execution_count": 8,
   "id": "34c9e978",
   "metadata": {
    "scrolled": false
   },
   "outputs": [
    {
     "data": {
      "text/html": [
       "<div>\n",
       "<style scoped>\n",
       "    .dataframe tbody tr th:only-of-type {\n",
       "        vertical-align: middle;\n",
       "    }\n",
       "\n",
       "    .dataframe tbody tr th {\n",
       "        vertical-align: top;\n",
       "    }\n",
       "\n",
       "    .dataframe thead th {\n",
       "        text-align: right;\n",
       "    }\n",
       "</style>\n",
       "<table border=\"1\" class=\"dataframe\">\n",
       "  <thead>\n",
       "    <tr style=\"text-align: right;\">\n",
       "      <th></th>\n",
       "      <th>offense_description</th>\n",
       "      <th>latitude</th>\n",
       "      <th>longitude</th>\n",
       "      <th>mapped_location</th>\n",
       "      <th>zip_code</th>\n",
       "      <th>date_reported</th>\n",
       "    </tr>\n",
       "  </thead>\n",
       "  <tbody>\n",
       "    <tr>\n",
       "      <th>27</th>\n",
       "      <td>BURGLARY- MOTOR VEHICLE</td>\n",
       "      <td>36.13</td>\n",
       "      <td>-86.7</td>\n",
       "      <td>{'type': 'Point', 'coordinates': [-86.7, 36.13]}</td>\n",
       "      <td>NaN</td>\n",
       "      <td>2021-01-13</td>\n",
       "    </tr>\n",
       "    <tr>\n",
       "      <th>51</th>\n",
       "      <td>BURGLARY- MOTOR VEHICLE</td>\n",
       "      <td>36.07</td>\n",
       "      <td>-86.64</td>\n",
       "      <td>{'type': 'Point', 'coordinates': [-86.64, 36.07]}</td>\n",
       "      <td>NaN</td>\n",
       "      <td>2021-01-13</td>\n",
       "    </tr>\n",
       "    <tr>\n",
       "      <th>56</th>\n",
       "      <td>BURGLARY- MOTOR VEHICLE</td>\n",
       "      <td>36.17</td>\n",
       "      <td>-86.78</td>\n",
       "      <td>{'type': 'Point', 'coordinates': [-86.78, 36.17]}</td>\n",
       "      <td>NaN</td>\n",
       "      <td>2021-01-13</td>\n",
       "    </tr>\n",
       "    <tr>\n",
       "      <th>57</th>\n",
       "      <td>BURGLARY- MOTOR VEHICLE</td>\n",
       "      <td>36.17</td>\n",
       "      <td>-86.78</td>\n",
       "      <td>{'type': 'Point', 'coordinates': [-86.78, 36.17]}</td>\n",
       "      <td>NaN</td>\n",
       "      <td>2021-01-13</td>\n",
       "    </tr>\n",
       "    <tr>\n",
       "      <th>98</th>\n",
       "      <td>BURGLARY- MOTOR VEHICLE</td>\n",
       "      <td>36.21</td>\n",
       "      <td>-86.81</td>\n",
       "      <td>{'type': 'Point', 'coordinates': [-86.81, 36.21]}</td>\n",
       "      <td>NaN</td>\n",
       "      <td>2021-01-13</td>\n",
       "    </tr>\n",
       "    <tr>\n",
       "      <th>...</th>\n",
       "      <td>...</td>\n",
       "      <td>...</td>\n",
       "      <td>...</td>\n",
       "      <td>...</td>\n",
       "      <td>...</td>\n",
       "      <td>...</td>\n",
       "    </tr>\n",
       "    <tr>\n",
       "      <th>48822</th>\n",
       "      <td>BURGLARY- MOTOR VEHICLE</td>\n",
       "      <td>36.15</td>\n",
       "      <td>-86.78</td>\n",
       "      <td>{'type': 'Point', 'coordinates': [-86.78, 36.15]}</td>\n",
       "      <td>NaN</td>\n",
       "      <td>2021-06-29</td>\n",
       "    </tr>\n",
       "    <tr>\n",
       "      <th>48859</th>\n",
       "      <td>BURGLARY- MOTOR VEHICLE</td>\n",
       "      <td>36.18</td>\n",
       "      <td>-86.73</td>\n",
       "      <td>{'type': 'Point', 'coordinates': [-86.73, 36.18]}</td>\n",
       "      <td>NaN</td>\n",
       "      <td>2021-06-29</td>\n",
       "    </tr>\n",
       "    <tr>\n",
       "      <th>48866</th>\n",
       "      <td>BURGLARY- AGGRAVATED</td>\n",
       "      <td>36.08</td>\n",
       "      <td>-86.7</td>\n",
       "      <td>{'type': 'Point', 'coordinates': [-86.7, 36.08]}</td>\n",
       "      <td>NaN</td>\n",
       "      <td>2021-06-29</td>\n",
       "    </tr>\n",
       "    <tr>\n",
       "      <th>48881</th>\n",
       "      <td>BURGLARY- MOTOR VEHICLE</td>\n",
       "      <td>36.19</td>\n",
       "      <td>-86.68</td>\n",
       "      <td>{'type': 'Point', 'coordinates': [-86.68, 36.19]}</td>\n",
       "      <td>NaN</td>\n",
       "      <td>2021-06-29</td>\n",
       "    </tr>\n",
       "    <tr>\n",
       "      <th>48913</th>\n",
       "      <td>BURGLARY- MOTOR VEHICLE</td>\n",
       "      <td>36.11</td>\n",
       "      <td>-86.8</td>\n",
       "      <td>{'type': 'Point', 'coordinates': [-86.8, 36.11]}</td>\n",
       "      <td>NaN</td>\n",
       "      <td>2021-06-29</td>\n",
       "    </tr>\n",
       "  </tbody>\n",
       "</table>\n",
       "<p>4545 rows × 6 columns</p>\n",
       "</div>"
      ],
      "text/plain": [
       "           offense_description latitude longitude  \\\n",
       "27     BURGLARY- MOTOR VEHICLE    36.13     -86.7   \n",
       "51     BURGLARY- MOTOR VEHICLE    36.07    -86.64   \n",
       "56     BURGLARY- MOTOR VEHICLE    36.17    -86.78   \n",
       "57     BURGLARY- MOTOR VEHICLE    36.17    -86.78   \n",
       "98     BURGLARY- MOTOR VEHICLE    36.21    -86.81   \n",
       "...                        ...      ...       ...   \n",
       "48822  BURGLARY- MOTOR VEHICLE    36.15    -86.78   \n",
       "48859  BURGLARY- MOTOR VEHICLE    36.18    -86.73   \n",
       "48866     BURGLARY- AGGRAVATED    36.08     -86.7   \n",
       "48881  BURGLARY- MOTOR VEHICLE    36.19    -86.68   \n",
       "48913  BURGLARY- MOTOR VEHICLE    36.11     -86.8   \n",
       "\n",
       "                                         mapped_location zip_code  \\\n",
       "27      {'type': 'Point', 'coordinates': [-86.7, 36.13]}      NaN   \n",
       "51     {'type': 'Point', 'coordinates': [-86.64, 36.07]}      NaN   \n",
       "56     {'type': 'Point', 'coordinates': [-86.78, 36.17]}      NaN   \n",
       "57     {'type': 'Point', 'coordinates': [-86.78, 36.17]}      NaN   \n",
       "98     {'type': 'Point', 'coordinates': [-86.81, 36.21]}      NaN   \n",
       "...                                                  ...      ...   \n",
       "48822  {'type': 'Point', 'coordinates': [-86.78, 36.15]}      NaN   \n",
       "48859  {'type': 'Point', 'coordinates': [-86.73, 36.18]}      NaN   \n",
       "48866   {'type': 'Point', 'coordinates': [-86.7, 36.08]}      NaN   \n",
       "48881  {'type': 'Point', 'coordinates': [-86.68, 36.19]}      NaN   \n",
       "48913   {'type': 'Point', 'coordinates': [-86.8, 36.11]}      NaN   \n",
       "\n",
       "      date_reported  \n",
       "27       2021-01-13  \n",
       "51       2021-01-13  \n",
       "56       2021-01-13  \n",
       "57       2021-01-13  \n",
       "98       2021-01-13  \n",
       "...             ...  \n",
       "48822    2021-06-29  \n",
       "48859    2021-06-29  \n",
       "48866    2021-06-29  \n",
       "48881    2021-06-29  \n",
       "48913    2021-06-29  \n",
       "\n",
       "[4545 rows x 6 columns]"
      ]
     },
     "execution_count": 8,
     "metadata": {},
     "output_type": "execute_result"
    }
   ],
   "source": [
    "res = response.json()\n",
    "res = pd.DataFrame(res, columns=['incident_reported', 'offense_description', 'latitude', 'longitude', 'mapped_location', 'zip_code'])\n",
    "res['date_reported'] = res['incident_reported'].str.split(\"T\", expand=True)[0]\n",
    "res_trimmed = res.drop(columns='incident_reported')\n",
    "burglary_reports = res_trimmed[res_trimmed['offense_description'].str.contains('BURGLARY')]\n",
    "burglary_reports"
   ]
  },
  {
   "cell_type": "code",
   "execution_count": 11,
   "id": "6360f49d",
   "metadata": {},
   "outputs": [
    {
     "data": {
      "text/plain": [
       "geopandas.geodataframe.GeoDataFrame"
      ]
     },
     "execution_count": 11,
     "metadata": {},
     "output_type": "execute_result"
    }
   ],
   "source": [
    "census_tract = gpd.read_file('data/tl_2019-47_tract/tl_2019_47_tract.shp')\n",
    "type(census_tract)"
   ]
  },
  {
   "cell_type": "code",
   "execution_count": null,
   "id": "fa5e473b",
   "metadata": {},
   "outputs": [],
   "source": []
  }
 ],
 "metadata": {
  "kernelspec": {
   "display_name": "Python 3 (ipykernel)",
   "language": "python",
   "name": "python3"
  },
  "language_info": {
   "codemirror_mode": {
    "name": "ipython",
    "version": 3
   },
   "file_extension": ".py",
   "mimetype": "text/x-python",
   "name": "python",
   "nbconvert_exporter": "python",
   "pygments_lexer": "ipython3",
   "version": "3.8.5"
  }
 },
 "nbformat": 4,
 "nbformat_minor": 5
}
