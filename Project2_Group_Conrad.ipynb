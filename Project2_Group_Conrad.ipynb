{
 "cells": [
  {
   "cell_type": "code",
   "execution_count": 159,
   "id": "54bfb467",
   "metadata": {},
   "outputs": [],
   "source": [
    "import requests\n",
    "import matplotlib.pyplot as plt\n",
    "from IPython.display import Image\n",
    "import pandas as pd\n",
    "import json\n",
    "import geopandas as gpd\n",
    "import folium\n",
    "from folium.plugins import MarkerCluster\n",
    "from folium.plugins import FastMarkerCluster\n",
    "from shapely.geometry import Point\n",
    "import numpy as np\n",
    "import statsmodels.api as sm\n",
    "import statsmodels.formula.api as smf\n",
    "import seaborn as sns\n",
    "from patsy import dmatrices"
   ]
  },
  {
   "cell_type": "markdown",
   "id": "09157c53",
   "metadata": {},
   "source": [
    "### Establishing endpoint and parameters, submit api request, and converting to json"
   ]
  },
  {
   "cell_type": "code",
   "execution_count": 160,
   "id": "53103c00",
   "metadata": {
    "scrolled": true
   },
   "outputs": [],
   "source": [
    "endpoint = \"https://data.nashville.gov/resource/2u6v-ujjs.json?$limit=50000\"\n",
    "\n",
    "params = {'$where' : \"incident_reported between '2021-01-13T00:00:00.000' and '2021-06-30T00:00:00.000'\", \n",
    "}"
   ]
  },
  {
   "cell_type": "code",
   "execution_count": 161,
   "id": "c01a0993",
   "metadata": {},
   "outputs": [],
   "source": [
    "response = requests.get(endpoint, params)"
   ]
  },
  {
   "cell_type": "code",
   "execution_count": 162,
   "id": "8e7950c9",
   "metadata": {},
   "outputs": [],
   "source": [
    "res = response.json()"
   ]
  },
  {
   "cell_type": "markdown",
   "id": "93430f25",
   "metadata": {},
   "source": [
    "### Converting response to a dataframe and cleanup\n",
    "##### Modified 'incident_reported' column to only include date \n",
    "###### Converted latitude and longitude from objects to floats"
   ]
  },
  {
   "cell_type": "code",
   "execution_count": 163,
   "id": "34c9e978",
   "metadata": {
    "scrolled": false
   },
   "outputs": [
    {
     "data": {
      "text/html": [
       "<div>\n",
       "<style scoped>\n",
       "    .dataframe tbody tr th:only-of-type {\n",
       "        vertical-align: middle;\n",
       "    }\n",
       "\n",
       "    .dataframe tbody tr th {\n",
       "        vertical-align: top;\n",
       "    }\n",
       "\n",
       "    .dataframe thead th {\n",
       "        text-align: right;\n",
       "    }\n",
       "</style>\n",
       "<table border=\"1\" class=\"dataframe\">\n",
       "  <thead>\n",
       "    <tr style=\"text-align: right;\">\n",
       "      <th></th>\n",
       "      <th>incident_reported</th>\n",
       "      <th>offense_description</th>\n",
       "      <th>latitude</th>\n",
       "      <th>longitude</th>\n",
       "      <th>zip_code</th>\n",
       "    </tr>\n",
       "  </thead>\n",
       "  <tbody>\n",
       "    <tr>\n",
       "      <th>199</th>\n",
       "      <td>2021-01-13</td>\n",
       "      <td>BURGLARY- AGGRAVATED</td>\n",
       "      <td>36.06</td>\n",
       "      <td>-86.95</td>\n",
       "      <td>NaN</td>\n",
       "    </tr>\n",
       "    <tr>\n",
       "      <th>310</th>\n",
       "      <td>2021-01-14</td>\n",
       "      <td>BURGLARY- AGGRAVATED</td>\n",
       "      <td>36.19</td>\n",
       "      <td>-86.75</td>\n",
       "      <td>NaN</td>\n",
       "    </tr>\n",
       "    <tr>\n",
       "      <th>434</th>\n",
       "      <td>2021-01-14</td>\n",
       "      <td>BURGLARY- AGGRAVATED</td>\n",
       "      <td>36.18</td>\n",
       "      <td>-86.75</td>\n",
       "      <td>NaN</td>\n",
       "    </tr>\n",
       "    <tr>\n",
       "      <th>450</th>\n",
       "      <td>2021-01-14</td>\n",
       "      <td>BURGLARY- AGGRAVATED</td>\n",
       "      <td>36.04</td>\n",
       "      <td>-86.73</td>\n",
       "      <td>NaN</td>\n",
       "    </tr>\n",
       "    <tr>\n",
       "      <th>495</th>\n",
       "      <td>2021-01-14</td>\n",
       "      <td>BURGLARY- AGGRAVATED</td>\n",
       "      <td>36.16</td>\n",
       "      <td>-86.85</td>\n",
       "      <td>NaN</td>\n",
       "    </tr>\n",
       "  </tbody>\n",
       "</table>\n",
       "</div>"
      ],
      "text/plain": [
       "    incident_reported   offense_description latitude longitude zip_code\n",
       "199        2021-01-13  BURGLARY- AGGRAVATED    36.06    -86.95      NaN\n",
       "310        2021-01-14  BURGLARY- AGGRAVATED    36.19    -86.75      NaN\n",
       "434        2021-01-14  BURGLARY- AGGRAVATED    36.18    -86.75      NaN\n",
       "450        2021-01-14  BURGLARY- AGGRAVATED    36.04    -86.73      NaN\n",
       "495        2021-01-14  BURGLARY- AGGRAVATED    36.16    -86.85      NaN"
      ]
     },
     "execution_count": 163,
     "metadata": {},
     "output_type": "execute_result"
    }
   ],
   "source": [
    "res_trimmed = pd.DataFrame(res, columns=['incident_reported', 'offense_description', 'latitude', 'longitude', 'zip_code'])\n",
    "\n",
    "res_trimmed['incident_reported'] = res_trimmed['incident_reported'].str.split(\"T\", expand=True)[0]\n",
    "\n",
    "burglary_reports = res_trimmed[res_trimmed['offense_description'].str.contains('BURGLARY- AGGRAVATED')]\n",
    "\n",
    "burglary_reports.head()"
   ]
  },
  {
   "cell_type": "code",
   "execution_count": 164,
   "id": "3ef8aca7",
   "metadata": {},
   "outputs": [
    {
     "name": "stderr",
     "output_type": "stream",
     "text": [
      "C:\\Users\\Conrad\\anaconda3\\envs\\geospatial\\lib\\site-packages\\pandas\\core\\frame.py:3641: SettingWithCopyWarning: \n",
      "A value is trying to be set on a copy of a slice from a DataFrame.\n",
      "Try using .loc[row_indexer,col_indexer] = value instead\n",
      "\n",
      "See the caveats in the documentation: https://pandas.pydata.org/pandas-docs/stable/user_guide/indexing.html#returning-a-view-versus-a-copy\n",
      "  self[k1] = value[k2]\n"
     ]
    },
    {
     "data": {
      "text/plain": [
       "(984, 5)"
      ]
     },
     "execution_count": 164,
     "metadata": {},
     "output_type": "execute_result"
    }
   ],
   "source": [
    "burglary_reports[['latitude', 'longitude']] = burglary_reports[['latitude', 'longitude']].apply(pd.to_numeric);\n",
    "\n",
    "burglary_reports.shape"
   ]
  },
  {
   "cell_type": "markdown",
   "id": "0fcf1a5f",
   "metadata": {},
   "source": [
    "### Downloaded census tract data and uploaded code"
   ]
  },
  {
   "cell_type": "code",
   "execution_count": 165,
   "id": "6360f49d",
   "metadata": {},
   "outputs": [
    {
     "data": {
      "text/plain": [
       "geopandas.geodataframe.GeoDataFrame"
      ]
     },
     "execution_count": 165,
     "metadata": {},
     "output_type": "execute_result"
    }
   ],
   "source": [
    "census_tract = gpd.read_file('data/tl_2019-47_tract/tl_2019_47_tract.shp')\n",
    "type(census_tract)"
   ]
  },
  {
   "cell_type": "code",
   "execution_count": 166,
   "id": "fa5e473b",
   "metadata": {},
   "outputs": [
    {
     "name": "stdout",
     "output_type": "stream",
     "text": [
      "epsg:4269\n"
     ]
    },
    {
     "data": {
      "text/html": [
       "<div>\n",
       "<style scoped>\n",
       "    .dataframe tbody tr th:only-of-type {\n",
       "        vertical-align: middle;\n",
       "    }\n",
       "\n",
       "    .dataframe tbody tr th {\n",
       "        vertical-align: top;\n",
       "    }\n",
       "\n",
       "    .dataframe thead th {\n",
       "        text-align: right;\n",
       "    }\n",
       "</style>\n",
       "<table border=\"1\" class=\"dataframe\">\n",
       "  <thead>\n",
       "    <tr style=\"text-align: right;\">\n",
       "      <th></th>\n",
       "      <th>STATEFP</th>\n",
       "      <th>COUNTYFP</th>\n",
       "      <th>TRACTCE</th>\n",
       "      <th>GEOID</th>\n",
       "      <th>NAME</th>\n",
       "      <th>NAMELSAD</th>\n",
       "      <th>MTFCC</th>\n",
       "      <th>FUNCSTAT</th>\n",
       "      <th>ALAND</th>\n",
       "      <th>AWATER</th>\n",
       "      <th>INTPTLAT</th>\n",
       "      <th>INTPTLON</th>\n",
       "      <th>geometry</th>\n",
       "    </tr>\n",
       "  </thead>\n",
       "  <tbody>\n",
       "    <tr>\n",
       "      <th>0</th>\n",
       "      <td>47</td>\n",
       "      <td>165</td>\n",
       "      <td>021002</td>\n",
       "      <td>47165021002</td>\n",
       "      <td>210.02</td>\n",
       "      <td>Census Tract 210.02</td>\n",
       "      <td>G5020</td>\n",
       "      <td>S</td>\n",
       "      <td>30654374</td>\n",
       "      <td>207994</td>\n",
       "      <td>+36.3521602</td>\n",
       "      <td>-086.6464309</td>\n",
       "      <td>POLYGON ((-86.69927 36.32775, -86.69923 36.327...</td>\n",
       "    </tr>\n",
       "    <tr>\n",
       "      <th>1</th>\n",
       "      <td>47</td>\n",
       "      <td>165</td>\n",
       "      <td>020901</td>\n",
       "      <td>47165020901</td>\n",
       "      <td>209.01</td>\n",
       "      <td>Census Tract 209.01</td>\n",
       "      <td>G5020</td>\n",
       "      <td>S</td>\n",
       "      <td>23811766</td>\n",
       "      <td>3412697</td>\n",
       "      <td>+36.3483143</td>\n",
       "      <td>-086.4070907</td>\n",
       "      <td>POLYGON ((-86.43949 36.35962, -86.43915 36.359...</td>\n",
       "    </tr>\n",
       "    <tr>\n",
       "      <th>2</th>\n",
       "      <td>47</td>\n",
       "      <td>165</td>\n",
       "      <td>020300</td>\n",
       "      <td>47165020300</td>\n",
       "      <td>203</td>\n",
       "      <td>Census Tract 203</td>\n",
       "      <td>G5020</td>\n",
       "      <td>S</td>\n",
       "      <td>14629292</td>\n",
       "      <td>0</td>\n",
       "      <td>+36.5796910</td>\n",
       "      <td>-086.5114955</td>\n",
       "      <td>POLYGON ((-86.53716 36.56852, -86.53713 36.568...</td>\n",
       "    </tr>\n",
       "    <tr>\n",
       "      <th>3</th>\n",
       "      <td>47</td>\n",
       "      <td>165</td>\n",
       "      <td>020902</td>\n",
       "      <td>47165020902</td>\n",
       "      <td>209.02</td>\n",
       "      <td>Census Tract 209.02</td>\n",
       "      <td>G5020</td>\n",
       "      <td>S</td>\n",
       "      <td>9756715</td>\n",
       "      <td>0</td>\n",
       "      <td>+36.3724350</td>\n",
       "      <td>-086.4411274</td>\n",
       "      <td>POLYGON ((-86.47106 36.38238, -86.47081 36.382...</td>\n",
       "    </tr>\n",
       "    <tr>\n",
       "      <th>4</th>\n",
       "      <td>47</td>\n",
       "      <td>165</td>\n",
       "      <td>020800</td>\n",
       "      <td>47165020800</td>\n",
       "      <td>208</td>\n",
       "      <td>Census Tract 208</td>\n",
       "      <td>G5020</td>\n",
       "      <td>S</td>\n",
       "      <td>10235406</td>\n",
       "      <td>37743</td>\n",
       "      <td>+36.4005117</td>\n",
       "      <td>-086.4528100</td>\n",
       "      <td>POLYGON ((-86.48786 36.37320, -86.48783 36.373...</td>\n",
       "    </tr>\n",
       "  </tbody>\n",
       "</table>\n",
       "</div>"
      ],
      "text/plain": [
       "  STATEFP COUNTYFP TRACTCE        GEOID    NAME             NAMELSAD  MTFCC  \\\n",
       "0      47      165  021002  47165021002  210.02  Census Tract 210.02  G5020   \n",
       "1      47      165  020901  47165020901  209.01  Census Tract 209.01  G5020   \n",
       "2      47      165  020300  47165020300     203     Census Tract 203  G5020   \n",
       "3      47      165  020902  47165020902  209.02  Census Tract 209.02  G5020   \n",
       "4      47      165  020800  47165020800     208     Census Tract 208  G5020   \n",
       "\n",
       "  FUNCSTAT     ALAND   AWATER     INTPTLAT      INTPTLON  \\\n",
       "0        S  30654374   207994  +36.3521602  -086.6464309   \n",
       "1        S  23811766  3412697  +36.3483143  -086.4070907   \n",
       "2        S  14629292        0  +36.5796910  -086.5114955   \n",
       "3        S   9756715        0  +36.3724350  -086.4411274   \n",
       "4        S  10235406    37743  +36.4005117  -086.4528100   \n",
       "\n",
       "                                            geometry  \n",
       "0  POLYGON ((-86.69927 36.32775, -86.69923 36.327...  \n",
       "1  POLYGON ((-86.43949 36.35962, -86.43915 36.359...  \n",
       "2  POLYGON ((-86.53716 36.56852, -86.53713 36.568...  \n",
       "3  POLYGON ((-86.47106 36.38238, -86.47081 36.382...  \n",
       "4  POLYGON ((-86.48786 36.37320, -86.48783 36.373...  "
      ]
     },
     "execution_count": 166,
     "metadata": {},
     "output_type": "execute_result"
    }
   ],
   "source": [
    "print(census_tract.crs)\n",
    "census_tract.head()"
   ]
  },
  {
   "cell_type": "code",
   "execution_count": 167,
   "id": "ba5d25a8",
   "metadata": {},
   "outputs": [],
   "source": [
    "#leg_kwds = {'title': 'Census Tracts', 'loc':'upper left', \n",
    "#            'bbox_to_anchor': (0, 0), 'ncol': 9}\n",
    "\n",
    "#census_tract.plot(column = 'NAME', figsize=(15, 15), edgecolor = 'black',\n",
    "#                 legend = True, legend_kwds = leg_kwds, cmap = 'terrain')"
   ]
  },
  {
   "cell_type": "markdown",
   "id": "ba2dbab5",
   "metadata": {},
   "source": [
    "### Created appropriate 'geometry' column with Point(long, lat) format and converted to GeoDataFrame"
   ]
  },
  {
   "cell_type": "code",
   "execution_count": 168,
   "id": "fb57fe30",
   "metadata": {},
   "outputs": [
    {
     "name": "stderr",
     "output_type": "stream",
     "text": [
      "C:\\Users\\Conrad\\AppData\\Local\\Temp/ipykernel_26144/3948901756.py:1: SettingWithCopyWarning: \n",
      "A value is trying to be set on a copy of a slice from a DataFrame.\n",
      "Try using .loc[row_indexer,col_indexer] = value instead\n",
      "\n",
      "See the caveats in the documentation: https://pandas.pydata.org/pandas-docs/stable/user_guide/indexing.html#returning-a-view-versus-a-copy\n",
      "  burglary_reports['geometry'] = burglary_reports.apply(lambda x: Point((x.longitude,\n"
     ]
    },
    {
     "data": {
      "text/html": [
       "<div>\n",
       "<style scoped>\n",
       "    .dataframe tbody tr th:only-of-type {\n",
       "        vertical-align: middle;\n",
       "    }\n",
       "\n",
       "    .dataframe tbody tr th {\n",
       "        vertical-align: top;\n",
       "    }\n",
       "\n",
       "    .dataframe thead th {\n",
       "        text-align: right;\n",
       "    }\n",
       "</style>\n",
       "<table border=\"1\" class=\"dataframe\">\n",
       "  <thead>\n",
       "    <tr style=\"text-align: right;\">\n",
       "      <th></th>\n",
       "      <th>incident_reported</th>\n",
       "      <th>offense_description</th>\n",
       "      <th>latitude</th>\n",
       "      <th>longitude</th>\n",
       "      <th>zip_code</th>\n",
       "      <th>geometry</th>\n",
       "    </tr>\n",
       "  </thead>\n",
       "  <tbody>\n",
       "    <tr>\n",
       "      <th>199</th>\n",
       "      <td>2021-01-13</td>\n",
       "      <td>BURGLARY- AGGRAVATED</td>\n",
       "      <td>36.06</td>\n",
       "      <td>-86.95</td>\n",
       "      <td>NaN</td>\n",
       "      <td>POINT (-86.95 36.06)</td>\n",
       "    </tr>\n",
       "    <tr>\n",
       "      <th>310</th>\n",
       "      <td>2021-01-14</td>\n",
       "      <td>BURGLARY- AGGRAVATED</td>\n",
       "      <td>36.19</td>\n",
       "      <td>-86.75</td>\n",
       "      <td>NaN</td>\n",
       "      <td>POINT (-86.75 36.19)</td>\n",
       "    </tr>\n",
       "    <tr>\n",
       "      <th>434</th>\n",
       "      <td>2021-01-14</td>\n",
       "      <td>BURGLARY- AGGRAVATED</td>\n",
       "      <td>36.18</td>\n",
       "      <td>-86.75</td>\n",
       "      <td>NaN</td>\n",
       "      <td>POINT (-86.75 36.18)</td>\n",
       "    </tr>\n",
       "    <tr>\n",
       "      <th>450</th>\n",
       "      <td>2021-01-14</td>\n",
       "      <td>BURGLARY- AGGRAVATED</td>\n",
       "      <td>36.04</td>\n",
       "      <td>-86.73</td>\n",
       "      <td>NaN</td>\n",
       "      <td>POINT (-86.73 36.04)</td>\n",
       "    </tr>\n",
       "    <tr>\n",
       "      <th>495</th>\n",
       "      <td>2021-01-14</td>\n",
       "      <td>BURGLARY- AGGRAVATED</td>\n",
       "      <td>36.16</td>\n",
       "      <td>-86.85</td>\n",
       "      <td>NaN</td>\n",
       "      <td>POINT (-86.84999999999999 36.16)</td>\n",
       "    </tr>\n",
       "  </tbody>\n",
       "</table>\n",
       "</div>"
      ],
      "text/plain": [
       "    incident_reported   offense_description  latitude  longitude zip_code  \\\n",
       "199        2021-01-13  BURGLARY- AGGRAVATED     36.06     -86.95      NaN   \n",
       "310        2021-01-14  BURGLARY- AGGRAVATED     36.19     -86.75      NaN   \n",
       "434        2021-01-14  BURGLARY- AGGRAVATED     36.18     -86.75      NaN   \n",
       "450        2021-01-14  BURGLARY- AGGRAVATED     36.04     -86.73      NaN   \n",
       "495        2021-01-14  BURGLARY- AGGRAVATED     36.16     -86.85      NaN   \n",
       "\n",
       "                             geometry  \n",
       "199              POINT (-86.95 36.06)  \n",
       "310              POINT (-86.75 36.19)  \n",
       "434              POINT (-86.75 36.18)  \n",
       "450              POINT (-86.73 36.04)  \n",
       "495  POINT (-86.84999999999999 36.16)  "
      ]
     },
     "execution_count": 168,
     "metadata": {},
     "output_type": "execute_result"
    }
   ],
   "source": [
    "burglary_reports['geometry'] = burglary_reports.apply(lambda x: Point((x.longitude,\n",
    "                                                                      x.latitude)),\n",
    "                                                     axis=1)\n",
    "\n",
    "burglary_reports.head()"
   ]
  },
  {
   "cell_type": "code",
   "execution_count": 169,
   "id": "33df1369",
   "metadata": {},
   "outputs": [],
   "source": [
    "burglary_geo = gpd.GeoDataFrame(burglary_reports,\n",
    "                               crs=census_tract.crs,\n",
    "                               geometry = burglary_reports['geometry'])"
   ]
  },
  {
   "cell_type": "markdown",
   "id": "65d5144d",
   "metadata": {},
   "source": [
    "### Paired down census_tract usable columns and joined with burglary_geo data"
   ]
  },
  {
   "cell_type": "code",
   "execution_count": 170,
   "id": "41a3dd4c",
   "metadata": {},
   "outputs": [
    {
     "data": {
      "text/html": [
       "<div>\n",
       "<style scoped>\n",
       "    .dataframe tbody tr th:only-of-type {\n",
       "        vertical-align: middle;\n",
       "    }\n",
       "\n",
       "    .dataframe tbody tr th {\n",
       "        vertical-align: top;\n",
       "    }\n",
       "\n",
       "    .dataframe thead th {\n",
       "        text-align: right;\n",
       "    }\n",
       "</style>\n",
       "<table border=\"1\" class=\"dataframe\">\n",
       "  <thead>\n",
       "    <tr style=\"text-align: right;\">\n",
       "      <th></th>\n",
       "      <th>COUNTYFP</th>\n",
       "      <th>TRACTCE</th>\n",
       "      <th>NAME</th>\n",
       "      <th>geometry</th>\n",
       "    </tr>\n",
       "  </thead>\n",
       "  <tbody>\n",
       "    <tr>\n",
       "      <th>27</th>\n",
       "      <td>37</td>\n",
       "      <td>010106</td>\n",
       "      <td>101.06</td>\n",
       "      <td>POLYGON ((-86.83089 36.26570, -86.83016 36.265...</td>\n",
       "    </tr>\n",
       "    <tr>\n",
       "      <th>36</th>\n",
       "      <td>37</td>\n",
       "      <td>010103</td>\n",
       "      <td>101.03</td>\n",
       "      <td>POLYGON ((-86.91752 36.33976, -86.91747 36.339...</td>\n",
       "    </tr>\n",
       "    <tr>\n",
       "      <th>37</th>\n",
       "      <td>37</td>\n",
       "      <td>010202</td>\n",
       "      <td>102.02</td>\n",
       "      <td>POLYGON ((-86.82482 36.33225, -86.82480 36.332...</td>\n",
       "    </tr>\n",
       "    <tr>\n",
       "      <th>38</th>\n",
       "      <td>37</td>\n",
       "      <td>010104</td>\n",
       "      <td>101.04</td>\n",
       "      <td>POLYGON ((-86.97440 36.24991, -86.97244 36.252...</td>\n",
       "    </tr>\n",
       "    <tr>\n",
       "      <th>63</th>\n",
       "      <td>37</td>\n",
       "      <td>013300</td>\n",
       "      <td>133</td>\n",
       "      <td>POLYGON ((-86.86843 36.16436, -86.86836 36.164...</td>\n",
       "    </tr>\n",
       "  </tbody>\n",
       "</table>\n",
       "</div>"
      ],
      "text/plain": [
       "    COUNTYFP TRACTCE    NAME  \\\n",
       "27        37  010106  101.06   \n",
       "36        37  010103  101.03   \n",
       "37        37  010202  102.02   \n",
       "38        37  010104  101.04   \n",
       "63        37  013300     133   \n",
       "\n",
       "                                             geometry  \n",
       "27  POLYGON ((-86.83089 36.26570, -86.83016 36.265...  \n",
       "36  POLYGON ((-86.91752 36.33976, -86.91747 36.339...  \n",
       "37  POLYGON ((-86.82482 36.33225, -86.82480 36.332...  \n",
       "38  POLYGON ((-86.97440 36.24991, -86.97244 36.252...  \n",
       "63  POLYGON ((-86.86843 36.16436, -86.86836 36.164...  "
      ]
     },
     "execution_count": 170,
     "metadata": {},
     "output_type": "execute_result"
    }
   ],
   "source": [
    "census_tract = census_tract[['COUNTYFP', 'TRACTCE', 'NAME', 'geometry']]\n",
    "census_tract['COUNTYFP'] = census_tract['COUNTYFP'].apply(pd.to_numeric)\n",
    "census_tract = census_tract[census_tract['COUNTYFP'] == 37]\n",
    "census_tract.head()"
   ]
  },
  {
   "cell_type": "code",
   "execution_count": 171,
   "id": "f87d918d",
   "metadata": {},
   "outputs": [],
   "source": [
    "burglary_by_tract = gpd.sjoin(burglary_geo, census_tract, op = 'within')"
   ]
  },
  {
   "cell_type": "markdown",
   "id": "760f09bc",
   "metadata": {},
   "source": [
    "### Gets rid of duplicates in data and adjusts columns"
   ]
  },
  {
   "cell_type": "code",
   "execution_count": 172,
   "id": "014787da",
   "metadata": {
    "scrolled": true
   },
   "outputs": [
    {
     "data": {
      "text/html": [
       "<div>\n",
       "<style scoped>\n",
       "    .dataframe tbody tr th:only-of-type {\n",
       "        vertical-align: middle;\n",
       "    }\n",
       "\n",
       "    .dataframe tbody tr th {\n",
       "        vertical-align: top;\n",
       "    }\n",
       "\n",
       "    .dataframe thead th {\n",
       "        text-align: right;\n",
       "    }\n",
       "</style>\n",
       "<table border=\"1\" class=\"dataframe\">\n",
       "  <thead>\n",
       "    <tr style=\"text-align: right;\">\n",
       "      <th></th>\n",
       "      <th>incident_reported</th>\n",
       "      <th>offense_description</th>\n",
       "      <th>latitude</th>\n",
       "      <th>longitude</th>\n",
       "      <th>zip_code</th>\n",
       "      <th>geometry</th>\n",
       "      <th>COUNTYFP</th>\n",
       "      <th>tract</th>\n",
       "      <th>NAME</th>\n",
       "    </tr>\n",
       "  </thead>\n",
       "  <tbody>\n",
       "    <tr>\n",
       "      <th>199</th>\n",
       "      <td>2021-01-13</td>\n",
       "      <td>BURGLARY- AGGRAVATED</td>\n",
       "      <td>36.06</td>\n",
       "      <td>-86.95</td>\n",
       "      <td>NaN</td>\n",
       "      <td>POINT (-86.95000 36.06000)</td>\n",
       "      <td>37</td>\n",
       "      <td>018407</td>\n",
       "      <td>184.07</td>\n",
       "    </tr>\n",
       "    <tr>\n",
       "      <th>14375</th>\n",
       "      <td>2021-03-05</td>\n",
       "      <td>BURGLARY- AGGRAVATED</td>\n",
       "      <td>36.07</td>\n",
       "      <td>-86.99</td>\n",
       "      <td>NaN</td>\n",
       "      <td>POINT (-86.99000 36.07000)</td>\n",
       "      <td>37</td>\n",
       "      <td>018407</td>\n",
       "      <td>184.07</td>\n",
       "    </tr>\n",
       "    <tr>\n",
       "      <th>310</th>\n",
       "      <td>2021-01-14</td>\n",
       "      <td>BURGLARY- AGGRAVATED</td>\n",
       "      <td>36.19</td>\n",
       "      <td>-86.75</td>\n",
       "      <td>NaN</td>\n",
       "      <td>POINT (-86.75000 36.19000)</td>\n",
       "      <td>37</td>\n",
       "      <td>011700</td>\n",
       "      <td>117</td>\n",
       "    </tr>\n",
       "    <tr>\n",
       "      <th>2779</th>\n",
       "      <td>2021-01-22</td>\n",
       "      <td>BURGLARY- AGGRAVATED</td>\n",
       "      <td>36.19</td>\n",
       "      <td>-86.74</td>\n",
       "      <td>NaN</td>\n",
       "      <td>POINT (-86.74000 36.19000)</td>\n",
       "      <td>37</td>\n",
       "      <td>011700</td>\n",
       "      <td>117</td>\n",
       "    </tr>\n",
       "    <tr>\n",
       "      <th>434</th>\n",
       "      <td>2021-01-14</td>\n",
       "      <td>BURGLARY- AGGRAVATED</td>\n",
       "      <td>36.18</td>\n",
       "      <td>-86.75</td>\n",
       "      <td>NaN</td>\n",
       "      <td>POINT (-86.75000 36.18000)</td>\n",
       "      <td>37</td>\n",
       "      <td>011900</td>\n",
       "      <td>119</td>\n",
       "    </tr>\n",
       "  </tbody>\n",
       "</table>\n",
       "</div>"
      ],
      "text/plain": [
       "      incident_reported   offense_description  latitude  longitude zip_code  \\\n",
       "199          2021-01-13  BURGLARY- AGGRAVATED     36.06     -86.95      NaN   \n",
       "14375        2021-03-05  BURGLARY- AGGRAVATED     36.07     -86.99      NaN   \n",
       "310          2021-01-14  BURGLARY- AGGRAVATED     36.19     -86.75      NaN   \n",
       "2779         2021-01-22  BURGLARY- AGGRAVATED     36.19     -86.74      NaN   \n",
       "434          2021-01-14  BURGLARY- AGGRAVATED     36.18     -86.75      NaN   \n",
       "\n",
       "                         geometry  COUNTYFP   tract    NAME  \n",
       "199    POINT (-86.95000 36.06000)        37  018407  184.07  \n",
       "14375  POINT (-86.99000 36.07000)        37  018407  184.07  \n",
       "310    POINT (-86.75000 36.19000)        37  011700     117  \n",
       "2779   POINT (-86.74000 36.19000)        37  011700     117  \n",
       "434    POINT (-86.75000 36.18000)        37  011900     119  "
      ]
     },
     "execution_count": 172,
     "metadata": {},
     "output_type": "execute_result"
    }
   ],
   "source": [
    "burglary_by_tract.drop_duplicates(subset='geometry', inplace=True)\n",
    "burglary_by_tract = burglary_by_tract.drop(columns='index_right')\n",
    "burglary_by_tract = burglary_by_tract.rename(columns={'TRACTCE':'tract'})\n",
    "burglary_by_tract.head()"
   ]
  },
  {
   "cell_type": "markdown",
   "id": "46d3bf77",
   "metadata": {},
   "source": [
    "### Creates polygon objects of tracts of only Davidson county"
   ]
  },
  {
   "cell_type": "code",
   "execution_count": 173,
   "id": "ce8c0af8",
   "metadata": {},
   "outputs": [
    {
     "data": {
      "text/html": [
       "<div>\n",
       "<style scoped>\n",
       "    .dataframe tbody tr th:only-of-type {\n",
       "        vertical-align: middle;\n",
       "    }\n",
       "\n",
       "    .dataframe tbody tr th {\n",
       "        vertical-align: top;\n",
       "    }\n",
       "\n",
       "    .dataframe thead th {\n",
       "        text-align: right;\n",
       "    }\n",
       "</style>\n",
       "<table border=\"1\" class=\"dataframe\">\n",
       "  <thead>\n",
       "    <tr style=\"text-align: right;\">\n",
       "      <th></th>\n",
       "      <th>COUNTYFP</th>\n",
       "      <th>TRACTCE</th>\n",
       "      <th>NAME</th>\n",
       "      <th>geometry</th>\n",
       "    </tr>\n",
       "  </thead>\n",
       "  <tbody>\n",
       "    <tr>\n",
       "      <th>0</th>\n",
       "      <td>37</td>\n",
       "      <td>010106</td>\n",
       "      <td>101.06</td>\n",
       "      <td>POLYGON ((-86.83089 36.26570, -86.83016 36.265...</td>\n",
       "    </tr>\n",
       "    <tr>\n",
       "      <th>2</th>\n",
       "      <td>37</td>\n",
       "      <td>010104</td>\n",
       "      <td>101.04</td>\n",
       "      <td>POLYGON ((-86.97440 36.24991, -86.97244 36.252...</td>\n",
       "    </tr>\n",
       "    <tr>\n",
       "      <th>6</th>\n",
       "      <td>37</td>\n",
       "      <td>013300</td>\n",
       "      <td>133</td>\n",
       "      <td>POLYGON ((-86.86843 36.16436, -86.86836 36.164...</td>\n",
       "    </tr>\n",
       "    <tr>\n",
       "      <th>10</th>\n",
       "      <td>37</td>\n",
       "      <td>018102</td>\n",
       "      <td>181.02</td>\n",
       "      <td>POLYGON ((-86.88737 36.11771, -86.88733 36.117...</td>\n",
       "    </tr>\n",
       "    <tr>\n",
       "      <th>12</th>\n",
       "      <td>37</td>\n",
       "      <td>010602</td>\n",
       "      <td>106.02</td>\n",
       "      <td>POLYGON ((-86.69530 36.25263, -86.69513 36.253...</td>\n",
       "    </tr>\n",
       "    <tr>\n",
       "      <th>...</th>\n",
       "      <td>...</td>\n",
       "      <td>...</td>\n",
       "      <td>...</td>\n",
       "      <td>...</td>\n",
       "    </tr>\n",
       "    <tr>\n",
       "      <th>397</th>\n",
       "      <td>37</td>\n",
       "      <td>018904</td>\n",
       "      <td>189.04</td>\n",
       "      <td>POLYGON ((-86.73805 36.06626, -86.73780 36.066...</td>\n",
       "    </tr>\n",
       "    <tr>\n",
       "      <th>399</th>\n",
       "      <td>37</td>\n",
       "      <td>018905</td>\n",
       "      <td>189.05</td>\n",
       "      <td>POLYGON ((-86.74457 36.05547, -86.74447 36.055...</td>\n",
       "    </tr>\n",
       "    <tr>\n",
       "      <th>400</th>\n",
       "      <td>37</td>\n",
       "      <td>013601</td>\n",
       "      <td>136.01</td>\n",
       "      <td>POLYGON ((-86.84383 36.16325, -86.84375 36.163...</td>\n",
       "    </tr>\n",
       "    <tr>\n",
       "      <th>404</th>\n",
       "      <td>37</td>\n",
       "      <td>018301</td>\n",
       "      <td>183.01</td>\n",
       "      <td>POLYGON ((-87.03820 36.09382, -87.03819 36.093...</td>\n",
       "    </tr>\n",
       "    <tr>\n",
       "      <th>411</th>\n",
       "      <td>37</td>\n",
       "      <td>015631</td>\n",
       "      <td>156.31</td>\n",
       "      <td>MULTIPOLYGON (((-86.52329 36.13815, -86.52315 ...</td>\n",
       "    </tr>\n",
       "  </tbody>\n",
       "</table>\n",
       "<p>146 rows × 4 columns</p>\n",
       "</div>"
      ],
      "text/plain": [
       "     COUNTYFP TRACTCE    NAME  \\\n",
       "0          37  010106  101.06   \n",
       "2          37  010104  101.04   \n",
       "6          37  013300     133   \n",
       "10         37  018102  181.02   \n",
       "12         37  010602  106.02   \n",
       "..        ...     ...     ...   \n",
       "397        37  018904  189.04   \n",
       "399        37  018905  189.05   \n",
       "400        37  013601  136.01   \n",
       "404        37  018301  183.01   \n",
       "411        37  015631  156.31   \n",
       "\n",
       "                                              geometry  \n",
       "0    POLYGON ((-86.83089 36.26570, -86.83016 36.265...  \n",
       "2    POLYGON ((-86.97440 36.24991, -86.97244 36.252...  \n",
       "6    POLYGON ((-86.86843 36.16436, -86.86836 36.164...  \n",
       "10   POLYGON ((-86.88737 36.11771, -86.88733 36.117...  \n",
       "12   POLYGON ((-86.69530 36.25263, -86.69513 36.253...  \n",
       "..                                                 ...  \n",
       "397  POLYGON ((-86.73805 36.06626, -86.73780 36.066...  \n",
       "399  POLYGON ((-86.74457 36.05547, -86.74447 36.055...  \n",
       "400  POLYGON ((-86.84383 36.16325, -86.84375 36.163...  \n",
       "404  POLYGON ((-87.03820 36.09382, -87.03819 36.093...  \n",
       "411  MULTIPOLYGON (((-86.52329 36.13815, -86.52315 ...  \n",
       "\n",
       "[146 rows x 4 columns]"
      ]
     },
     "execution_count": 173,
     "metadata": {},
     "output_type": "execute_result"
    }
   ],
   "source": [
    "census_tract_names = burglary_by_tract['NAME']\n",
    "census_tract_names = pd.DataFrame(census_tract_names)\n",
    "polygon_nash = pd.merge(census_tract, census_tract_names, on = 'NAME')\n",
    "polygon_nash.drop_duplicates(subset='NAME')"
   ]
  },
  {
   "cell_type": "code",
   "execution_count": 174,
   "id": "8b1bfb91",
   "metadata": {
    "scrolled": false
   },
   "outputs": [
    {
     "data": {
      "image/png": "[encoded data removed]",
      "text/plain": [
       "<Figure size 576x720 with 1 Axes>"
      ]
     },
     "metadata": {
      "needs_background": "light"
     },
     "output_type": "display_data"
    }
   ],
   "source": [
    "ax = polygon_nash.plot(column='TRACTCE', figsize = (8, 10), cmap='terrain')\n",
    "burglary_by_tract.plot(ax = ax, column = 'offense_description')\n",
    "plt.show();"
   ]
  },
  {
   "cell_type": "markdown",
   "id": "a7afd56a",
   "metadata": {},
   "source": [
    "### Imports Census data"
   ]
  },
  {
   "cell_type": "code",
   "execution_count": 175,
   "id": "6ffb1d58",
   "metadata": {},
   "outputs": [],
   "source": [
    "with open('data/data_census.json') as fi:\n",
    "    credentials = json.load(fi)\n",
    "       \n",
    "api_key = credentials['api_key']\n"
   ]
  },
  {
   "cell_type": "code",
   "execution_count": 176,
   "id": "80d00ffa",
   "metadata": {},
   "outputs": [],
   "source": [
    "endpoint_pop = \"https://api.census.gov/data/2019/acs/acs5\"\n",
    "params_pop = {\n",
    "       'get' : 'NAME,B01001_001E',\n",
    "       'for' : 'tract:*',\n",
    "       'in'  : ['state:47', 'county:037'],\n",
    "       'key' : api_key\n",
    "}\n",
    "\n",
    "endpoint_income = \"https://api.census.gov/data/2019/acs/acs5/subject\"\n",
    "params_income = {\n",
    "       'get' : 'NAME,S1901_C01_012E',\n",
    "       'for' : 'tract:*',\n",
    "       'in'  : ['state:47', 'county:037'],\n",
    "       'key' : api_key\n",
    "}\n"
   ]
  },
  {
   "cell_type": "code",
   "execution_count": 177,
   "id": "01a738c3",
   "metadata": {},
   "outputs": [],
   "source": [
    "response_pop = requests.get(endpoint_pop, params=params_pop)\n",
    "\n",
    "response_income = requests.get(endpoint_income, params=params_income)"
   ]
  },
  {
   "cell_type": "code",
   "execution_count": 178,
   "id": "c3326d03",
   "metadata": {
    "scrolled": false
   },
   "outputs": [
    {
     "data": {
      "text/html": [
       "<div>\n",
       "<style scoped>\n",
       "    .dataframe tbody tr th:only-of-type {\n",
       "        vertical-align: middle;\n",
       "    }\n",
       "\n",
       "    .dataframe tbody tr th {\n",
       "        vertical-align: top;\n",
       "    }\n",
       "\n",
       "    .dataframe thead th {\n",
       "        text-align: right;\n",
       "    }\n",
       "</style>\n",
       "<table border=\"1\" class=\"dataframe\">\n",
       "  <thead>\n",
       "    <tr style=\"text-align: right;\">\n",
       "      <th></th>\n",
       "      <th>NAME</th>\n",
       "      <th>B01001_001E</th>\n",
       "      <th>state</th>\n",
       "      <th>county</th>\n",
       "      <th>tract</th>\n",
       "    </tr>\n",
       "  </thead>\n",
       "  <tbody>\n",
       "    <tr>\n",
       "      <th>1</th>\n",
       "      <td>Census Tract 156.31, Davidson County, Tennessee</td>\n",
       "      <td>12176</td>\n",
       "      <td>47</td>\n",
       "      <td>037</td>\n",
       "      <td>015631</td>\n",
       "    </tr>\n",
       "    <tr>\n",
       "      <th>2</th>\n",
       "      <td>Census Tract 158.04, Davidson County, Tennessee</td>\n",
       "      <td>4098</td>\n",
       "      <td>47</td>\n",
       "      <td>037</td>\n",
       "      <td>015804</td>\n",
       "    </tr>\n",
       "    <tr>\n",
       "      <th>3</th>\n",
       "      <td>Census Tract 177.01, Davidson County, Tennessee</td>\n",
       "      <td>2466</td>\n",
       "      <td>47</td>\n",
       "      <td>037</td>\n",
       "      <td>017701</td>\n",
       "    </tr>\n",
       "    <tr>\n",
       "      <th>4</th>\n",
       "      <td>Census Tract 177.02, Davidson County, Tennessee</td>\n",
       "      <td>5210</td>\n",
       "      <td>47</td>\n",
       "      <td>037</td>\n",
       "      <td>017702</td>\n",
       "    </tr>\n",
       "    <tr>\n",
       "      <th>5</th>\n",
       "      <td>Census Tract 183.01, Davidson County, Tennessee</td>\n",
       "      <td>8254</td>\n",
       "      <td>47</td>\n",
       "      <td>037</td>\n",
       "      <td>018301</td>\n",
       "    </tr>\n",
       "  </tbody>\n",
       "</table>\n",
       "</div>"
      ],
      "text/plain": [
       "0                                             NAME B01001_001E state county  \\\n",
       "1  Census Tract 156.31, Davidson County, Tennessee       12176    47    037   \n",
       "2  Census Tract 158.04, Davidson County, Tennessee        4098    47    037   \n",
       "3  Census Tract 177.01, Davidson County, Tennessee        2466    47    037   \n",
       "4  Census Tract 177.02, Davidson County, Tennessee        5210    47    037   \n",
       "5  Census Tract 183.01, Davidson County, Tennessee        8254    47    037   \n",
       "\n",
       "0   tract  \n",
       "1  015631  \n",
       "2  015804  \n",
       "3  017701  \n",
       "4  017702  \n",
       "5  018301  "
      ]
     },
     "metadata": {},
     "output_type": "display_data"
    },
    {
     "data": {
      "text/html": [
       "<div>\n",
       "<style scoped>\n",
       "    .dataframe tbody tr th:only-of-type {\n",
       "        vertical-align: middle;\n",
       "    }\n",
       "\n",
       "    .dataframe tbody tr th {\n",
       "        vertical-align: top;\n",
       "    }\n",
       "\n",
       "    .dataframe thead th {\n",
       "        text-align: right;\n",
       "    }\n",
       "</style>\n",
       "<table border=\"1\" class=\"dataframe\">\n",
       "  <thead>\n",
       "    <tr style=\"text-align: right;\">\n",
       "      <th></th>\n",
       "      <th>NAME</th>\n",
       "      <th>S1901_C01_012E</th>\n",
       "      <th>state</th>\n",
       "      <th>county</th>\n",
       "      <th>tract</th>\n",
       "    </tr>\n",
       "  </thead>\n",
       "  <tbody>\n",
       "    <tr>\n",
       "      <th>1</th>\n",
       "      <td>Census Tract 156.31, Davidson County, Tennessee</td>\n",
       "      <td>75579</td>\n",
       "      <td>47</td>\n",
       "      <td>037</td>\n",
       "      <td>015631</td>\n",
       "    </tr>\n",
       "    <tr>\n",
       "      <th>2</th>\n",
       "      <td>Census Tract 158.04, Davidson County, Tennessee</td>\n",
       "      <td>45129</td>\n",
       "      <td>47</td>\n",
       "      <td>037</td>\n",
       "      <td>015804</td>\n",
       "    </tr>\n",
       "    <tr>\n",
       "      <th>3</th>\n",
       "      <td>Census Tract 177.01, Davidson County, Tennessee</td>\n",
       "      <td>134786</td>\n",
       "      <td>47</td>\n",
       "      <td>037</td>\n",
       "      <td>017701</td>\n",
       "    </tr>\n",
       "    <tr>\n",
       "      <th>4</th>\n",
       "      <td>Census Tract 177.02, Davidson County, Tennessee</td>\n",
       "      <td>107813</td>\n",
       "      <td>47</td>\n",
       "      <td>037</td>\n",
       "      <td>017702</td>\n",
       "    </tr>\n",
       "    <tr>\n",
       "      <th>5</th>\n",
       "      <td>Census Tract 183.01, Davidson County, Tennessee</td>\n",
       "      <td>87591</td>\n",
       "      <td>47</td>\n",
       "      <td>037</td>\n",
       "      <td>018301</td>\n",
       "    </tr>\n",
       "  </tbody>\n",
       "</table>\n",
       "</div>"
      ],
      "text/plain": [
       "0                                             NAME S1901_C01_012E state  \\\n",
       "1  Census Tract 156.31, Davidson County, Tennessee          75579    47   \n",
       "2  Census Tract 158.04, Davidson County, Tennessee          45129    47   \n",
       "3  Census Tract 177.01, Davidson County, Tennessee         134786    47   \n",
       "4  Census Tract 177.02, Davidson County, Tennessee         107813    47   \n",
       "5  Census Tract 183.01, Davidson County, Tennessee          87591    47   \n",
       "\n",
       "0 county   tract  \n",
       "1    037  015631  \n",
       "2    037  015804  \n",
       "3    037  017701  \n",
       "4    037  017702  \n",
       "5    037  018301  "
      ]
     },
     "metadata": {},
     "output_type": "display_data"
    }
   ],
   "source": [
    "res_pop = response_pop.json()\n",
    "population = pd.DataFrame(res_pop)\n",
    "#changes column names\n",
    "population.columns = population.iloc[0]\n",
    "population = population[1:]\n",
    "display(population.head())\n",
    "\n",
    "res_income = response_income.json()\n",
    "med_income = pd.DataFrame(res_income) \n",
    "#changes colum names \n",
    "med_income.columns = med_income.iloc[0]\n",
    "med_income = med_income[1:]\n",
    "display(med_income.head())"
   ]
  },
  {
   "cell_type": "markdown",
   "id": "6d433dbb",
   "metadata": {},
   "source": [
    "### Merges census data together and renames columns"
   ]
  },
  {
   "cell_type": "code",
   "execution_count": 179,
   "id": "cbe38998",
   "metadata": {},
   "outputs": [
    {
     "data": {
      "text/html": [
       "<div>\n",
       "<style scoped>\n",
       "    .dataframe tbody tr th:only-of-type {\n",
       "        vertical-align: middle;\n",
       "    }\n",
       "\n",
       "    .dataframe tbody tr th {\n",
       "        vertical-align: top;\n",
       "    }\n",
       "\n",
       "    .dataframe thead th {\n",
       "        text-align: right;\n",
       "    }\n",
       "</style>\n",
       "<table border=\"1\" class=\"dataframe\">\n",
       "  <thead>\n",
       "    <tr style=\"text-align: right;\">\n",
       "      <th></th>\n",
       "      <th>NAME</th>\n",
       "      <th>population</th>\n",
       "      <th>state</th>\n",
       "      <th>county</th>\n",
       "      <th>tract</th>\n",
       "      <th>median_income</th>\n",
       "    </tr>\n",
       "  </thead>\n",
       "  <tbody>\n",
       "    <tr>\n",
       "      <th>0</th>\n",
       "      <td>Census Tract 156.31, Davidson County, Tennessee</td>\n",
       "      <td>12176</td>\n",
       "      <td>47</td>\n",
       "      <td>037</td>\n",
       "      <td>015631</td>\n",
       "      <td>75579</td>\n",
       "    </tr>\n",
       "    <tr>\n",
       "      <th>1</th>\n",
       "      <td>Census Tract 158.04, Davidson County, Tennessee</td>\n",
       "      <td>4098</td>\n",
       "      <td>47</td>\n",
       "      <td>037</td>\n",
       "      <td>015804</td>\n",
       "      <td>45129</td>\n",
       "    </tr>\n",
       "    <tr>\n",
       "      <th>2</th>\n",
       "      <td>Census Tract 177.01, Davidson County, Tennessee</td>\n",
       "      <td>2466</td>\n",
       "      <td>47</td>\n",
       "      <td>037</td>\n",
       "      <td>017701</td>\n",
       "      <td>134786</td>\n",
       "    </tr>\n",
       "    <tr>\n",
       "      <th>3</th>\n",
       "      <td>Census Tract 177.02, Davidson County, Tennessee</td>\n",
       "      <td>5210</td>\n",
       "      <td>47</td>\n",
       "      <td>037</td>\n",
       "      <td>017702</td>\n",
       "      <td>107813</td>\n",
       "    </tr>\n",
       "    <tr>\n",
       "      <th>4</th>\n",
       "      <td>Census Tract 183.01, Davidson County, Tennessee</td>\n",
       "      <td>8254</td>\n",
       "      <td>47</td>\n",
       "      <td>037</td>\n",
       "      <td>018301</td>\n",
       "      <td>87591</td>\n",
       "    </tr>\n",
       "  </tbody>\n",
       "</table>\n",
       "</div>"
      ],
      "text/plain": [
       "0                                             NAME population state county  \\\n",
       "0  Census Tract 156.31, Davidson County, Tennessee      12176    47    037   \n",
       "1  Census Tract 158.04, Davidson County, Tennessee       4098    47    037   \n",
       "2  Census Tract 177.01, Davidson County, Tennessee       2466    47    037   \n",
       "3  Census Tract 177.02, Davidson County, Tennessee       5210    47    037   \n",
       "4  Census Tract 183.01, Davidson County, Tennessee       8254    47    037   \n",
       "\n",
       "0   tract median_income  \n",
       "0  015631         75579  \n",
       "1  015804         45129  \n",
       "2  017701        134786  \n",
       "3  017702        107813  \n",
       "4  018301         87591  "
      ]
     },
     "execution_count": 179,
     "metadata": {},
     "output_type": "execute_result"
    }
   ],
   "source": [
    "pop_and_income = pd.merge(population, med_income, how='inner')\n",
    "pop_and_income = pop_and_income.rename(columns={'B01001_001E': 'population',\n",
    "                                               'S1901_C01_012E':'median_income'})\n",
    "pop_and_income.head()"
   ]
  },
  {
   "cell_type": "code",
   "execution_count": 243,
   "id": "37b89a90",
   "metadata": {},
   "outputs": [
    {
     "data": {
      "text/html": [
       "<div>\n",
       "<style scoped>\n",
       "    .dataframe tbody tr th:only-of-type {\n",
       "        vertical-align: middle;\n",
       "    }\n",
       "\n",
       "    .dataframe tbody tr th {\n",
       "        vertical-align: top;\n",
       "    }\n",
       "\n",
       "    .dataframe thead th {\n",
       "        text-align: right;\n",
       "    }\n",
       "</style>\n",
       "<table border=\"1\" class=\"dataframe\">\n",
       "  <thead>\n",
       "    <tr style=\"text-align: right;\">\n",
       "      <th></th>\n",
       "      <th>incident_reported</th>\n",
       "      <th>offense_description</th>\n",
       "      <th>geometry</th>\n",
       "      <th>COUNTYFP</th>\n",
       "      <th>tract</th>\n",
       "      <th>population</th>\n",
       "      <th>state</th>\n",
       "      <th>county</th>\n",
       "      <th>median_income</th>\n",
       "    </tr>\n",
       "  </thead>\n",
       "  <tbody>\n",
       "    <tr>\n",
       "      <th>0</th>\n",
       "      <td>2021-01-13</td>\n",
       "      <td>BURGLARY- AGGRAVATED</td>\n",
       "      <td>POINT (-86.95000 36.06000)</td>\n",
       "      <td>37</td>\n",
       "      <td>018407</td>\n",
       "      <td>5001</td>\n",
       "      <td>47</td>\n",
       "      <td>037</td>\n",
       "      <td>105917</td>\n",
       "    </tr>\n",
       "    <tr>\n",
       "      <th>1</th>\n",
       "      <td>2021-03-05</td>\n",
       "      <td>BURGLARY- AGGRAVATED</td>\n",
       "      <td>POINT (-86.99000 36.07000)</td>\n",
       "      <td>37</td>\n",
       "      <td>018407</td>\n",
       "      <td>5001</td>\n",
       "      <td>47</td>\n",
       "      <td>037</td>\n",
       "      <td>105917</td>\n",
       "    </tr>\n",
       "    <tr>\n",
       "      <th>2</th>\n",
       "      <td>2021-01-14</td>\n",
       "      <td>BURGLARY- AGGRAVATED</td>\n",
       "      <td>POINT (-86.75000 36.19000)</td>\n",
       "      <td>37</td>\n",
       "      <td>011700</td>\n",
       "      <td>5971</td>\n",
       "      <td>47</td>\n",
       "      <td>037</td>\n",
       "      <td>68889</td>\n",
       "    </tr>\n",
       "    <tr>\n",
       "      <th>3</th>\n",
       "      <td>2021-01-22</td>\n",
       "      <td>BURGLARY- AGGRAVATED</td>\n",
       "      <td>POINT (-86.74000 36.19000)</td>\n",
       "      <td>37</td>\n",
       "      <td>011700</td>\n",
       "      <td>5971</td>\n",
       "      <td>47</td>\n",
       "      <td>037</td>\n",
       "      <td>68889</td>\n",
       "    </tr>\n",
       "    <tr>\n",
       "      <th>4</th>\n",
       "      <td>2021-01-14</td>\n",
       "      <td>BURGLARY- AGGRAVATED</td>\n",
       "      <td>POINT (-86.75000 36.18000)</td>\n",
       "      <td>37</td>\n",
       "      <td>011900</td>\n",
       "      <td>2530</td>\n",
       "      <td>47</td>\n",
       "      <td>037</td>\n",
       "      <td>51168</td>\n",
       "    </tr>\n",
       "  </tbody>\n",
       "</table>\n",
       "</div>"
      ],
      "text/plain": [
       "  incident_reported   offense_description                    geometry  \\\n",
       "0        2021-01-13  BURGLARY- AGGRAVATED  POINT (-86.95000 36.06000)   \n",
       "1        2021-03-05  BURGLARY- AGGRAVATED  POINT (-86.99000 36.07000)   \n",
       "2        2021-01-14  BURGLARY- AGGRAVATED  POINT (-86.75000 36.19000)   \n",
       "3        2021-01-22  BURGLARY- AGGRAVATED  POINT (-86.74000 36.19000)   \n",
       "4        2021-01-14  BURGLARY- AGGRAVATED  POINT (-86.75000 36.18000)   \n",
       "\n",
       "   COUNTYFP   tract population state county median_income  \n",
       "0        37  018407       5001    47    037        105917  \n",
       "1        37  018407       5001    47    037        105917  \n",
       "2        37  011700       5971    47    037         68889  \n",
       "3        37  011700       5971    47    037         68889  \n",
       "4        37  011900       2530    47    037         51168  "
      ]
     },
     "execution_count": 243,
     "metadata": {},
     "output_type": "execute_result"
    }
   ],
   "source": [
    "burglaries_and_var = pd.merge(burglary_by_tract, pop_and_income, on='tract')\n",
    "burglaries_and_var = burglaries_and_var.drop(columns=['latitude', 'longitude', 'zip_code','NAME_x','NAME_y'])\n",
    "burglaries_and_var.head()"
   ]
  },
  {
   "cell_type": "code",
   "execution_count": 244,
   "id": "6675d9b6",
   "metadata": {},
   "outputs": [
    {
     "data": {
      "text/html": [
       "<div>\n",
       "<style scoped>\n",
       "    .dataframe tbody tr th:only-of-type {\n",
       "        vertical-align: middle;\n",
       "    }\n",
       "\n",
       "    .dataframe tbody tr th {\n",
       "        vertical-align: top;\n",
       "    }\n",
       "\n",
       "    .dataframe thead th {\n",
       "        text-align: right;\n",
       "    }\n",
       "</style>\n",
       "<table border=\"1\" class=\"dataframe\">\n",
       "  <thead>\n",
       "    <tr style=\"text-align: right;\">\n",
       "      <th></th>\n",
       "      <th>tract</th>\n",
       "      <th>population</th>\n",
       "      <th>median_income</th>\n",
       "      <th>burglary_count</th>\n",
       "    </tr>\n",
       "  </thead>\n",
       "  <tbody>\n",
       "    <tr>\n",
       "      <th>0</th>\n",
       "      <td>010104</td>\n",
       "      <td>2955</td>\n",
       "      <td>64844</td>\n",
       "      <td>4</td>\n",
       "    </tr>\n",
       "    <tr>\n",
       "      <th>1</th>\n",
       "      <td>010105</td>\n",
       "      <td>4435</td>\n",
       "      <td>64688</td>\n",
       "      <td>3</td>\n",
       "    </tr>\n",
       "    <tr>\n",
       "      <th>2</th>\n",
       "      <td>010106</td>\n",
       "      <td>3397</td>\n",
       "      <td>63864</td>\n",
       "      <td>2</td>\n",
       "    </tr>\n",
       "    <tr>\n",
       "      <th>3</th>\n",
       "      <td>010201</td>\n",
       "      <td>4157</td>\n",
       "      <td>62829</td>\n",
       "      <td>3</td>\n",
       "    </tr>\n",
       "    <tr>\n",
       "      <th>4</th>\n",
       "      <td>010301</td>\n",
       "      <td>3395</td>\n",
       "      <td>51918</td>\n",
       "      <td>1</td>\n",
       "    </tr>\n",
       "  </tbody>\n",
       "</table>\n",
       "</div>"
      ],
      "text/plain": [
       "    tract  population  median_income  burglary_count\n",
       "0  010104        2955          64844               4\n",
       "1  010105        4435          64688               3\n",
       "2  010106        3397          63864               2\n",
       "3  010201        4157          62829               3\n",
       "4  010301        3395          51918               1"
      ]
     },
     "execution_count": 244,
     "metadata": {},
     "output_type": "execute_result"
    }
   ],
   "source": [
    "#tract_counts = pd.DataFrame(burglaries_and_var['tract'].value_counts())\n",
    "tract_counts = pd.DataFrame(burglaries_and_var['tract'].value_counts())\n",
    "tract_counts = tract_counts.rename(columns={'tract':'burglary_count'})\n",
    "\n",
    "pop_income = pd.DataFrame(burglaries_and_var[['tract', 'population', 'median_income']])\n",
    "pop_income = pop_income.set_index('tract')\n",
    "\n",
    "tract_pop_income = pd.merge(pop_income, tract_counts, left_index=True, right_index=True)\n",
    "tract_pop_income = tract_pop_income.drop_duplicates(keep='first')\n",
    "\n",
    "tract_pop_income.reset_index(level=0, inplace=True)\n",
    "tract_pop_income = tract_pop_income.rename(columns={'index': 'tract'})\n",
    "\n",
    "tract_pop_income[['population', 'median_income']] = tract_pop_income[['population', 'median_income']].apply(pd.to_numeric)\n",
    "tract_pop_income = tract_pop_income[tract_pop_income['population'] >= 0]\n",
    "tract_pop_income = tract_pop_income[tract_pop_income['median_income'] >= 0]\n",
    "\n",
    "tract_pop_income.head()"
   ]
  },
  {
   "cell_type": "code",
   "execution_count": 250,
   "id": "593dc54b",
   "metadata": {
    "scrolled": true
   },
   "outputs": [
    {
     "data": {
      "text/html": [
       "<div>\n",
       "<style scoped>\n",
       "    .dataframe tbody tr th:only-of-type {\n",
       "        vertical-align: middle;\n",
       "    }\n",
       "\n",
       "    .dataframe tbody tr th {\n",
       "        vertical-align: top;\n",
       "    }\n",
       "\n",
       "    .dataframe thead th {\n",
       "        text-align: right;\n",
       "    }\n",
       "</style>\n",
       "<table border=\"1\" class=\"dataframe\">\n",
       "  <thead>\n",
       "    <tr style=\"text-align: right;\">\n",
       "      <th></th>\n",
       "      <th>tract</th>\n",
       "      <th>population</th>\n",
       "      <th>median_income</th>\n",
       "      <th>burglary_count</th>\n",
       "      <th>burg_per_1000</th>\n",
       "      <th>log_population</th>\n",
       "    </tr>\n",
       "  </thead>\n",
       "  <tbody>\n",
       "    <tr>\n",
       "      <th>0</th>\n",
       "      <td>010104</td>\n",
       "      <td>2955</td>\n",
       "      <td>64844</td>\n",
       "      <td>4</td>\n",
       "      <td>1.353638</td>\n",
       "      <td>7.991254</td>\n",
       "    </tr>\n",
       "    <tr>\n",
       "      <th>1</th>\n",
       "      <td>010105</td>\n",
       "      <td>4435</td>\n",
       "      <td>64688</td>\n",
       "      <td>3</td>\n",
       "      <td>0.676437</td>\n",
       "      <td>8.397283</td>\n",
       "    </tr>\n",
       "    <tr>\n",
       "      <th>2</th>\n",
       "      <td>010106</td>\n",
       "      <td>3397</td>\n",
       "      <td>63864</td>\n",
       "      <td>2</td>\n",
       "      <td>0.588755</td>\n",
       "      <td>8.130648</td>\n",
       "    </tr>\n",
       "    <tr>\n",
       "      <th>3</th>\n",
       "      <td>010201</td>\n",
       "      <td>4157</td>\n",
       "      <td>62829</td>\n",
       "      <td>3</td>\n",
       "      <td>0.721674</td>\n",
       "      <td>8.332549</td>\n",
       "    </tr>\n",
       "    <tr>\n",
       "      <th>4</th>\n",
       "      <td>010301</td>\n",
       "      <td>3395</td>\n",
       "      <td>51918</td>\n",
       "      <td>1</td>\n",
       "      <td>0.294551</td>\n",
       "      <td>8.130059</td>\n",
       "    </tr>\n",
       "  </tbody>\n",
       "</table>\n",
       "</div>"
      ],
      "text/plain": [
       "    tract  population  median_income  burglary_count  burg_per_1000  \\\n",
       "0  010104        2955          64844               4       1.353638   \n",
       "1  010105        4435          64688               3       0.676437   \n",
       "2  010106        3397          63864               2       0.588755   \n",
       "3  010201        4157          62829               3       0.721674   \n",
       "4  010301        3395          51918               1       0.294551   \n",
       "\n",
       "   log_population  \n",
       "0        7.991254  \n",
       "1        8.397283  \n",
       "2        8.130648  \n",
       "3        8.332549  \n",
       "4        8.130059  "
      ]
     },
     "execution_count": 250,
     "metadata": {},
     "output_type": "execute_result"
    }
   ],
   "source": [
    "tract_pop_income['burg_per_1000'] = ((tract_pop_income['burglary_count'] / tract_pop_income['population']) * 1000)\n",
    "tract_pop_income['log_population'] = np.log(tract_pop_income['population'])\n",
    "tract_pop_income.head()"
   ]
  },
  {
   "cell_type": "code",
   "execution_count": 262,
   "id": "a730a8c0",
   "metadata": {},
   "outputs": [
    {
     "data": {
      "text/html": [
       "<table class=\"simpletable\">\n",
       "<caption>Generalized Linear Model Regression Results</caption>\n",
       "<tr>\n",
       "  <th>Dep. Variable:</th>    <td>burglary_count</td>  <th>  No. Observations:  </th>  <td>   144</td> \n",
       "</tr>\n",
       "<tr>\n",
       "  <th>Model:</th>                  <td>GLM</td>       <th>  Df Residuals:      </th>  <td>   143</td> \n",
       "</tr>\n",
       "<tr>\n",
       "  <th>Model Family:</th>         <td>Poisson</td>     <th>  Df Model:          </th>  <td>     0</td> \n",
       "</tr>\n",
       "<tr>\n",
       "  <th>Link Function:</th>          <td>log</td>       <th>  Scale:             </th> <td>  1.0000</td>\n",
       "</tr>\n",
       "<tr>\n",
       "  <th>Method:</th>                <td>IRLS</td>       <th>  Log-Likelihood:    </th> <td> -267.34</td>\n",
       "</tr>\n",
       "<tr>\n",
       "  <th>Date:</th>            <td>Sun, 10 Oct 2021</td> <th>  Deviance:          </th> <td>  129.67</td>\n",
       "</tr>\n",
       "<tr>\n",
       "  <th>Time:</th>                <td>14:07:47</td>     <th>  Pearson chi2:      </th>  <td>  141.</td> \n",
       "</tr>\n",
       "<tr>\n",
       "  <th>No. Iterations:</th>          <td>5</td>        <th>  Pseudo R-squ. (CS):</th>  <td> 0.000</td> \n",
       "</tr>\n",
       "<tr>\n",
       "  <th>Covariance Type:</th>     <td>nonrobust</td>    <th>                     </th>     <td> </td>   \n",
       "</tr>\n",
       "</table>\n",
       "<table class=\"simpletable\">\n",
       "<tr>\n",
       "    <td></td>       <th>coef</th>     <th>std err</th>      <th>z</th>      <th>P>|z|</th>  <th>[0.025</th>    <th>0.975]</th>  \n",
       "</tr>\n",
       "<tr>\n",
       "  <th>const</th> <td>   -7.3496</td> <td>    0.049</td> <td> -149.361</td> <td> 0.000</td> <td>   -7.446</td> <td>   -7.253</td>\n",
       "</tr>\n",
       "</table>"
      ],
      "text/plain": [
       "<class 'statsmodels.iolib.summary.Summary'>\n",
       "\"\"\"\n",
       "                 Generalized Linear Model Regression Results                  \n",
       "==============================================================================\n",
       "Dep. Variable:         burglary_count   No. Observations:                  144\n",
       "Model:                            GLM   Df Residuals:                      143\n",
       "Model Family:                 Poisson   Df Model:                            0\n",
       "Link Function:                    log   Scale:                          1.0000\n",
       "Method:                          IRLS   Log-Likelihood:                -267.34\n",
       "Date:                Sun, 10 Oct 2021   Deviance:                       129.67\n",
       "Time:                        14:07:47   Pearson chi2:                     141.\n",
       "No. Iterations:                     5   Pseudo R-squ. (CS):              0.000\n",
       "Covariance Type:            nonrobust                                         \n",
       "==============================================================================\n",
       "                 coef    std err          z      P>|z|      [0.025      0.975]\n",
       "------------------------------------------------------------------------------\n",
       "const         -7.3496      0.049   -149.361      0.000      -7.446      -7.253\n",
       "==============================================================================\n",
       "\"\"\""
      ]
     },
     "execution_count": 262,
     "metadata": {},
     "output_type": "execute_result"
    }
   ],
   "source": [
    "burg_base_pois =  (sm.GLM(endog = tract_pop_income['burglary_count'],\n",
    "                              exog = sm.add_constant(tract_pop_income[[]]),\n",
    "                              family = sm.families.Poisson(),\n",
    "                              offset = tract_pop_income['log_population'])\n",
    "                       .fit()\n",
    " )\n",
    "burg_base_pois.summary()\n"
   ]
  },
  {
   "cell_type": "code",
   "execution_count": 263,
   "id": "057bb9e6",
   "metadata": {},
   "outputs": [
    {
     "data": {
      "text/html": [
       "<table class=\"simpletable\">\n",
       "<caption>Generalized Linear Model Regression Results</caption>\n",
       "<tr>\n",
       "  <th>Dep. Variable:</th>    <td>burglary_count</td>  <th>  No. Observations:  </th>  <td>   144</td> \n",
       "</tr>\n",
       "<tr>\n",
       "  <th>Model:</th>                  <td>GLM</td>       <th>  Df Residuals:      </th>  <td>   142</td> \n",
       "</tr>\n",
       "<tr>\n",
       "  <th>Model Family:</th>         <td>Poisson</td>     <th>  Df Model:          </th>  <td>     1</td> \n",
       "</tr>\n",
       "<tr>\n",
       "  <th>Link Function:</th>          <td>log</td>       <th>  Scale:             </th> <td>  1.0000</td>\n",
       "</tr>\n",
       "<tr>\n",
       "  <th>Method:</th>                <td>IRLS</td>       <th>  Log-Likelihood:    </th> <td> -258.55</td>\n",
       "</tr>\n",
       "<tr>\n",
       "  <th>Date:</th>            <td>Sun, 10 Oct 2021</td> <th>  Deviance:          </th> <td>  112.10</td>\n",
       "</tr>\n",
       "<tr>\n",
       "  <th>Time:</th>                <td>14:07:58</td>     <th>  Pearson chi2:      </th>  <td>  116.</td> \n",
       "</tr>\n",
       "<tr>\n",
       "  <th>No. Iterations:</th>          <td>5</td>        <th>  Pseudo R-squ. (CS):</th>  <td>0.1149</td> \n",
       "</tr>\n",
       "<tr>\n",
       "  <th>Covariance Type:</th>     <td>nonrobust</td>    <th>                     </th>     <td> </td>   \n",
       "</tr>\n",
       "</table>\n",
       "<table class=\"simpletable\">\n",
       "<tr>\n",
       "        <td></td>           <th>coef</th>     <th>std err</th>      <th>z</th>      <th>P>|z|</th>  <th>[0.025</th>    <th>0.975]</th>  \n",
       "</tr>\n",
       "<tr>\n",
       "  <th>const</th>         <td>   -6.8103</td> <td>    0.138</td> <td>  -49.177</td> <td> 0.000</td> <td>   -7.082</td> <td>   -6.539</td>\n",
       "</tr>\n",
       "<tr>\n",
       "  <th>median_income</th> <td>-8.807e-06</td> <td>  2.2e-06</td> <td>   -4.001</td> <td> 0.000</td> <td>-1.31e-05</td> <td>-4.49e-06</td>\n",
       "</tr>\n",
       "</table>"
      ],
      "text/plain": [
       "<class 'statsmodels.iolib.summary.Summary'>\n",
       "\"\"\"\n",
       "                 Generalized Linear Model Regression Results                  \n",
       "==============================================================================\n",
       "Dep. Variable:         burglary_count   No. Observations:                  144\n",
       "Model:                            GLM   Df Residuals:                      142\n",
       "Model Family:                 Poisson   Df Model:                            1\n",
       "Link Function:                    log   Scale:                          1.0000\n",
       "Method:                          IRLS   Log-Likelihood:                -258.55\n",
       "Date:                Sun, 10 Oct 2021   Deviance:                       112.10\n",
       "Time:                        14:07:58   Pearson chi2:                     116.\n",
       "No. Iterations:                     5   Pseudo R-squ. (CS):             0.1149\n",
       "Covariance Type:            nonrobust                                         \n",
       "=================================================================================\n",
       "                    coef    std err          z      P>|z|      [0.025      0.975]\n",
       "---------------------------------------------------------------------------------\n",
       "const            -6.8103      0.138    -49.177      0.000      -7.082      -6.539\n",
       "median_income -8.807e-06    2.2e-06     -4.001      0.000   -1.31e-05   -4.49e-06\n",
       "=================================================================================\n",
       "\"\"\""
      ]
     },
     "execution_count": 263,
     "metadata": {},
     "output_type": "execute_result"
    }
   ],
   "source": [
    "burg_income_pois =  (sm.GLM(endog = tract_pop_income['burglary_count'],\n",
    "                              exog = sm.add_constant(tract_pop_income['median_income']),\n",
    "                              family = sm.families.Poisson(),\n",
    "                              offset = tract_pop_income['log_population'])\n",
    "                       .fit()\n",
    " )\n",
    "burg_income_pois.summary()\n"
   ]
  },
  {
   "cell_type": "code",
   "execution_count": 265,
   "id": "f06664c6",
   "metadata": {},
   "outputs": [
    {
     "name": "stderr",
     "output_type": "stream",
     "text": [
      "C:\\Users\\Conrad\\anaconda3\\envs\\geospatial\\lib\\site-packages\\seaborn\\_decorators.py:36: FutureWarning: Pass the following variables as keyword args: x, y. From version 0.12, the only valid positional argument will be `data`, and passing other arguments without an explicit keyword will result in an error or misinterpretation.\n",
      "  warnings.warn(\n"
     ]
    },
    {
     "data": {
      "image/png": "[encoded data removed]",
      "text/plain": [
       "<Figure size 432x288 with 1 Axes>"
      ]
     },
     "metadata": {
      "needs_background": "light"
     },
     "output_type": "display_data"
    }
   ],
   "source": [
    "tract_pop_income['fit_values'] = burg_income_pois.fittedvalues\n",
    "\n",
    "sns.regplot('median_income', 'fit_values',\n",
    "                data = tract_pop_income);"
   ]
  },
  {
   "cell_type": "code",
   "execution_count": 266,
   "id": "43a2e04e",
   "metadata": {},
   "outputs": [
    {
     "data": {
      "text/plain": [
       "1.1023287569419777"
      ]
     },
     "execution_count": 266,
     "metadata": {},
     "output_type": "execute_result"
    }
   ],
   "source": [
    "#fill\n",
    "np.exp(poisreg_burglaries.params['const'])\n",
    "#full_like\n"
   ]
  },
  {
   "cell_type": "code",
   "execution_count": 267,
   "id": "97687da3",
   "metadata": {},
   "outputs": [],
   "source": [
    "line = np.linspace(0, 3, num=200)"
   ]
  },
  {
   "cell_type": "code",
   "execution_count": 268,
   "id": "81d9ab40",
   "metadata": {},
   "outputs": [
    {
     "name": "stderr",
     "output_type": "stream",
     "text": [
      "C:\\Users\\Conrad\\anaconda3\\envs\\geospatial\\lib\\site-packages\\seaborn\\_decorators.py:36: FutureWarning: Pass the following variables as keyword args: x, y. From version 0.12, the only valid positional argument will be `data`, and passing other arguments without an explicit keyword will result in an error or misinterpretation.\n",
      "  warnings.warn(\n"
     ]
    },
    {
     "data": {
      "text/plain": [
       "<AxesSubplot:>"
      ]
     },
     "execution_count": 268,
     "metadata": {},
     "output_type": "execute_result"
    },
    {
     "data": {
      "image/png": "[encoded data removed]",
      "text/plain": [
       "<Figure size 432x288 with 1 Axes>"
      ]
     },
     "metadata": {
      "needs_background": "light"
     },
     "output_type": "display_data"
    }
   ],
   "source": [
    "y = np.full_like(line, np.exp(burg_income_pois.params['const']))\n",
    "\n",
    "sns.scatterplot(line, y)"
   ]
  },
  {
   "cell_type": "markdown",
   "id": "d4bfcd04",
   "metadata": {},
   "source": [
    "numpy.linspace(start, stop, num=50, endpoint=True, retstep=False, dtype=None, axis=0)\n",
    "numpy.full_like(a, fill_value, dtype=None, order='K', subok=True, shape=None)\n",
    "np.exp(poisreg_burglaries.params['const'])\n",
    "\n",
    "https://seaborn.pydata.org/generated/seaborn.regplot.html\n"
   ]
  },
  {
   "cell_type": "code",
   "execution_count": 269,
   "id": "4c49c328",
   "metadata": {
    "scrolled": true
   },
   "outputs": [
    {
     "data": {
      "text/html": [
       "<table class=\"simpletable\">\n",
       "<caption>Generalized Linear Model Regression Results</caption>\n",
       "<tr>\n",
       "  <th>Dep. Variable:</th>    <td>burglary_count</td>  <th>  No. Observations:  </th>  <td>   144</td> \n",
       "</tr>\n",
       "<tr>\n",
       "  <th>Model:</th>                  <td>GLM</td>       <th>  Df Residuals:      </th>  <td>   142</td> \n",
       "</tr>\n",
       "<tr>\n",
       "  <th>Model Family:</th>         <td>Poisson</td>     <th>  Df Model:          </th>  <td>     1</td> \n",
       "</tr>\n",
       "<tr>\n",
       "  <th>Link Function:</th>          <td>log</td>       <th>  Scale:             </th> <td>  1.0000</td>\n",
       "</tr>\n",
       "<tr>\n",
       "  <th>Method:</th>                <td>IRLS</td>       <th>  Log-Likelihood:    </th> <td> -258.55</td>\n",
       "</tr>\n",
       "<tr>\n",
       "  <th>Date:</th>            <td>Sun, 10 Oct 2021</td> <th>  Deviance:          </th> <td>  112.10</td>\n",
       "</tr>\n",
       "<tr>\n",
       "  <th>Time:</th>                <td>14:08:02</td>     <th>  Pearson chi2:      </th>  <td>  116.</td> \n",
       "</tr>\n",
       "<tr>\n",
       "  <th>No. Iterations:</th>          <td>5</td>        <th>  Pseudo R-squ. (CS):</th>  <td>0.1149</td> \n",
       "</tr>\n",
       "<tr>\n",
       "  <th>Covariance Type:</th>     <td>nonrobust</td>    <th>                     </th>     <td> </td>   \n",
       "</tr>\n",
       "</table>\n",
       "<table class=\"simpletable\">\n",
       "<tr>\n",
       "        <td></td>           <th>coef</th>     <th>std err</th>      <th>z</th>      <th>P>|z|</th>  <th>[0.025</th>    <th>0.975]</th>  \n",
       "</tr>\n",
       "<tr>\n",
       "  <th>Intercept</th>     <td>   -6.8103</td> <td>    0.138</td> <td>  -49.177</td> <td> 0.000</td> <td>   -7.082</td> <td>   -6.539</td>\n",
       "</tr>\n",
       "<tr>\n",
       "  <th>median_income</th> <td>-8.807e-06</td> <td>  2.2e-06</td> <td>   -4.001</td> <td> 0.000</td> <td>-1.31e-05</td> <td>-4.49e-06</td>\n",
       "</tr>\n",
       "</table>"
      ],
      "text/plain": [
       "<class 'statsmodels.iolib.summary.Summary'>\n",
       "\"\"\"\n",
       "                 Generalized Linear Model Regression Results                  \n",
       "==============================================================================\n",
       "Dep. Variable:         burglary_count   No. Observations:                  144\n",
       "Model:                            GLM   Df Residuals:                      142\n",
       "Model Family:                 Poisson   Df Model:                            1\n",
       "Link Function:                    log   Scale:                          1.0000\n",
       "Method:                          IRLS   Log-Likelihood:                -258.55\n",
       "Date:                Sun, 10 Oct 2021   Deviance:                       112.10\n",
       "Time:                        14:08:02   Pearson chi2:                     116.\n",
       "No. Iterations:                     5   Pseudo R-squ. (CS):             0.1149\n",
       "Covariance Type:            nonrobust                                         \n",
       "=================================================================================\n",
       "                    coef    std err          z      P>|z|      [0.025      0.975]\n",
       "---------------------------------------------------------------------------------\n",
       "Intercept        -6.8103      0.138    -49.177      0.000      -7.082      -6.539\n",
       "median_income -8.807e-06    2.2e-06     -4.001      0.000   -1.31e-05   -4.49e-06\n",
       "=================================================================================\n",
       "\"\"\""
      ]
     },
     "metadata": {},
     "output_type": "display_data"
    }
   ],
   "source": [
    "expr = \"\"\"burglary_count ~ median_income\"\"\"\n",
    "\n",
    "y_train, X_train = dmatrices(expr, tract_pop_income, return_type='dataframe')\n",
    "\n",
    "poisson_training_results = (sm.GLM(y_train, X_train, \n",
    "                                   family=sm.families.Poisson(),\n",
    "                                   offset = tract_pop_income['log_population'])\n",
    "                            .fit())                                    \n",
    "display(poisson_training_results.summary())\n"
   ]
  },
  {
   "cell_type": "code",
   "execution_count": 270,
   "id": "3713b65d",
   "metadata": {},
   "outputs": [
    {
     "name": "stdout",
     "output_type": "stream",
     "text": [
      "[1.84015849 2.76559151 2.13374034 2.63502465 2.36906241 3.5240911\n",
      " 3.60507079 5.58109991 3.37574549 3.71109499 3.38100809 2.94710603\n",
      " 3.08181335 2.67853844 3.77627789 2.7350592  2.14358055 4.56515872\n",
      " 2.87929537 5.08725034 1.81303622 2.08700651 2.48149514 4.16143755\n",
      " 3.25203102 2.30775559 3.0806472  3.58817505 2.02460922 1.77715711\n",
      " 0.99503733 1.0328019  1.55438681 4.998683   1.9625119  4.4860736\n",
      " 3.30783335 1.54219301 2.03729989 2.07845317 2.39945827 2.32570794\n",
      " 2.88660238 5.25739358 1.66038983 1.37291452 1.809239   1.50231144\n",
      " 1.59893107 3.17669484 2.47154093 1.58608627 3.63142398 3.42816245\n",
      " 2.81343928 3.11333766 2.14599071 2.78887344 2.95187659 5.33362624\n",
      " 4.91788607 4.15537586 2.77821409 4.09838623 1.57848426 4.45936404\n",
      " 2.92410255 4.96889599 2.17635742 4.06291464 3.44916115 3.77589331\n",
      " 4.77224564 1.90411227 2.67602663 4.87862946 3.15938776 6.89832225\n",
      " 1.14770623 4.47842979 2.31591627 3.03581318 2.6828786  0.75146541\n",
      " 1.69051779 2.66735425 1.805498   3.26439782 3.30240758 2.06924493\n",
      " 2.14471189 2.34977019 1.87834806 1.60220043 0.98504536 2.28418831\n",
      " 1.67807045 4.12484795 2.37604439 0.82942811 2.22222957 2.86211799\n",
      " 2.2618066  1.78022891 2.02803746 4.28597876 1.94233533 1.29071927\n",
      " 4.79782432 4.20688039 4.80783331 2.83114824 2.13576416 2.16900133\n",
      " 2.29256269 0.51597823 0.87846211 2.66653718 1.94763127 1.90207763\n",
      " 2.10673838 1.51373795 2.42510627 2.02746907 3.26681125 3.53518164\n",
      " 3.83925906 4.56223147 2.60999856 2.91519422 3.79517793 2.47515559\n",
      " 3.20150541 2.69634193 6.96237755 1.5489086  3.54451048 2.88219135\n",
      " 4.38684823 2.65034631 3.33231239 3.13030755 4.51276073 2.51793609]\n",
      "144\n"
     ]
    }
   ],
   "source": [
    "print(poisson_training_results.mu)\n",
    "print(len(poisson_training_results.mu))"
   ]
  },
  {
   "cell_type": "code",
   "execution_count": 271,
   "id": "f1c1bc0f",
   "metadata": {},
   "outputs": [
    {
     "name": "stdout",
     "output_type": "stream",
     "text": [
      "burglary_lambda   -1.0\n",
      "dtype: float64\n"
     ]
    }
   ],
   "source": [
    "tract_pop_income['burglary_lambda'] = poisson_training_results.mu\n",
    "\n",
    "tract_pop_income['aux_OLS_dep'] = (tract_pop_income.apply(\n",
    "    lambda x: ((x['burglary_count'] - x['burglary_lambda']**2) - x['burglary_lambda']) / \n",
    "              x['burglary_lambda'], axis=1))\n",
    "\n",
    "ols_expr = \"\"\"aux_OLS_dep ~ burglary_lambda -1\"\"\"\n",
    "\n",
    "aux_olsr_results = smf.ols(ols_expr, tract_pop_income).fit()\n",
    "\n",
    "print(aux_olsr_results.params)"
   ]
  },
  {
   "cell_type": "code",
   "execution_count": 201,
   "id": "218eb821",
   "metadata": {},
   "outputs": [
    {
     "data": {
      "text/plain": [
       "burglary_lambda   -60.876449\n",
       "dtype: float64"
      ]
     },
     "execution_count": 201,
     "metadata": {},
     "output_type": "execute_result"
    }
   ],
   "source": [
    "aux_olsr_results.tvalues"
   ]
  },
  {
   "cell_type": "code",
   "execution_count": 278,
   "id": "7fee20b2",
   "metadata": {},
   "outputs": [
    {
     "ename": "ValueError",
     "evalue": "The first guess on the deviance function returned a nan.  This could be a boundary  problem and should be reported.",
     "output_type": "error",
     "traceback": [
      "\u001b[1;31m--------------------------------------------------------------------------\u001b[0m",
      "\u001b[1;31mValueError\u001b[0m                               Traceback (most recent call last)",
      "\u001b[1;32m~\\AppData\\Local\\Temp/ipykernel_26144/2709949320.py\u001b[0m in \u001b[0;36m<module>\u001b[1;34m\u001b[0m\n\u001b[1;32m----> 1\u001b[1;33m nb2_training_results = (sm.GLM(y_train, X_train,\n\u001b[0m\u001b[0;32m      2\u001b[0m                               \u001b[0mfamily\u001b[0m\u001b[1;33m=\u001b[0m\u001b[0msm\u001b[0m\u001b[1;33m.\u001b[0m\u001b[0mfamilies\u001b[0m\u001b[1;33m.\u001b[0m\u001b[0mNegativeBinomial\u001b[0m\u001b[1;33m(\u001b[0m\u001b[0malpha\u001b[0m\u001b[1;33m=\u001b[0m\u001b[0maux_olsr_results\u001b[0m\u001b[1;33m.\u001b[0m\u001b[0mparams\u001b[0m\u001b[1;33m[\u001b[0m\u001b[1;36m0\u001b[0m\u001b[1;33m]\u001b[0m\u001b[1;33m)\u001b[0m\u001b[1;33m,\u001b[0m\u001b[1;33m\u001b[0m\u001b[1;33m\u001b[0m\u001b[0m\n\u001b[0;32m      3\u001b[0m                               offset = tract_pop_income['log_population'])\n\u001b[0;32m      4\u001b[0m                         .fit())\n\u001b[0;32m      5\u001b[0m \u001b[0mnb2_training_results\u001b[0m\u001b[1;33m.\u001b[0m\u001b[0msummary\u001b[0m\u001b[1;33m(\u001b[0m\u001b[1;33m)\u001b[0m\u001b[1;33m\u001b[0m\u001b[1;33m\u001b[0m\u001b[0m\n",
      "\u001b[1;32m~\\anaconda3\\envs\\geospatial\\lib\\site-packages\\statsmodels\\genmod\\generalized_linear_model.py\u001b[0m in \u001b[0;36mfit\u001b[1;34m(self, start_params, maxiter, method, tol, scale, cov_type, cov_kwds, use_t, full_output, disp, max_start_irls, **kwargs)\u001b[0m\n\u001b[0;32m   1073\u001b[0m             \u001b[1;32mif\u001b[0m \u001b[0mcov_type\u001b[0m\u001b[1;33m.\u001b[0m\u001b[0mlower\u001b[0m\u001b[1;33m(\u001b[0m\u001b[1;33m)\u001b[0m \u001b[1;33m==\u001b[0m \u001b[1;34m'eim'\u001b[0m\u001b[1;33m:\u001b[0m\u001b[1;33m\u001b[0m\u001b[1;33m\u001b[0m\u001b[0m\n\u001b[0;32m   1074\u001b[0m                 \u001b[0mcov_type\u001b[0m \u001b[1;33m=\u001b[0m \u001b[1;34m'nonrobust'\u001b[0m\u001b[1;33m\u001b[0m\u001b[1;33m\u001b[0m\u001b[0m\n\u001b[1;32m-> 1075\u001b[1;33m             return self._fit_irls(start_params=start_params, maxiter=maxiter,\n\u001b[0m\u001b[0;32m   1076\u001b[0m                                   \u001b[0mtol\u001b[0m\u001b[1;33m=\u001b[0m\u001b[0mtol\u001b[0m\u001b[1;33m,\u001b[0m \u001b[0mscale\u001b[0m\u001b[1;33m=\u001b[0m\u001b[0mscale\u001b[0m\u001b[1;33m,\u001b[0m \u001b[0mcov_type\u001b[0m\u001b[1;33m=\u001b[0m\u001b[0mcov_type\u001b[0m\u001b[1;33m,\u001b[0m\u001b[1;33m\u001b[0m\u001b[1;33m\u001b[0m\u001b[0m\n\u001b[0;32m   1077\u001b[0m                                   cov_kwds=cov_kwds, use_t=use_t, **kwargs)\n",
      "\u001b[1;32m~\\anaconda3\\envs\\geospatial\\lib\\site-packages\\statsmodels\\genmod\\generalized_linear_model.py\u001b[0m in \u001b[0;36m_fit_irls\u001b[1;34m(self, start_params, maxiter, tol, scale, cov_type, cov_kwds, use_t, **kwargs)\u001b[0m\n\u001b[0;32m   1190\u001b[0m                                    self.freq_weights, self.scale)\n\u001b[0;32m   1191\u001b[0m         \u001b[1;32mif\u001b[0m \u001b[0mnp\u001b[0m\u001b[1;33m.\u001b[0m\u001b[0misnan\u001b[0m\u001b[1;33m(\u001b[0m\u001b[0mdev\u001b[0m\u001b[1;33m)\u001b[0m\u001b[1;33m:\u001b[0m\u001b[1;33m\u001b[0m\u001b[1;33m\u001b[0m\u001b[0m\n\u001b[1;32m-> 1192\u001b[1;33m             raise ValueError(\"The first guess on the deviance function \"\n\u001b[0m\u001b[0;32m   1193\u001b[0m                              \u001b[1;34m\"returned a nan.  This could be a boundary \"\u001b[0m\u001b[1;33m\u001b[0m\u001b[1;33m\u001b[0m\u001b[0m\n\u001b[0;32m   1194\u001b[0m                              \" problem and should be reported.\")\n",
      "\u001b[1;31mValueError\u001b[0m: The first guess on the deviance function returned a nan.  This could be a boundary  problem and should be reported."
     ]
    }
   ],
   "source": [
    "nb2_training_results = (sm.GLM(y_train, X_train,\n",
    "                              family=sm.families.NegativeBinomial(alpha=aux_olsr_results.params[0]),\n",
    "                              offset = tract_pop_income['log_population'])\n",
    "                        .fit())\n",
    "nb2_training_results.summary()"
   ]
  }
 ],
 "metadata": {
  "kernelspec": {
   "display_name": "Python 3 (ipykernel)",
   "language": "python",
   "name": "python3"
  },
  "language_info": {
   "codemirror_mode": {
    "name": "ipython",
    "version": 3
   },
   "file_extension": ".py",
   "mimetype": "text/x-python",
   "name": "python",
   "nbconvert_exporter": "python",
   "pygments_lexer": "ipython3",
   "version": "3.8.5"
  }
 },
 "nbformat": 4,
 "nbformat_minor": 5
}
